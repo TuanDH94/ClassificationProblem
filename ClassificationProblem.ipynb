{
 "cells": [
  {
   "cell_type": "code",
   "execution_count": 21,
   "metadata": {},
   "outputs": [],
   "source": [
    "import pandas as pd\n",
    "import numpy as np\n",
    "import sklearn\n",
    "import xgboost as xgb\n",
    "import lightgbm as lgb\n",
    "from sklearn.metrics import roc_auc_score\n"
   ]
  },
  {
   "cell_type": "code",
   "execution_count": 2,
   "metadata": {},
   "outputs": [],
   "source": [
    "data = pd.read_csv('data/basedata.csv')"
   ]
  },
  {
   "cell_type": "code",
   "execution_count": 3,
   "metadata": {},
   "outputs": [
    {
     "name": "stdout",
     "output_type": "stream",
     "text": [
      "<class 'pandas.core.frame.DataFrame'>\n",
      "RangeIndex: 4472 entries, 0 to 4471\n",
      "Columns: 242 entries, chembl_id to activity_score\n",
      "dtypes: float64(116), int64(124), object(2)\n",
      "memory usage: 8.3+ MB\n"
     ]
    }
   ],
   "source": [
    "data.info()"
   ]
  },
  {
   "cell_type": "code",
   "execution_count": 11,
   "metadata": {},
   "outputs": [],
   "source": [
    "# for col in data.columns:\n",
    "#     print(data[col].info(), '\\n')"
   ]
  },
  {
   "cell_type": "code",
   "execution_count": 7,
   "metadata": {},
   "outputs": [],
   "source": [
    "target = data.activity_score\n",
    "target.value_counts()\n",
    "train_cols = [col for col in data.columns if col not in ['smiles', 'chembl_id', 'activity_score']]"
   ]
  },
  {
   "cell_type": "code",
   "execution_count": 12,
   "metadata": {},
   "outputs": [
    {
     "name": "stdout",
     "output_type": "stream",
     "text": [
      "(4472, 239) (4472,)\n"
     ]
    }
   ],
   "source": [
    "# BASE LINE XGBOOST\n",
    "train_X = data[train_cols]\n",
    "train_y = target\n",
    "print(train_X.shape, train_y.shape)"
   ]
  },
  {
   "cell_type": "code",
   "execution_count": 59,
   "metadata": {},
   "outputs": [],
   "source": [
    "from sklearn.preprocessing import StandardScaler\n"
   ]
  },
  {
   "cell_type": "code",
   "execution_count": 14,
   "metadata": {},
   "outputs": [],
   "source": [
    "from sklearn.model_selection import StratifiedKFold\n"
   ]
  },
  {
   "cell_type": "code",
   "execution_count": 34,
   "metadata": {},
   "outputs": [
    {
     "name": "stdout",
     "output_type": "stream",
     "text": [
      "|   iter    |  target   | baggin... | featur... | lambda_l1 | lambda_l2 | learni... | max_depth | min_da... | num_le... |\n",
      "-------------------------------------------------------------------------------------------------------------------------\n",
      "fold n°0\n",
      "Training until validation scores don't improve for 500 rounds\n"
     ]
    },
    {
     "name": "stderr",
     "output_type": "stream",
     "text": [
      "e:\\sources\\aiproject\\venv\\lib\\site-packages\\lightgbm\\engine.py:148: UserWarning: Found `n_estimators` in params. Will use it instead of argument\n",
      "  warnings.warn(\"Found `{}` in params. Will use it instead of argument\".format(alias))\n"
     ]
    },
    {
     "name": "stdout",
     "output_type": "stream",
     "text": [
      "[100]\ttraining's auc: 0.933698\tvalid_1's auc: 0.741975\n",
      "[200]\ttraining's auc: 0.962001\tvalid_1's auc: 0.759308\n",
      "[300]\ttraining's auc: 0.981091\tvalid_1's auc: 0.761246\n",
      "[400]\ttraining's auc: 0.990373\tvalid_1's auc: 0.75595\n",
      "[500]\ttraining's auc: 0.996364\tvalid_1's auc: 0.754804\n",
      "[600]\ttraining's auc: 0.998554\tvalid_1's auc: 0.751447\n",
      "[700]\ttraining's auc: 0.9996\tvalid_1's auc: 0.748144\n",
      "Early stopping, best iteration is:\n",
      "[234]\ttraining's auc: 0.969301\tvalid_1's auc: 0.763348\n",
      "fold n°1\n",
      "Training until validation scores don't improve for 500 rounds\n"
     ]
    },
    {
     "name": "stderr",
     "output_type": "stream",
     "text": [
      "e:\\sources\\aiproject\\venv\\lib\\site-packages\\lightgbm\\engine.py:148: UserWarning: Found `n_estimators` in params. Will use it instead of argument\n",
      "  warnings.warn(\"Found `{}` in params. Will use it instead of argument\".format(alias))\n"
     ]
    },
    {
     "name": "stdout",
     "output_type": "stream",
     "text": [
      "[100]\ttraining's auc: 0.937917\tvalid_1's auc: 0.773742\n",
      "[200]\ttraining's auc: 0.963681\tvalid_1's auc: 0.78138\n",
      "[300]\ttraining's auc: 0.980628\tvalid_1's auc: 0.783383\n",
      "[400]\ttraining's auc: 0.989838\tvalid_1's auc: 0.791315\n",
      "[500]\ttraining's auc: 0.994672\tvalid_1's auc: 0.795615\n",
      "[600]\ttraining's auc: 0.996979\tvalid_1's auc: 0.797404\n",
      "[700]\ttraining's auc: 0.998273\tvalid_1's auc: 0.796843\n",
      "[800]\ttraining's auc: 0.99934\tvalid_1's auc: 0.797805\n",
      "[900]\ttraining's auc: 0.99976\tvalid_1's auc: 0.799647\n",
      "[1000]\ttraining's auc: 0.999946\tvalid_1's auc: 0.800636\n",
      "[1100]\ttraining's auc: 0.999987\tvalid_1's auc: 0.800983\n",
      "[1200]\ttraining's auc: 0.999997\tvalid_1's auc: 0.802131\n",
      "[1300]\ttraining's auc: 0.999997\tvalid_1's auc: 0.80344\n",
      "[1400]\ttraining's auc: 0.999997\tvalid_1's auc: 0.801837\n",
      "[1500]\ttraining's auc: 0.999999\tvalid_1's auc: 0.80101\n",
      "Did not meet early stopping. Best iteration is:\n",
      "[1459]\ttraining's auc: 0.999999\tvalid_1's auc: 0.801116\n",
      "fold n°2\n",
      "Training until validation scores don't improve for 500 rounds"
     ]
    },
    {
     "name": "stderr",
     "output_type": "stream",
     "text": [
      "e:\\sources\\aiproject\\venv\\lib\\site-packages\\lightgbm\\engine.py:148: UserWarning: Found `n_estimators` in params. Will use it instead of argument\n",
      "  warnings.warn(\"Found `{}` in params. Will use it instead of argument\".format(alias))\n"
     ]
    },
    {
     "name": "stdout",
     "output_type": "stream",
     "text": [
      "\n",
      "[100]\ttraining's auc: 0.937863\tvalid_1's auc: 0.73126\n",
      "[200]\ttraining's auc: 0.962269\tvalid_1's auc: 0.737655\n",
      "[300]\ttraining's auc: 0.979715\tvalid_1's auc: 0.741617\n",
      "[400]\ttraining's auc: 0.989706\tvalid_1's auc: 0.744295\n",
      "[500]\ttraining's auc: 0.995503\tvalid_1's auc: 0.745552\n",
      "[600]\ttraining's auc: 0.998364\tvalid_1's auc: 0.747875\n",
      "[700]\ttraining's auc: 0.99952\tvalid_1's auc: 0.749105\n",
      "[800]\ttraining's auc: 0.99989\tvalid_1's auc: 0.751592\n",
      "[900]\ttraining's auc: 0.999973\tvalid_1's auc: 0.752002\n",
      "[1000]\ttraining's auc: 0.999993\tvalid_1's auc: 0.752466\n",
      "[1100]\ttraining's auc: 1\tvalid_1's auc: 0.754871\n",
      "[1200]\ttraining's auc: 1\tvalid_1's auc: 0.755773\n",
      "[1300]\ttraining's auc: 1\tvalid_1's auc: 0.757795\n",
      "[1400]\ttraining's auc: 1\tvalid_1's auc: 0.759408\n",
      "[1500]\ttraining's auc: 1\tvalid_1's auc: 0.759408\n",
      "Did not meet early stopping. Best iteration is:\n",
      "[1092]\ttraining's auc: 1\tvalid_1's auc: 0.754844\n",
      "fold n°3\n"
     ]
    },
    {
     "name": "stderr",
     "output_type": "stream",
     "text": [
      "e:\\sources\\aiproject\\venv\\lib\\site-packages\\lightgbm\\engine.py:148: UserWarning: Found `n_estimators` in params. Will use it instead of argument\n",
      "  warnings.warn(\"Found `{}` in params. Will use it instead of argument\".format(alias))\n"
     ]
    },
    {
     "name": "stdout",
     "output_type": "stream",
     "text": [
      "Training until validation scores don't improve for 500 rounds\n",
      "[100]\ttraining's auc: 0.934068\tvalid_1's auc: 0.769355\n",
      "[200]\ttraining's auc: 0.96189\tvalid_1's auc: 0.776569\n",
      "[300]\ttraining's auc: 0.980006\tvalid_1's auc: 0.7828\n",
      "[400]\ttraining's auc: 0.990681\tvalid_1's auc: 0.785423\n",
      "[500]\ttraining's auc: 0.995392\tvalid_1's auc: 0.787227\n",
      "[600]\ttraining's auc: 0.998149\tvalid_1's auc: 0.788949\n",
      "[700]\ttraining's auc: 0.999407\tvalid_1's auc: 0.788867\n",
      "[800]\ttraining's auc: 0.999807\tvalid_1's auc: 0.789905\n",
      "[900]\ttraining's auc: 0.999931\tvalid_1's auc: 0.791299\n",
      "[1000]\ttraining's auc: 0.999975\tvalid_1's auc: 0.79078\n",
      "[1100]\ttraining's auc: 0.999984\tvalid_1's auc: 0.78832\n",
      "[1200]\ttraining's auc: 0.999992\tvalid_1's auc: 0.790014\n",
      "[1300]\ttraining's auc: 0.999996\tvalid_1's auc: 0.791436\n",
      "[1400]\ttraining's auc: 0.999997\tvalid_1's auc: 0.79119\n",
      "[1500]\ttraining's auc: 0.999997\tvalid_1's auc: 0.791572\n",
      "Did not meet early stopping. Best iteration is:\n",
      "[1358]\ttraining's auc: 0.999997\tvalid_1's auc: 0.790889\n",
      "fold n°4\n",
      "Training until validation scores don't improve for 500 rounds"
     ]
    },
    {
     "name": "stderr",
     "output_type": "stream",
     "text": [
      "e:\\sources\\aiproject\\venv\\lib\\site-packages\\lightgbm\\engine.py:148: UserWarning: Found `n_estimators` in params. Will use it instead of argument\n",
      "  warnings.warn(\"Found `{}` in params. Will use it instead of argument\".format(alias))\n"
     ]
    },
    {
     "name": "stdout",
     "output_type": "stream",
     "text": [
      "\n",
      "[100]\ttraining's auc: 0.940462\tvalid_1's auc: 0.738065\n",
      "[200]\ttraining's auc: 0.965418\tvalid_1's auc: 0.742273\n",
      "[300]\ttraining's auc: 0.981617\tvalid_1's auc: 0.746946\n",
      "[400]\ttraining's auc: 0.99048\tvalid_1's auc: 0.749679\n",
      "[500]\ttraining's auc: 0.99577\tvalid_1's auc: 0.752876\n",
      "[600]\ttraining's auc: 0.998506\tvalid_1's auc: 0.752248\n",
      "[700]\ttraining's auc: 0.999518\tvalid_1's auc: 0.752958\n",
      "[800]\ttraining's auc: 0.999871\tvalid_1's auc: 0.753204\n",
      "[900]\ttraining's auc: 0.999975\tvalid_1's auc: 0.75315\n",
      "[1000]\ttraining's auc: 0.999993\tvalid_1's auc: 0.753778\n",
      "[1100]\ttraining's auc: 1\tvalid_1's auc: 0.754571\n",
      "[1200]\ttraining's auc: 1\tvalid_1's auc: 0.755855\n",
      "[1300]\ttraining's auc: 1\tvalid_1's auc: 0.756046\n",
      "[1400]\ttraining's auc: 1\tvalid_1's auc: 0.756347\n",
      "[1500]\ttraining's auc: 1\tvalid_1's auc: 0.755254\n",
      "Did not meet early stopping. Best iteration is:\n",
      "[1033]\ttraining's auc: 1\tvalid_1's auc: 0.753614\n",
      "| \u001b[0m 1       \u001b[0m | \u001b[0m 0.7728  \u001b[0m | \u001b[0m 0.8495  \u001b[0m | \u001b[0m 0.8766  \u001b[0m | \u001b[0m 0.005474\u001b[0m | \u001b[0m 3.146   \u001b[0m | \u001b[0m 0.008707\u001b[0m | \u001b[0m 8.416   \u001b[0m | \u001b[0m 85.12   \u001b[0m | \u001b[0m 99.77   \u001b[0m |\n",
      "fold n°0\n",
      "Training until validation scores don't improve for 500 rounds\n"
     ]
    },
    {
     "name": "stderr",
     "output_type": "stream",
     "text": [
      "e:\\sources\\aiproject\\venv\\lib\\site-packages\\lightgbm\\engine.py:148: UserWarning: Found `n_estimators` in params. Will use it instead of argument\n",
      "  warnings.warn(\"Found `{}` in params. Will use it instead of argument\".format(alias))\n"
     ]
    },
    {
     "name": "stdout",
     "output_type": "stream",
     "text": [
      "[100]\ttraining's auc: 0.942656\tvalid_1's auc: 0.719702\n",
      "[200]\ttraining's auc: 0.963196\tvalid_1's auc: 0.74697\n",
      "[300]\ttraining's auc: 0.97691\tvalid_1's auc: 0.759472\n",
      "[400]\ttraining's auc: 0.985465\tvalid_1's auc: 0.762365\n",
      "[500]\ttraining's auc: 0.991925\tvalid_1's auc: 0.761682\n",
      "[600]\ttraining's auc: 0.995258\tvalid_1's auc: 0.760645\n",
      "[700]\ttraining's auc: 0.997571\tvalid_1's auc: 0.759035\n",
      "[800]\ttraining's auc: 0.998773\tvalid_1's auc: 0.756524\n",
      "[900]\ttraining's auc: 0.9995\tvalid_1's auc: 0.75434\n",
      "[1000]\ttraining's auc: 0.999831\tvalid_1's auc: 0.7497\n",
      "Early stopping, best iteration is:\n",
      "[565]\ttraining's auc: 0.994361\tvalid_1's auc: 0.76332\n",
      "fold n°1\n",
      "Training until validation scores don't improve for 500 rounds\n"
     ]
    },
    {
     "name": "stderr",
     "output_type": "stream",
     "text": [
      "e:\\sources\\aiproject\\venv\\lib\\site-packages\\lightgbm\\engine.py:148: UserWarning: Found `n_estimators` in params. Will use it instead of argument\n",
      "  warnings.warn(\"Found `{}` in params. Will use it instead of argument\".format(alias))\n"
     ]
    },
    {
     "name": "stdout",
     "output_type": "stream",
     "text": [
      "[100]\ttraining's auc: 0.952285\tvalid_1's auc: 0.767586\n",
      "[200]\ttraining's auc: 0.967076\tvalid_1's auc: 0.779698\n",
      "[300]\ttraining's auc: 0.979409\tvalid_1's auc: 0.781941\n",
      "[400]\ttraining's auc: 0.987377\tvalid_1's auc: 0.787362\n",
      "[500]\ttraining's auc: 0.991998\tvalid_1's auc: 0.790541\n",
      "[600]\ttraining's auc: 0.99503\tvalid_1's auc: 0.793665\n",
      "[700]\ttraining's auc: 0.996842\tvalid_1's auc: 0.795775\n",
      "[800]\ttraining's auc: 0.998524\tvalid_1's auc: 0.798125\n",
      "[900]\ttraining's auc: 0.99934\tvalid_1's auc: 0.798793\n",
      "[1000]\ttraining's auc: 0.99975\tvalid_1's auc: 0.798472\n",
      "[1100]\ttraining's auc: 0.999919\tvalid_1's auc: 0.799915\n",
      "[1200]\ttraining's auc: 0.999977\tvalid_1's auc: 0.800529\n",
      "[1300]\ttraining's auc: 0.999989\tvalid_1's auc: 0.799113\n",
      "[1400]\ttraining's auc: 0.999994\tvalid_1's auc: 0.798846\n",
      "[1500]\ttraining's auc: 0.999996\tvalid_1's auc: 0.798846\n",
      "Did not meet early stopping. Best iteration is:\n",
      "[1450]\ttraining's auc: 0.999996\tvalid_1's auc: 0.798739\n",
      "fold n°2\n"
     ]
    },
    {
     "name": "stderr",
     "output_type": "stream",
     "text": [
      "e:\\sources\\aiproject\\venv\\lib\\site-packages\\lightgbm\\engine.py:148: UserWarning: Found `n_estimators` in params. Will use it instead of argument\n",
      "  warnings.warn(\"Found `{}` in params. Will use it instead of argument\".format(alias))\n"
     ]
    },
    {
     "name": "stdout",
     "output_type": "stream",
     "text": [
      "Training until validation scores don't improve for 500 rounds\n",
      "[100]\ttraining's auc: 0.955502\tvalid_1's auc: 0.732954\n",
      "[200]\ttraining's auc: 0.9678\tvalid_1's auc: 0.740797\n",
      "[300]\ttraining's auc: 0.979187\tvalid_1's auc: 0.745798\n",
      "[400]\ttraining's auc: 0.986326\tvalid_1's auc: 0.747821\n",
      "[500]\ttraining's auc: 0.991461\tvalid_1's auc: 0.749269\n",
      "[600]\ttraining's auc: 0.994951\tvalid_1's auc: 0.749788\n",
      "[700]\ttraining's auc: 0.997213\tvalid_1's auc: 0.751592\n",
      "[800]\ttraining's auc: 0.998542\tvalid_1's auc: 0.753751\n",
      "[900]\ttraining's auc: 0.999222\tvalid_1's auc: 0.75274\n",
      "[1000]\ttraining's auc: 0.999713\tvalid_1's auc: 0.753532\n",
      "[1100]\ttraining's auc: 0.999883\tvalid_1's auc: 0.753997\n",
      "[1200]\ttraining's auc: 0.999973\tvalid_1's auc: 0.754844\n",
      "[1300]\ttraining's auc: 0.999981\tvalid_1's auc: 0.755664\n",
      "[1400]\ttraining's auc: 0.999997\tvalid_1's auc: 0.756429\n",
      "[1500]\ttraining's auc: 0.999997\tvalid_1's auc: 0.757167\n",
      "Did not meet early stopping. Best iteration is:\n",
      "[1399]\ttraining's auc: 0.999997\tvalid_1's auc: 0.756374\n",
      "fold n°3\n"
     ]
    },
    {
     "name": "stderr",
     "output_type": "stream",
     "text": [
      "e:\\sources\\aiproject\\venv\\lib\\site-packages\\lightgbm\\engine.py:148: UserWarning: Found `n_estimators` in params. Will use it instead of argument\n",
      "  warnings.warn(\"Found `{}` in params. Will use it instead of argument\".format(alias))\n"
     ]
    },
    {
     "name": "stdout",
     "output_type": "stream",
     "text": [
      "Training until validation scores don't improve for 500 rounds\n",
      "[100]\ttraining's auc: 0.947708\tvalid_1's auc: 0.770721\n",
      "[200]\ttraining's auc: 0.965981\tvalid_1's auc: 0.780259\n",
      "[300]\ttraining's auc: 0.978465\tvalid_1's auc: 0.784166\n",
      "[400]\ttraining's auc: 0.987401\tvalid_1's auc: 0.785669\n",
      "[500]\ttraining's auc: 0.991983\tvalid_1's auc: 0.786653\n",
      "[600]\ttraining's auc: 0.995203\tvalid_1's auc: 0.788511\n",
      "[700]\ttraining's auc: 0.997354\tvalid_1's auc: 0.788675\n",
      "[800]\ttraining's auc: 0.998483\tvalid_1's auc: 0.791354\n",
      "[900]\ttraining's auc: 0.999162\tvalid_1's auc: 0.791654\n",
      "[1000]\ttraining's auc: 0.999615\tvalid_1's auc: 0.791053\n",
      "[1100]\ttraining's auc: 0.999877\tvalid_1's auc: 0.789003\n",
      "[1200]\ttraining's auc: 0.999931\tvalid_1's auc: 0.791053\n",
      "[1300]\ttraining's auc: 0.999969\tvalid_1's auc: 0.792966\n",
      "[1400]\ttraining's auc: 0.999986\tvalid_1's auc: 0.793786\n",
      "[1500]\ttraining's auc: 0.999991\tvalid_1's auc: 0.79384\n",
      "Did not meet early stopping. Best iteration is:\n",
      "[1474]\ttraining's auc: 0.999991\tvalid_1's auc: 0.794141\n",
      "fold n°4\n",
      "Training until validation scores don't improve for 500 rounds"
     ]
    },
    {
     "name": "stderr",
     "output_type": "stream",
     "text": [
      "e:\\sources\\aiproject\\venv\\lib\\site-packages\\lightgbm\\engine.py:148: UserWarning: Found `n_estimators` in params. Will use it instead of argument\n",
      "  warnings.warn(\"Found `{}` in params. Will use it instead of argument\".format(alias))\n"
     ]
    },
    {
     "name": "stdout",
     "output_type": "stream",
     "text": [
      "\n",
      "[100]\ttraining's auc: 0.955479\tvalid_1's auc: 0.752179\n",
      "[200]\ttraining's auc: 0.971073\tvalid_1's auc: 0.751838\n",
      "[300]\ttraining's auc: 0.981537\tvalid_1's auc: 0.750963\n",
      "[400]\ttraining's auc: 0.98819\tvalid_1's auc: 0.75222\n",
      "[500]\ttraining's auc: 0.993074\tvalid_1's auc: 0.751756\n",
      "Early stopping, best iteration is:\n",
      "[18]\ttraining's auc: 0.935572\tvalid_1's auc: 0.758642\n",
      "| \u001b[95m 2       \u001b[0m | \u001b[95m 0.7742  \u001b[0m | \u001b[95m 0.8333  \u001b[0m | \u001b[95m 0.94    \u001b[0m | \u001b[95m 0.877   \u001b[0m | \u001b[95m 1.056   \u001b[0m | \u001b[95m 0.005472\u001b[0m | \u001b[95m 6.529   \u001b[0m | \u001b[95m 48.47   \u001b[0m | \u001b[95m 119.7   \u001b[0m |\n",
      "fold n°0\n",
      "Training until validation scores don't improve for 500 rounds"
     ]
    },
    {
     "name": "stderr",
     "output_type": "stream",
     "text": [
      "e:\\sources\\aiproject\\venv\\lib\\site-packages\\lightgbm\\engine.py:148: UserWarning: Found `n_estimators` in params. Will use it instead of argument\n",
      "  warnings.warn(\"Found `{}` in params. Will use it instead of argument\".format(alias))\n"
     ]
    },
    {
     "name": "stdout",
     "output_type": "stream",
     "text": [
      "\n",
      "[100]\ttraining's auc: 0.94487\tvalid_1's auc: 0.741265\n",
      "[200]\ttraining's auc: 0.966816\tvalid_1's auc: 0.761764\n",
      "[300]\ttraining's auc: 0.981492\tvalid_1's auc: 0.764849\n",
      "[400]\ttraining's auc: 0.98935\tvalid_1's auc: 0.764439\n",
      "[500]\ttraining's auc: 0.994859\tvalid_1's auc: 0.758516\n",
      "[600]\ttraining's auc: 0.997255\tvalid_1's auc: 0.755377\n",
      "[700]\ttraining's auc: 0.999001\tvalid_1's auc: 0.752266\n",
      "[800]\ttraining's auc: 0.99969\tvalid_1's auc: 0.748526\n",
      "Early stopping, best iteration is:\n",
      "[319]\ttraining's auc: 0.98366\tvalid_1's auc: 0.766514\n",
      "fold n°1\n",
      "Training until validation scores don't improve for 500 rounds\n"
     ]
    },
    {
     "name": "stderr",
     "output_type": "stream",
     "text": [
      "e:\\sources\\aiproject\\venv\\lib\\site-packages\\lightgbm\\engine.py:148: UserWarning: Found `n_estimators` in params. Will use it instead of argument\n",
      "  warnings.warn(\"Found `{}` in params. Will use it instead of argument\".format(alias))\n"
     ]
    },
    {
     "name": "stdout",
     "output_type": "stream",
     "text": [
      "[100]\ttraining's auc: 0.950723\tvalid_1's auc: 0.774984\n",
      "[200]\ttraining's auc: 0.969502\tvalid_1's auc: 0.78365\n",
      "[300]\ttraining's auc: 0.98247\tvalid_1's auc: 0.786187\n",
      "[400]\ttraining's auc: 0.990046\tvalid_1's auc: 0.789873\n",
      "[500]\ttraining's auc: 0.99383\tvalid_1's auc: 0.794066\n",
      "[600]\ttraining's auc: 0.996161\tvalid_1's auc: 0.795081\n",
      "[700]\ttraining's auc: 0.997662\tvalid_1's auc: 0.796149\n",
      "[800]\ttraining's auc: 0.998884\tvalid_1's auc: 0.796282\n",
      "[900]\ttraining's auc: 0.999603\tvalid_1's auc: 0.796336\n",
      "[1000]\ttraining's auc: 0.999875\tvalid_1's auc: 0.797297\n",
      "[1100]\ttraining's auc: 0.999967\tvalid_1's auc: 0.797484\n",
      "[1200]\ttraining's auc: 0.999992\tvalid_1's auc: 0.796523\n",
      "[1300]\ttraining's auc: 0.999996\tvalid_1's auc: 0.796656\n",
      "[1400]\ttraining's auc: 0.999996\tvalid_1's auc: 0.795775\n",
      "[1500]\ttraining's auc: 0.999997\tvalid_1's auc: 0.796229\n",
      "Did not meet early stopping. Best iteration is:\n",
      "[1441]\ttraining's auc: 0.999997\tvalid_1's auc: 0.796122\n",
      "fold n°2\n",
      "Training until validation scores don't improve for 500 rounds"
     ]
    },
    {
     "name": "stderr",
     "output_type": "stream",
     "text": [
      "e:\\sources\\aiproject\\venv\\lib\\site-packages\\lightgbm\\engine.py:148: UserWarning: Found `n_estimators` in params. Will use it instead of argument\n",
      "  warnings.warn(\"Found `{}` in params. Will use it instead of argument\".format(alias))\n"
     ]
    },
    {
     "name": "stdout",
     "output_type": "stream",
     "text": [
      "\n",
      "[100]\ttraining's auc: 0.950511\tvalid_1's auc: 0.72768\n",
      "[200]\ttraining's auc: 0.968813\tvalid_1's auc: 0.73607\n",
      "[300]\ttraining's auc: 0.981661\tvalid_1's auc: 0.740907\n",
      "[400]\ttraining's auc: 0.988789\tvalid_1's auc: 0.744596\n",
      "[500]\ttraining's auc: 0.993517\tvalid_1's auc: 0.743995\n",
      "[600]\ttraining's auc: 0.996671\tvalid_1's auc: 0.747821\n",
      "[700]\ttraining's auc: 0.998377\tvalid_1's auc: 0.750827\n",
      "[800]\ttraining's auc: 0.999426\tvalid_1's auc: 0.751619\n",
      "[900]\ttraining's auc: 0.999761\tvalid_1's auc: 0.753286\n",
      "[1000]\ttraining's auc: 0.999946\tvalid_1's auc: 0.754379\n",
      "[1100]\ttraining's auc: 0.999983\tvalid_1's auc: 0.756757\n",
      "[1200]\ttraining's auc: 0.999997\tvalid_1's auc: 0.757194\n",
      "[1300]\ttraining's auc: 0.999997\tvalid_1's auc: 0.758287\n",
      "[1400]\ttraining's auc: 1\tvalid_1's auc: 0.759189\n",
      "[1500]\ttraining's auc: 1\tvalid_1's auc: 0.76061\n",
      "Did not meet early stopping. Best iteration is:\n",
      "[1350]\ttraining's auc: 1\tvalid_1's auc: 0.75826\n",
      "fold n°3\n",
      "Training until validation scores don't improve for 500 rounds"
     ]
    },
    {
     "name": "stderr",
     "output_type": "stream",
     "text": [
      "e:\\sources\\aiproject\\venv\\lib\\site-packages\\lightgbm\\engine.py:148: UserWarning: Found `n_estimators` in params. Will use it instead of argument\n",
      "  warnings.warn(\"Found `{}` in params. Will use it instead of argument\".format(alias))\n"
     ]
    },
    {
     "name": "stdout",
     "output_type": "stream",
     "text": [
      "\n",
      "[100]\ttraining's auc: 0.946182\tvalid_1's auc: 0.769327\n",
      "[200]\ttraining's auc: 0.968614\tvalid_1's auc: 0.778974\n",
      "[300]\ttraining's auc: 0.982118\tvalid_1's auc: 0.783374\n",
      "[400]\ttraining's auc: 0.990272\tvalid_1's auc: 0.785177\n",
      "[500]\ttraining's auc: 0.994159\tvalid_1's auc: 0.786844\n",
      "[600]\ttraining's auc: 0.996998\tvalid_1's auc: 0.788129\n",
      "[700]\ttraining's auc: 0.998695\tvalid_1's auc: 0.788539\n",
      "[800]\ttraining's auc: 0.999274\tvalid_1's auc: 0.79149\n",
      "[900]\ttraining's auc: 0.999716\tvalid_1's auc: 0.793184\n",
      "[1000]\ttraining's auc: 0.999911\tvalid_1's auc: 0.793239\n",
      "[1100]\ttraining's auc: 0.99997\tvalid_1's auc: 0.792665\n",
      "[1200]\ttraining's auc: 0.999987\tvalid_1's auc: 0.793676\n",
      "[1300]\ttraining's auc: 0.999992\tvalid_1's auc: 0.794742\n",
      "[1400]\ttraining's auc: 0.999994\tvalid_1's auc: 0.793868\n",
      "[1500]\ttraining's auc: 0.999994\tvalid_1's auc: 0.794688\n",
      "Did not meet early stopping. Best iteration is:\n",
      "[1474]\ttraining's auc: 0.999996\tvalid_1's auc: 0.794906\n",
      "fold n°4\n"
     ]
    },
    {
     "name": "stderr",
     "output_type": "stream",
     "text": [
      "e:\\sources\\aiproject\\venv\\lib\\site-packages\\lightgbm\\engine.py:148: UserWarning: Found `n_estimators` in params. Will use it instead of argument\n",
      "  warnings.warn(\"Found `{}` in params. Will use it instead of argument\".format(alias))\n"
     ]
    },
    {
     "name": "stdout",
     "output_type": "stream",
     "text": [
      "Training until validation scores don't improve for 500 rounds\n",
      "[100]\ttraining's auc: 0.9537\tvalid_1's auc: 0.743161\n",
      "[200]\ttraining's auc: 0.972088\tvalid_1's auc: 0.742437\n",
      "[300]\ttraining's auc: 0.983569\tvalid_1's auc: 0.748722\n",
      "[400]\ttraining's auc: 0.990609\tvalid_1's auc: 0.748941\n",
      "[500]\ttraining's auc: 0.994945\tvalid_1's auc: 0.750499\n",
      "[600]\ttraining's auc: 0.997676\tvalid_1's auc: 0.752904\n",
      "[700]\ttraining's auc: 0.999026\tvalid_1's auc: 0.75263\n",
      "[800]\ttraining's auc: 0.999494\tvalid_1's auc: 0.757139\n",
      "[900]\ttraining's auc: 0.999856\tvalid_1's auc: 0.757631\n",
      "[1000]\ttraining's auc: 0.999964\tvalid_1's auc: 0.757577\n",
      "[1100]\ttraining's auc: 0.999985\tvalid_1's auc: 0.758834\n",
      "[1200]\ttraining's auc: 0.999995\tvalid_1's auc: 0.758861\n",
      "[1300]\ttraining's auc: 1\tvalid_1's auc: 0.760419\n",
      "[1400]\ttraining's auc: 1\tvalid_1's auc: 0.759872\n",
      "[1500]\ttraining's auc: 1\tvalid_1's auc: 0.760173\n",
      "Did not meet early stopping. Best iteration is:\n",
      "[1291]\ttraining's auc: 1\tvalid_1's auc: 0.759462\n",
      "| \u001b[95m 3       \u001b[0m | \u001b[95m 0.7751  \u001b[0m | \u001b[95m 0.8081  \u001b[0m | \u001b[95m 0.9203  \u001b[0m | \u001b[95m 0.8714  \u001b[0m | \u001b[95m 1.831   \u001b[0m | \u001b[95m 0.007473\u001b[0m | \u001b[95m 6.498   \u001b[0m | \u001b[95m 50.08   \u001b[0m | \u001b[95m 120.3   \u001b[0m |\n",
      "fold n°0\n"
     ]
    },
    {
     "name": "stderr",
     "output_type": "stream",
     "text": [
      "e:\\sources\\aiproject\\venv\\lib\\site-packages\\lightgbm\\engine.py:148: UserWarning: Found `n_estimators` in params. Will use it instead of argument\n",
      "  warnings.warn(\"Found `{}` in params. Will use it instead of argument\".format(alias))\n"
     ]
    },
    {
     "name": "stdout",
     "output_type": "stream",
     "text": [
      "Training until validation scores don't improve for 500 rounds\n",
      "[100]\ttraining's auc: 0.945886\tvalid_1's auc: 0.731603\n",
      "[200]\ttraining's auc: 0.970804\tvalid_1's auc: 0.764412\n",
      "[300]\ttraining's auc: 0.984489\tvalid_1's auc: 0.768725\n",
      "[400]\ttraining's auc: 0.9924\tvalid_1's auc: 0.763402\n",
      "[500]\ttraining's auc: 0.996654\tvalid_1's auc: 0.758079\n",
      "[600]\ttraining's auc: 0.998447\tvalid_1's auc: 0.75505\n",
      "[700]\ttraining's auc: 0.999401\tvalid_1's auc: 0.749754\n",
      "Early stopping, best iteration is:\n",
      "[284]\ttraining's auc: 0.98322\tvalid_1's auc: 0.770963\n",
      "fold n°1\n",
      "Training until validation scores don't improve for 500 rounds\n"
     ]
    },
    {
     "name": "stderr",
     "output_type": "stream",
     "text": [
      "e:\\sources\\aiproject\\venv\\lib\\site-packages\\lightgbm\\engine.py:148: UserWarning: Found `n_estimators` in params. Will use it instead of argument\n",
      "  warnings.warn(\"Found `{}` in params. Will use it instead of argument\".format(alias))\n"
     ]
    },
    {
     "name": "stdout",
     "output_type": "stream",
     "text": [
      "[100]\ttraining's auc: 0.956236\tvalid_1's auc: 0.768641\n",
      "[200]\ttraining's auc: 0.975879\tvalid_1's auc: 0.777534\n",
      "[300]\ttraining's auc: 0.987692\tvalid_1's auc: 0.781113\n",
      "[400]\ttraining's auc: 0.994062\tvalid_1's auc: 0.787309\n",
      "[500]\ttraining's auc: 0.99753\tvalid_1's auc: 0.788457\n",
      "[600]\ttraining's auc: 0.999077\tvalid_1's auc: 0.791315\n",
      "[700]\ttraining's auc: 0.999729\tvalid_1's auc: 0.791929\n",
      "[800]\ttraining's auc: 0.999934\tvalid_1's auc: 0.792917\n",
      "[900]\ttraining's auc: 0.99998\tvalid_1's auc: 0.79655\n",
      "[1000]\ttraining's auc: 0.999994\tvalid_1's auc: 0.796496\n",
      "[1100]\ttraining's auc: 0.999997\tvalid_1's auc: 0.796523\n",
      "[1200]\ttraining's auc: 0.999997\tvalid_1's auc: 0.796897\n",
      "[1300]\ttraining's auc: 0.999999\tvalid_1's auc: 0.795722\n",
      "[1400]\ttraining's auc: 0.999999\tvalid_1's auc: 0.795401\n",
      "[1500]\ttraining's auc: 0.999999\tvalid_1's auc: 0.79484\n",
      "Did not meet early stopping. Best iteration is:\n",
      "[1293]\ttraining's auc: 0.999999\tvalid_1's auc: 0.795775\n",
      "fold n°2\n",
      "Training until validation scores don't improve for 500 rounds"
     ]
    },
    {
     "name": "stderr",
     "output_type": "stream",
     "text": [
      "e:\\sources\\aiproject\\venv\\lib\\site-packages\\lightgbm\\engine.py:148: UserWarning: Found `n_estimators` in params. Will use it instead of argument\n",
      "  warnings.warn(\"Found `{}` in params. Will use it instead of argument\".format(alias))\n"
     ]
    },
    {
     "name": "stdout",
     "output_type": "stream",
     "text": [
      "\n",
      "[100]\ttraining's auc: 0.958355\tvalid_1's auc: 0.724934\n",
      "[200]\ttraining's auc: 0.974622\tvalid_1's auc: 0.730167\n",
      "[300]\ttraining's auc: 0.985822\tvalid_1's auc: 0.736835\n",
      "[400]\ttraining's auc: 0.992519\tvalid_1's auc: 0.73954\n",
      "[500]\ttraining's auc: 0.996423\tvalid_1's auc: 0.741863\n",
      "[600]\ttraining's auc: 0.99826\tvalid_1's auc: 0.745716\n",
      "[700]\ttraining's auc: 0.99934\tvalid_1's auc: 0.748968\n",
      "[800]\ttraining's auc: 0.999742\tvalid_1's auc: 0.750089\n",
      "[900]\ttraining's auc: 0.99993\tvalid_1's auc: 0.751045\n",
      "[1000]\ttraining's auc: 0.99998\tvalid_1's auc: 0.751565\n",
      "[1100]\ttraining's auc: 0.999995\tvalid_1's auc: 0.751155\n",
      "[1200]\ttraining's auc: 1\tvalid_1's auc: 0.752986\n",
      "[1300]\ttraining's auc: 1\tvalid_1's auc: 0.754434\n",
      "[1400]\ttraining's auc: 1\tvalid_1's auc: 0.754953\n",
      "[1500]\ttraining's auc: 1\tvalid_1's auc: 0.758068\n",
      "Did not meet early stopping. Best iteration is:\n",
      "[1190]\ttraining's auc: 1\tvalid_1's auc: 0.752685\n",
      "fold n°3\n",
      "Training until validation scores don't improve for 500 rounds"
     ]
    },
    {
     "name": "stderr",
     "output_type": "stream",
     "text": [
      "e:\\sources\\aiproject\\venv\\lib\\site-packages\\lightgbm\\engine.py:148: UserWarning: Found `n_estimators` in params. Will use it instead of argument\n",
      "  warnings.warn(\"Found `{}` in params. Will use it instead of argument\".format(alias))\n"
     ]
    },
    {
     "name": "stdout",
     "output_type": "stream",
     "text": [
      "\n",
      "[100]\ttraining's auc: 0.954653\tvalid_1's auc: 0.758041\n",
      "[200]\ttraining's auc: 0.972676\tvalid_1's auc: 0.769683\n",
      "[300]\ttraining's auc: 0.985721\tvalid_1's auc: 0.77769\n",
      "[400]\ttraining's auc: 0.992565\tvalid_1's auc: 0.780149\n",
      "[500]\ttraining's auc: 0.995918\tvalid_1's auc: 0.780477\n",
      "[600]\ttraining's auc: 0.997862\tvalid_1's auc: 0.777089\n",
      "[700]\ttraining's auc: 0.99897\tvalid_1's auc: 0.7784\n",
      "[800]\ttraining's auc: 0.999519\tvalid_1's auc: 0.778592\n",
      "[900]\ttraining's auc: 0.999811\tvalid_1's auc: 0.778564\n",
      "Early stopping, best iteration is:\n",
      "[457]\ttraining's auc: 0.994774\tvalid_1's auc: 0.782171\n",
      "fold n°4\n"
     ]
    },
    {
     "name": "stderr",
     "output_type": "stream",
     "text": [
      "e:\\sources\\aiproject\\venv\\lib\\site-packages\\lightgbm\\engine.py:148: UserWarning: Found `n_estimators` in params. Will use it instead of argument\n",
      "  warnings.warn(\"Found `{}` in params. Will use it instead of argument\".format(alias))\n"
     ]
    },
    {
     "name": "stdout",
     "output_type": "stream",
     "text": [
      "Training until validation scores don't improve for 500 rounds\n",
      "[100]\ttraining's auc: 0.962902\tvalid_1's auc: 0.748804\n",
      "[200]\ttraining's auc: 0.977339\tvalid_1's auc: 0.748531\n",
      "[300]\ttraining's auc: 0.987857\tvalid_1's auc: 0.746154\n",
      "[400]\ttraining's auc: 0.993787\tvalid_1's auc: 0.747274\n",
      "[500]\ttraining's auc: 0.996912\tvalid_1's auc: 0.748094\n",
      "Early stopping, best iteration is:\n",
      "[80]\ttraining's auc: 0.958711\tvalid_1's auc: 0.752111\n",
      "| \u001b[0m 4       \u001b[0m | \u001b[0m 0.7707  \u001b[0m | \u001b[0m 0.9381  \u001b[0m | \u001b[0m 0.9075  \u001b[0m | \u001b[0m 0.7226  \u001b[0m | \u001b[0m 1.323   \u001b[0m | \u001b[0m 0.006791\u001b[0m | \u001b[0m 6.611   \u001b[0m | \u001b[0m 51.25   \u001b[0m | \u001b[0m 120.6   \u001b[0m |\n",
      "fold n°0\n",
      "Training until validation scores don't improve for 500 rounds\n"
     ]
    },
    {
     "name": "stderr",
     "output_type": "stream",
     "text": [
      "e:\\sources\\aiproject\\venv\\lib\\site-packages\\lightgbm\\engine.py:148: UserWarning: Found `n_estimators` in params. Will use it instead of argument\n",
      "  warnings.warn(\"Found `{}` in params. Will use it instead of argument\".format(alias))\n"
     ]
    },
    {
     "name": "stdout",
     "output_type": "stream",
     "text": [
      "[100]\ttraining's auc: 0.950285\tvalid_1's auc: 0.769653\n",
      "[200]\ttraining's auc: 0.973402\tvalid_1's auc: 0.780844\n",
      "[300]\ttraining's auc: 0.986684\tvalid_1's auc: 0.780134\n",
      "[400]\ttraining's auc: 0.992578\tvalid_1's auc: 0.775822\n",
      "[500]\ttraining's auc: 0.996577\tvalid_1's auc: 0.767333\n",
      "[600]\ttraining's auc: 0.998479\tvalid_1's auc: 0.760372\n",
      "[700]\ttraining's auc: 0.999486\tvalid_1's auc: 0.757151\n",
      "Early stopping, best iteration is:\n",
      "[258]\ttraining's auc: 0.982476\tvalid_1's auc: 0.783055\n",
      "fold n°1\n",
      "Training until validation scores don't improve for 500 rounds\n"
     ]
    },
    {
     "name": "stderr",
     "output_type": "stream",
     "text": [
      "e:\\sources\\aiproject\\venv\\lib\\site-packages\\lightgbm\\engine.py:148: UserWarning: Found `n_estimators` in params. Will use it instead of argument\n",
      "  warnings.warn(\"Found `{}` in params. Will use it instead of argument\".format(alias))\n"
     ]
    },
    {
     "name": "stdout",
     "output_type": "stream",
     "text": [
      "[100]\ttraining's auc: 0.957288\tvalid_1's auc: 0.784959\n",
      "[200]\ttraining's auc: 0.976595\tvalid_1's auc: 0.7946\n",
      "[300]\ttraining's auc: 0.987642\tvalid_1's auc: 0.799781\n",
      "[400]\ttraining's auc: 0.99355\tvalid_1's auc: 0.806538\n",
      "[500]\ttraining's auc: 0.996598\tvalid_1's auc: 0.809796\n",
      "[600]\ttraining's auc: 0.998157\tvalid_1's auc: 0.809208\n",
      "[700]\ttraining's auc: 0.998893\tvalid_1's auc: 0.809903\n",
      "[800]\ttraining's auc: 0.99962\tvalid_1's auc: 0.810223\n",
      "[900]\ttraining's auc: 0.999919\tvalid_1's auc: 0.809369\n",
      "Early stopping, best iteration is:\n",
      "[464]\ttraining's auc: 0.995754\tvalid_1's auc: 0.810784\n",
      "fold n°2\n",
      "Training until validation scores don't improve for 500 rounds\n"
     ]
    },
    {
     "name": "stderr",
     "output_type": "stream",
     "text": [
      "e:\\sources\\aiproject\\venv\\lib\\site-packages\\lightgbm\\engine.py:148: UserWarning: Found `n_estimators` in params. Will use it instead of argument\n",
      "  warnings.warn(\"Found `{}` in params. Will use it instead of argument\".format(alias))\n"
     ]
    },
    {
     "name": "stdout",
     "output_type": "stream",
     "text": [
      "[100]\ttraining's auc: 0.954972\tvalid_1's auc: 0.723308\n",
      "[200]\ttraining's auc: 0.973816\tvalid_1's auc: 0.728363\n",
      "[300]\ttraining's auc: 0.98537\tvalid_1's auc: 0.732626\n",
      "[400]\ttraining's auc: 0.991896\tvalid_1's auc: 0.737108\n",
      "[500]\ttraining's auc: 0.995815\tvalid_1's auc: 0.738256\n",
      "[600]\ttraining's auc: 0.99781\tvalid_1's auc: 0.740224\n",
      "[700]\ttraining's auc: 0.999031\tvalid_1's auc: 0.743339\n",
      "[800]\ttraining's auc: 0.999655\tvalid_1's auc: 0.744541\n",
      "[900]\ttraining's auc: 0.999879\tvalid_1's auc: 0.745826\n",
      "[1000]\ttraining's auc: 0.999975\tvalid_1's auc: 0.74752\n",
      "[1100]\ttraining's auc: 0.999995\tvalid_1's auc: 0.748422\n",
      "[1200]\ttraining's auc: 0.999998\tvalid_1's auc: 0.748367\n",
      "[1300]\ttraining's auc: 1\tvalid_1's auc: 0.75069\n",
      "[1400]\ttraining's auc: 1\tvalid_1's auc: 0.751619\n",
      "[1500]\ttraining's auc: 1\tvalid_1's auc: 0.75222\n",
      "Did not meet early stopping. Best iteration is:\n",
      "[1281]\ttraining's auc: 1\tvalid_1's auc: 0.750335\n",
      "fold n°3\n"
     ]
    },
    {
     "name": "stderr",
     "output_type": "stream",
     "text": [
      "e:\\sources\\aiproject\\venv\\lib\\site-packages\\lightgbm\\engine.py:148: UserWarning: Found `n_estimators` in params. Will use it instead of argument\n",
      "  warnings.warn(\"Found `{}` in params. Will use it instead of argument\".format(alias))\n"
     ]
    },
    {
     "name": "stdout",
     "output_type": "stream",
     "text": [
      "Training until validation scores don't improve for 500 rounds\n",
      "[100]\ttraining's auc: 0.950592\tvalid_1's auc: 0.766431\n",
      "[200]\ttraining's auc: 0.973868\tvalid_1's auc: 0.77534\n",
      "[300]\ttraining's auc: 0.986639\tvalid_1's auc: 0.78075\n",
      "[400]\ttraining's auc: 0.99321\tvalid_1's auc: 0.784276\n",
      "[500]\ttraining's auc: 0.995932\tvalid_1's auc: 0.785423\n",
      "[600]\ttraining's auc: 0.998086\tvalid_1's auc: 0.785423\n",
      "[700]\ttraining's auc: 0.9992\tvalid_1's auc: 0.786708\n",
      "[800]\ttraining's auc: 0.999719\tvalid_1's auc: 0.786954\n",
      "[900]\ttraining's auc: 0.999874\tvalid_1's auc: 0.788347\n",
      "[1000]\ttraining's auc: 0.999962\tvalid_1's auc: 0.788621\n",
      "[1100]\ttraining's auc: 0.999989\tvalid_1's auc: 0.788867\n",
      "[1200]\ttraining's auc: 0.999994\tvalid_1's auc: 0.788703\n",
      "[1300]\ttraining's auc: 0.999996\tvalid_1's auc: 0.789085\n",
      "[1400]\ttraining's auc: 0.999996\tvalid_1's auc: 0.788757\n",
      "[1500]\ttraining's auc: 0.999996\tvalid_1's auc: 0.788675\n",
      "Did not meet early stopping. Best iteration is:\n",
      "[1261]\ttraining's auc: 0.999996\tvalid_1's auc: 0.789331\n",
      "fold n°4\n"
     ]
    },
    {
     "name": "stderr",
     "output_type": "stream",
     "text": [
      "e:\\sources\\aiproject\\venv\\lib\\site-packages\\lightgbm\\engine.py:148: UserWarning: Found `n_estimators` in params. Will use it instead of argument\n",
      "  warnings.warn(\"Found `{}` in params. Will use it instead of argument\".format(alias))\n"
     ]
    },
    {
     "name": "stdout",
     "output_type": "stream",
     "text": [
      "Training until validation scores don't improve for 500 rounds\n",
      "[100]\ttraining's auc: 0.958687\tvalid_1's auc: 0.736972\n",
      "[200]\ttraining's auc: 0.978001\tvalid_1's auc: 0.747192\n",
      "[300]\ttraining's auc: 0.988341\tvalid_1's auc: 0.7555\n",
      "[400]\ttraining's auc: 0.9933\tvalid_1's auc: 0.756074\n",
      "[500]\ttraining's auc: 0.996425\tvalid_1's auc: 0.757385\n",
      "[600]\ttraining's auc: 0.998246\tvalid_1's auc: 0.75703\n",
      "[700]\ttraining's auc: 0.999129\tvalid_1's auc: 0.757358\n",
      "[800]\ttraining's auc: 0.999621\tvalid_1's auc: 0.757768\n",
      "[900]\ttraining's auc: 0.999898\tvalid_1's auc: 0.757959\n",
      "[1000]\ttraining's auc: 0.999973\tvalid_1's auc: 0.758369\n",
      "[1100]\ttraining's auc: 0.999992\tvalid_1's auc: 0.758642\n",
      "[1200]\ttraining's auc: 0.999995\tvalid_1's auc: 0.760063\n",
      "[1300]\ttraining's auc: 1\tvalid_1's auc: 0.76061\n",
      "[1400]\ttraining's auc: 1\tvalid_1's auc: 0.76102\n",
      "[1500]\ttraining's auc: 1\tvalid_1's auc: 0.762086\n",
      "Did not meet early stopping. Best iteration is:\n",
      "[1249]\ttraining's auc: 1\tvalid_1's auc: 0.760829\n",
      "| \u001b[95m 5       \u001b[0m | \u001b[95m 0.7789  \u001b[0m | \u001b[95m 0.869   \u001b[0m | \u001b[95m 0.7768  \u001b[0m | \u001b[95m 0.1988  \u001b[0m | \u001b[95m 5.622   \u001b[0m | \u001b[95m 0.009326\u001b[0m | \u001b[95m 6.047   \u001b[0m | \u001b[95m 25.86   \u001b[0m | \u001b[95m 107.4   \u001b[0m |\n",
      "fold n°0\n",
      "Training until validation scores don't improve for 500 rounds\n"
     ]
    },
    {
     "name": "stderr",
     "output_type": "stream",
     "text": [
      "e:\\sources\\aiproject\\venv\\lib\\site-packages\\lightgbm\\engine.py:148: UserWarning: Found `n_estimators` in params. Will use it instead of argument\n",
      "  warnings.warn(\"Found `{}` in params. Will use it instead of argument\".format(alias))\n"
     ]
    },
    {
     "name": "stdout",
     "output_type": "stream",
     "text": [
      "[100]\ttraining's auc: 0.896357\tvalid_1's auc: 0.736871\n",
      "[200]\ttraining's auc: 0.917578\tvalid_1's auc: 0.754749\n",
      "[300]\ttraining's auc: 0.93613\tvalid_1's auc: 0.760891\n",
      "[400]\ttraining's auc: 0.950477\tvalid_1's auc: 0.764821\n",
      "[500]\ttraining's auc: 0.96285\tvalid_1's auc: 0.765586\n",
      "[600]\ttraining's auc: 0.970284\tvalid_1's auc: 0.766432\n",
      "[700]\ttraining's auc: 0.977661\tvalid_1's auc: 0.765176\n",
      "[800]\ttraining's auc: 0.983081\tvalid_1's auc: 0.763184\n",
      "[900]\ttraining's auc: 0.986924\tvalid_1's auc: 0.761246\n",
      "[1000]\ttraining's auc: 0.990308\tvalid_1's auc: 0.759417\n",
      "[1100]\ttraining's auc: 0.992921\tvalid_1's auc: 0.75767\n",
      "Early stopping, best iteration is:\n",
      "[603]\ttraining's auc: 0.97044\tvalid_1's auc: 0.766459\n",
      "fold n°1\n",
      "Training until validation scores don't improve for 500 rounds\n"
     ]
    },
    {
     "name": "stderr",
     "output_type": "stream",
     "text": [
      "e:\\sources\\aiproject\\venv\\lib\\site-packages\\lightgbm\\engine.py:148: UserWarning: Found `n_estimators` in params. Will use it instead of argument\n",
      "  warnings.warn(\"Found `{}` in params. Will use it instead of argument\".format(alias))\n"
     ]
    },
    {
     "name": "stdout",
     "output_type": "stream",
     "text": [
      "[100]\ttraining's auc: 0.90053\tvalid_1's auc: 0.775478\n",
      "[200]\ttraining's auc: 0.919538\tvalid_1's auc: 0.783276\n",
      "[300]\ttraining's auc: 0.936196\tvalid_1's auc: 0.783837\n",
      "[400]\ttraining's auc: 0.950711\tvalid_1's auc: 0.785867\n",
      "[500]\ttraining's auc: 0.962074\tvalid_1's auc: 0.789365\n",
      "[600]\ttraining's auc: 0.970793\tvalid_1's auc: 0.791983\n",
      "[700]\ttraining's auc: 0.97764\tvalid_1's auc: 0.793478\n",
      "[800]\ttraining's auc: 0.983317\tvalid_1's auc: 0.795615\n",
      "[900]\ttraining's auc: 0.987511\tvalid_1's auc: 0.796416\n",
      "[1000]\ttraining's auc: 0.99074\tvalid_1's auc: 0.798659\n",
      "[1100]\ttraining's auc: 0.993308\tvalid_1's auc: 0.799968\n",
      "[1200]\ttraining's auc: 0.995273\tvalid_1's auc: 0.799701\n",
      "[1300]\ttraining's auc: 0.996845\tvalid_1's auc: 0.799861\n",
      "[1400]\ttraining's auc: 0.997972\tvalid_1's auc: 0.800101\n",
      "[1500]\ttraining's auc: 0.998684\tvalid_1's auc: 0.799701\n",
      "Did not meet early stopping. Best iteration is:\n",
      "[1500]\ttraining's auc: 0.998684\tvalid_1's auc: 0.799701\n",
      "fold n°2\n",
      "Training until validation scores don't improve for 500 rounds\n"
     ]
    },
    {
     "name": "stderr",
     "output_type": "stream",
     "text": [
      "e:\\sources\\aiproject\\venv\\lib\\site-packages\\lightgbm\\engine.py:148: UserWarning: Found `n_estimators` in params. Will use it instead of argument\n",
      "  warnings.warn(\"Found `{}` in params. Will use it instead of argument\".format(alias))\n"
     ]
    },
    {
     "name": "stdout",
     "output_type": "stream",
     "text": [
      "[100]\ttraining's auc: 0.904304\tvalid_1's auc: 0.724565\n",
      "[200]\ttraining's auc: 0.92108\tvalid_1's auc: 0.727626\n",
      "[300]\ttraining's auc: 0.936618\tvalid_1's auc: 0.731889\n",
      "[400]\ttraining's auc: 0.949963\tvalid_1's auc: 0.735906\n",
      "[500]\ttraining's auc: 0.960139\tvalid_1's auc: 0.735906\n",
      "Early stopping, best iteration is:\n",
      "[3]\ttraining's auc: 0.849327\tvalid_1's auc: 0.744569\n",
      "fold n°3\n",
      "Training until validation scores don't improve for 500 rounds\n"
     ]
    },
    {
     "name": "stderr",
     "output_type": "stream",
     "text": [
      "e:\\sources\\aiproject\\venv\\lib\\site-packages\\lightgbm\\engine.py:148: UserWarning: Found `n_estimators` in params. Will use it instead of argument\n",
      "  warnings.warn(\"Found `{}` in params. Will use it instead of argument\".format(alias))\n"
     ]
    },
    {
     "name": "stdout",
     "output_type": "stream",
     "text": [
      "[100]\ttraining's auc: 0.894408\tvalid_1's auc: 0.77396\n",
      "[200]\ttraining's auc: 0.915715\tvalid_1's auc: 0.777444\n",
      "[300]\ttraining's auc: 0.934052\tvalid_1's auc: 0.780942\n",
      "[400]\ttraining's auc: 0.948446\tvalid_1's auc: 0.780067\n",
      "[500]\ttraining's auc: 0.959365\tvalid_1's auc: 0.782909\n",
      "[600]\ttraining's auc: 0.968612\tvalid_1's auc: 0.783237\n",
      "[700]\ttraining's auc: 0.975871\tvalid_1's auc: 0.784795\n",
      "[800]\ttraining's auc: 0.981168\tvalid_1's auc: 0.785123\n",
      "[900]\ttraining's auc: 0.985393\tvalid_1's auc: 0.78515\n",
      "[1000]\ttraining's auc: 0.989004\tvalid_1's auc: 0.787036\n",
      "[1100]\ttraining's auc: 0.991569\tvalid_1's auc: 0.785915\n",
      "[1200]\ttraining's auc: 0.993506\tvalid_1's auc: 0.786517\n",
      "[1300]\ttraining's auc: 0.995312\tvalid_1's auc: 0.787254\n",
      "[1400]\ttraining's auc: 0.996701\tvalid_1's auc: 0.788347\n",
      "[1500]\ttraining's auc: 0.997563\tvalid_1's auc: 0.788785\n",
      "Did not meet early stopping. Best iteration is:\n",
      "[1500]\ttraining's auc: 0.997563\tvalid_1's auc: 0.788785\n",
      "fold n°4\n",
      "Training until validation scores don't improve for 500 rounds\n"
     ]
    },
    {
     "name": "stderr",
     "output_type": "stream",
     "text": [
      "e:\\sources\\aiproject\\venv\\lib\\site-packages\\lightgbm\\engine.py:148: UserWarning: Found `n_estimators` in params. Will use it instead of argument\n",
      "  warnings.warn(\"Found `{}` in params. Will use it instead of argument\".format(alias))\n"
     ]
    },
    {
     "name": "stdout",
     "output_type": "stream",
     "text": [
      "[100]\ttraining's auc: 0.906099\tvalid_1's auc: 0.737054\n",
      "[200]\ttraining's auc: 0.924249\tvalid_1's auc: 0.731479\n",
      "[300]\ttraining's auc: 0.94056\tvalid_1's auc: 0.735851\n",
      "[400]\ttraining's auc: 0.953756\tvalid_1's auc: 0.743202\n",
      "[500]\ttraining's auc: 0.964612\tvalid_1's auc: 0.747165\n",
      "[600]\ttraining's auc: 0.973212\tvalid_1's auc: 0.750417\n",
      "[700]\ttraining's auc: 0.979785\tvalid_1's auc: 0.752521\n",
      "[800]\ttraining's auc: 0.984589\tvalid_1's auc: 0.75468\n",
      "[900]\ttraining's auc: 0.988222\tvalid_1's auc: 0.755062\n",
      "[1000]\ttraining's auc: 0.991359\tvalid_1's auc: 0.754625\n",
      "[1100]\ttraining's auc: 0.993507\tvalid_1's auc: 0.756128\n",
      "[1200]\ttraining's auc: 0.99544\tvalid_1's auc: 0.757823\n",
      "[1300]\ttraining's auc: 0.99689\tvalid_1's auc: 0.758861\n",
      "[1400]\ttraining's auc: 0.997817\tvalid_1's auc: 0.758068\n",
      "[1500]\ttraining's auc: 0.998618\tvalid_1's auc: 0.758752\n",
      "Did not meet early stopping. Best iteration is:\n",
      "[1500]\ttraining's auc: 0.998618\tvalid_1's auc: 0.758752\n",
      "| \u001b[0m 6       \u001b[0m | \u001b[0m 0.7717  \u001b[0m | \u001b[0m 0.7624  \u001b[0m | \u001b[0m 0.8869  \u001b[0m | \u001b[0m 0.03632 \u001b[0m | \u001b[0m 4.82    \u001b[0m | \u001b[0m 0.006099\u001b[0m | \u001b[0m 5.178   \u001b[0m | \u001b[0m 94.54   \u001b[0m | \u001b[0m 69.4    \u001b[0m |\n",
      "fold n°0\n"
     ]
    },
    {
     "name": "stderr",
     "output_type": "stream",
     "text": [
      "e:\\sources\\aiproject\\venv\\lib\\site-packages\\lightgbm\\engine.py:148: UserWarning: Found `n_estimators` in params. Will use it instead of argument\n",
      "  warnings.warn(\"Found `{}` in params. Will use it instead of argument\".format(alias))\n"
     ]
    },
    {
     "name": "stdout",
     "output_type": "stream",
     "text": [
      "Training until validation scores don't improve for 500 rounds\n",
      "[100]\ttraining's auc: 0.905924\tvalid_1's auc: 0.717791\n",
      "[200]\ttraining's auc: 0.938796\tvalid_1's auc: 0.749563\n",
      "[300]\ttraining's auc: 0.961411\tvalid_1's auc: 0.758871\n",
      "[400]\ttraining's auc: 0.976684\tvalid_1's auc: 0.760836\n",
      "[500]\ttraining's auc: 0.987257\tvalid_1's auc: 0.755869\n",
      "[600]\ttraining's auc: 0.992945\tvalid_1's auc: 0.755486\n",
      "[700]\ttraining's auc: 0.996588\tvalid_1's auc: 0.751965\n",
      "[800]\ttraining's auc: 0.998422\tvalid_1's auc: 0.749727\n",
      "Early stopping, best iteration is:\n",
      "[398]\ttraining's auc: 0.976523\tvalid_1's auc: 0.760973\n",
      "fold n°1\n",
      "Training until validation scores don't improve for 500 rounds\n"
     ]
    },
    {
     "name": "stderr",
     "output_type": "stream",
     "text": [
      "e:\\sources\\aiproject\\venv\\lib\\site-packages\\lightgbm\\engine.py:148: UserWarning: Found `n_estimators` in params. Will use it instead of argument\n",
      "  warnings.warn(\"Found `{}` in params. Will use it instead of argument\".format(alias))\n"
     ]
    },
    {
     "name": "stdout",
     "output_type": "stream",
     "text": [
      "[100]\ttraining's auc: 0.917405\tvalid_1's auc: 0.769549\n",
      "[200]\ttraining's auc: 0.942216\tvalid_1's auc: 0.779457\n",
      "[300]\ttraining's auc: 0.961912\tvalid_1's auc: 0.783036\n",
      "[400]\ttraining's auc: 0.976926\tvalid_1's auc: 0.78771\n",
      "[500]\ttraining's auc: 0.986927\tvalid_1's auc: 0.791368\n",
      "[600]\ttraining's auc: 0.993005\tvalid_1's auc: 0.79484\n",
      "[700]\ttraining's auc: 0.996808\tvalid_1's auc: 0.795294\n",
      "[800]\ttraining's auc: 0.998688\tvalid_1's auc: 0.798579\n",
      "[900]\ttraining's auc: 0.999589\tvalid_1's auc: 0.798953\n",
      "[1000]\ttraining's auc: 0.999883\tvalid_1's auc: 0.7993\n",
      "[1100]\ttraining's auc: 0.999951\tvalid_1's auc: 0.798766\n",
      "[1200]\ttraining's auc: 0.999979\tvalid_1's auc: 0.798179\n",
      "[1300]\ttraining's auc: 0.999991\tvalid_1's auc: 0.798072\n",
      "Early stopping, best iteration is:\n",
      "[879]\ttraining's auc: 0.999468\tvalid_1's auc: 0.799808\n",
      "fold n°2\n",
      "Training until validation scores don't improve for 500 rounds\n"
     ]
    },
    {
     "name": "stderr",
     "output_type": "stream",
     "text": [
      "e:\\sources\\aiproject\\venv\\lib\\site-packages\\lightgbm\\engine.py:148: UserWarning: Found `n_estimators` in params. Will use it instead of argument\n",
      "  warnings.warn(\"Found `{}` in params. Will use it instead of argument\".format(alias))\n"
     ]
    },
    {
     "name": "stdout",
     "output_type": "stream",
     "text": [
      "[100]\ttraining's auc: 0.91978\tvalid_1's auc: 0.723362\n",
      "[200]\ttraining's auc: 0.942156\tvalid_1's auc: 0.730823\n",
      "[300]\ttraining's auc: 0.960548\tvalid_1's auc: 0.73719\n",
      "[400]\ttraining's auc: 0.975162\tvalid_1's auc: 0.737054\n",
      "[500]\ttraining's auc: 0.986187\tvalid_1's auc: 0.740825\n",
      "[600]\ttraining's auc: 0.993108\tvalid_1's auc: 0.74588\n",
      "[700]\ttraining's auc: 0.99698\tvalid_1's auc: 0.747766\n",
      "[800]\ttraining's auc: 0.998786\tvalid_1's auc: 0.74905\n",
      "[900]\ttraining's auc: 0.999538\tvalid_1's auc: 0.749761\n",
      "[1000]\ttraining's auc: 0.999844\tvalid_1's auc: 0.751592\n",
      "[1100]\ttraining's auc: 0.999952\tvalid_1's auc: 0.752384\n",
      "[1200]\ttraining's auc: 0.999981\tvalid_1's auc: 0.753942\n",
      "[1300]\ttraining's auc: 0.999993\tvalid_1's auc: 0.756074\n",
      "[1400]\ttraining's auc: 0.999997\tvalid_1's auc: 0.756265\n",
      "[1500]\ttraining's auc: 0.999997\tvalid_1's auc: 0.757085\n",
      "Did not meet early stopping. Best iteration is:\n",
      "[1351]\ttraining's auc: 0.999997\tvalid_1's auc: 0.756593\n",
      "fold n°3\n",
      "Training until validation scores don't improve for 500 rounds\n"
     ]
    },
    {
     "name": "stderr",
     "output_type": "stream",
     "text": [
      "e:\\sources\\aiproject\\venv\\lib\\site-packages\\lightgbm\\engine.py:148: UserWarning: Found `n_estimators` in params. Will use it instead of argument\n",
      "  warnings.warn(\"Found `{}` in params. Will use it instead of argument\".format(alias))\n"
     ]
    },
    {
     "name": "stdout",
     "output_type": "stream",
     "text": [
      "[100]\ttraining's auc: 0.907254\tvalid_1's auc: 0.757631\n",
      "[200]\ttraining's auc: 0.93997\tvalid_1's auc: 0.771896\n",
      "[300]\ttraining's auc: 0.960073\tvalid_1's auc: 0.777444\n",
      "[400]\ttraining's auc: 0.975436\tvalid_1's auc: 0.779575\n",
      "[500]\ttraining's auc: 0.985155\tvalid_1's auc: 0.779001\n",
      "[600]\ttraining's auc: 0.99199\tvalid_1's auc: 0.780395\n",
      "[700]\ttraining's auc: 0.995794\tvalid_1's auc: 0.781434\n",
      "[800]\ttraining's auc: 0.998072\tvalid_1's auc: 0.783538\n",
      "[900]\ttraining's auc: 0.999093\tvalid_1's auc: 0.786544\n",
      "[1000]\ttraining's auc: 0.999695\tvalid_1's auc: 0.786544\n",
      "[1100]\ttraining's auc: 0.999863\tvalid_1's auc: 0.786653\n",
      "[1200]\ttraining's auc: 0.999945\tvalid_1's auc: 0.788293\n",
      "[1300]\ttraining's auc: 0.999972\tvalid_1's auc: 0.790971\n",
      "[1400]\ttraining's auc: 0.999987\tvalid_1's auc: 0.790889\n",
      "[1500]\ttraining's auc: 0.999994\tvalid_1's auc: 0.793103\n",
      "Did not meet early stopping. Best iteration is:\n",
      "[1500]\ttraining's auc: 0.999994\tvalid_1's auc: 0.793103\n",
      "fold n°4\n",
      "Training until validation scores don't improve for 500 rounds\n"
     ]
    },
    {
     "name": "stderr",
     "output_type": "stream",
     "text": [
      "e:\\sources\\aiproject\\venv\\lib\\site-packages\\lightgbm\\engine.py:148: UserWarning: Found `n_estimators` in params. Will use it instead of argument\n",
      "  warnings.warn(\"Found `{}` in params. Will use it instead of argument\".format(alias))\n"
     ]
    },
    {
     "name": "stdout",
     "output_type": "stream",
     "text": [
      "[100]\ttraining's auc: 0.918675\tvalid_1's auc: 0.735086\n",
      "[200]\ttraining's auc: 0.945203\tvalid_1's auc: 0.735496\n",
      "[300]\ttraining's auc: 0.964695\tvalid_1's auc: 0.740469\n",
      "[400]\ttraining's auc: 0.9786\tvalid_1's auc: 0.742464\n",
      "[500]\ttraining's auc: 0.987996\tvalid_1's auc: 0.742273\n",
      "[600]\ttraining's auc: 0.993675\tvalid_1's auc: 0.744241\n",
      "[700]\ttraining's auc: 0.996868\tvalid_1's auc: 0.746263\n",
      "[800]\ttraining's auc: 0.998737\tvalid_1's auc: 0.744268\n",
      "[900]\ttraining's auc: 0.999615\tvalid_1's auc: 0.74517\n",
      "[1000]\ttraining's auc: 0.999885\tvalid_1's auc: 0.744514\n",
      "[1100]\ttraining's auc: 0.999969\tvalid_1's auc: 0.74435\n",
      "Early stopping, best iteration is:\n",
      "[639]\ttraining's auc: 0.99508\tvalid_1's auc: 0.746864\n",
      "| \u001b[0m 7       \u001b[0m | \u001b[0m 0.7715  \u001b[0m | \u001b[0m 0.9238  \u001b[0m | \u001b[0m 0.8985  \u001b[0m | \u001b[0m 0.4764  \u001b[0m | \u001b[0m 0.945   \u001b[0m | \u001b[0m 0.006598\u001b[0m | \u001b[0m 9.9     \u001b[0m | \u001b[0m 128.3   \u001b[0m | \u001b[0m 59.69   \u001b[0m |\n",
      "fold n°0\n",
      "Training until validation scores don't improve for 500 rounds\n",
      "[100]\ttraining's auc: 0.878208\tvalid_1's auc: 0.746233"
     ]
    },
    {
     "name": "stderr",
     "output_type": "stream",
     "text": [
      "e:\\sources\\aiproject\\venv\\lib\\site-packages\\lightgbm\\engine.py:148: UserWarning: Found `n_estimators` in params. Will use it instead of argument\n",
      "  warnings.warn(\"Found `{}` in params. Will use it instead of argument\".format(alias))\n"
     ]
    },
    {
     "name": "stdout",
     "output_type": "stream",
     "text": [
      "\n",
      "[200]\ttraining's auc: 0.900723\tvalid_1's auc: 0.763266\n",
      "[300]\ttraining's auc: 0.919334\tvalid_1's auc: 0.768834\n",
      "[400]\ttraining's auc: 0.934111\tvalid_1's auc: 0.772628\n",
      "[500]\ttraining's auc: 0.947971\tvalid_1's auc: 0.772246\n",
      "[600]\ttraining's auc: 0.95699\tvalid_1's auc: 0.772055\n",
      "[700]\ttraining's auc: 0.96574\tvalid_1's auc: 0.767769\n",
      "[800]\ttraining's auc: 0.972624\tvalid_1's auc: 0.76706\n",
      "[900]\ttraining's auc: 0.977318\tvalid_1's auc: 0.765313\n",
      "Early stopping, best iteration is:\n",
      "[432]\ttraining's auc: 0.93873\tvalid_1's auc: 0.773774\n",
      "fold n°1\n",
      "Training until validation scores don't improve for 500 rounds\n"
     ]
    },
    {
     "name": "stderr",
     "output_type": "stream",
     "text": [
      "e:\\sources\\aiproject\\venv\\lib\\site-packages\\lightgbm\\engine.py:148: UserWarning: Found `n_estimators` in params. Will use it instead of argument\n",
      "  warnings.warn(\"Found `{}` in params. Will use it instead of argument\".format(alias))\n"
     ]
    },
    {
     "name": "stdout",
     "output_type": "stream",
     "text": [
      "[100]\ttraining's auc: 0.879277\tvalid_1's auc: 0.769522\n",
      "[200]\ttraining's auc: 0.90101\tvalid_1's auc: 0.775932\n",
      "[300]\ttraining's auc: 0.917974\tvalid_1's auc: 0.778736\n",
      "[400]\ttraining's auc: 0.932429\tvalid_1's auc: 0.783837\n",
      "[500]\ttraining's auc: 0.94551\tvalid_1's auc: 0.786428\n",
      "[600]\ttraining's auc: 0.955038\tvalid_1's auc: 0.789606\n",
      "[700]\ttraining's auc: 0.962973\tvalid_1's auc: 0.793184\n",
      "[800]\ttraining's auc: 0.970632\tvalid_1's auc: 0.795374\n",
      "[900]\ttraining's auc: 0.976004\tvalid_1's auc: 0.798446\n",
      "[1000]\ttraining's auc: 0.980735\tvalid_1's auc: 0.800769\n",
      "[1100]\ttraining's auc: 0.984768\tvalid_1's auc: 0.80149\n",
      "[1200]\ttraining's auc: 0.988177\tvalid_1's auc: 0.80101\n",
      "[1300]\ttraining's auc: 0.991195\tvalid_1's auc: 0.800582\n",
      "[1400]\ttraining's auc: 0.993101\tvalid_1's auc: 0.800101\n",
      "[1500]\ttraining's auc: 0.994855\tvalid_1's auc: 0.799674\n",
      "Did not meet early stopping. Best iteration is:\n",
      "[1500]\ttraining's auc: 0.994855\tvalid_1's auc: 0.799674\n",
      "fold n°2\n",
      "Training until validation scores don't improve for 500 rounds\n"
     ]
    },
    {
     "name": "stderr",
     "output_type": "stream",
     "text": [
      "e:\\sources\\aiproject\\venv\\lib\\site-packages\\lightgbm\\engine.py:148: UserWarning: Found `n_estimators` in params. Will use it instead of argument\n",
      "  warnings.warn(\"Found `{}` in params. Will use it instead of argument\".format(alias))\n"
     ]
    },
    {
     "name": "stdout",
     "output_type": "stream",
     "text": [
      "[100]\ttraining's auc: 0.8901\tvalid_1's auc: 0.717952\n",
      "[200]\ttraining's auc: 0.908599\tvalid_1's auc: 0.724046\n",
      "[300]\ttraining's auc: 0.922307\tvalid_1's auc: 0.730304\n",
      "[400]\ttraining's auc: 0.935746\tvalid_1's auc: 0.731533\n",
      "[500]\ttraining's auc: 0.946984\tvalid_1's auc: 0.732654\n",
      "Early stopping, best iteration is:\n",
      "[4]\ttraining's auc: 0.857625\tvalid_1's auc: 0.742273\n",
      "fold n°3\n",
      "Training until validation scores don't improve for 500 rounds\n"
     ]
    },
    {
     "name": "stderr",
     "output_type": "stream",
     "text": [
      "e:\\sources\\aiproject\\venv\\lib\\site-packages\\lightgbm\\engine.py:148: UserWarning: Found `n_estimators` in params. Will use it instead of argument\n",
      "  warnings.warn(\"Found `{}` in params. Will use it instead of argument\".format(alias))\n"
     ]
    },
    {
     "name": "stdout",
     "output_type": "stream",
     "text": [
      "[100]\ttraining's auc: 0.881265\tvalid_1's auc: 0.766895\n",
      "[200]\ttraining's auc: 0.901501\tvalid_1's auc: 0.780013\n",
      "[300]\ttraining's auc: 0.919718\tvalid_1's auc: 0.781324\n",
      "[400]\ttraining's auc: 0.934592\tvalid_1's auc: 0.782609\n",
      "[500]\ttraining's auc: 0.94591\tvalid_1's auc: 0.784877\n",
      "[600]\ttraining's auc: 0.955826\tvalid_1's auc: 0.788047\n",
      "[700]\ttraining's auc: 0.964332\tvalid_1's auc: 0.78709\n",
      "[800]\ttraining's auc: 0.97044\tvalid_1's auc: 0.789605\n",
      "[900]\ttraining's auc: 0.975248\tvalid_1's auc: 0.789085\n",
      "[1000]\ttraining's auc: 0.980141\tvalid_1's auc: 0.789249\n",
      "[1100]\ttraining's auc: 0.983655\tvalid_1's auc: 0.787391\n",
      "[1200]\ttraining's auc: 0.986437\tvalid_1's auc: 0.787118\n",
      "[1300]\ttraining's auc: 0.988909\tvalid_1's auc: 0.787418\n",
      "Early stopping, best iteration is:\n",
      "[836]\ttraining's auc: 0.972174\tvalid_1's auc: 0.789851\n",
      "fold n°4\n",
      "Training until validation scores don't improve for 500 rounds\n"
     ]
    },
    {
     "name": "stderr",
     "output_type": "stream",
     "text": [
      "e:\\sources\\aiproject\\venv\\lib\\site-packages\\lightgbm\\engine.py:148: UserWarning: Found `n_estimators` in params. Will use it instead of argument\n",
      "  warnings.warn(\"Found `{}` in params. Will use it instead of argument\".format(alias))\n"
     ]
    },
    {
     "name": "stdout",
     "output_type": "stream",
     "text": [
      "[100]\ttraining's auc: 0.888557\tvalid_1's auc: 0.742232\n",
      "[200]\ttraining's auc: 0.906869\tvalid_1's auc: 0.740879\n",
      "[300]\ttraining's auc: 0.924348\tvalid_1's auc: 0.742929\n",
      "[400]\ttraining's auc: 0.939187\tvalid_1's auc: 0.750143\n",
      "[500]\ttraining's auc: 0.951791\tvalid_1's auc: 0.752302\n",
      "[600]\ttraining's auc: 0.961663\tvalid_1's auc: 0.753805\n",
      "[700]\ttraining's auc: 0.970068\tvalid_1's auc: 0.754379\n",
      "[800]\ttraining's auc: 0.975257\tvalid_1's auc: 0.756702\n",
      "[900]\ttraining's auc: 0.980233\tvalid_1's auc: 0.757631\n",
      "[1000]\ttraining's auc: 0.98411\tvalid_1's auc: 0.759162\n",
      "[1100]\ttraining's auc: 0.987122\tvalid_1's auc: 0.760009\n",
      "[1200]\ttraining's auc: 0.989544\tvalid_1's auc: 0.760009\n",
      "[1300]\ttraining's auc: 0.991602\tvalid_1's auc: 0.761566\n",
      "[1400]\ttraining's auc: 0.993159\tvalid_1's auc: 0.759981\n",
      "[1500]\ttraining's auc: 0.994654\tvalid_1's auc: 0.760747\n",
      "Did not meet early stopping. Best iteration is:\n",
      "[1500]\ttraining's auc: 0.994654\tvalid_1's auc: 0.760747\n",
      "| \u001b[0m 8       \u001b[0m | \u001b[0m 0.7733  \u001b[0m | \u001b[0m 0.728   \u001b[0m | \u001b[0m 0.9167  \u001b[0m | \u001b[0m 0.6246  \u001b[0m | \u001b[0m 4.808   \u001b[0m | \u001b[0m 0.006926\u001b[0m | \u001b[0m 4.695   \u001b[0m | \u001b[0m 99.59   \u001b[0m | \u001b[0m 114.0   \u001b[0m |\n",
      "fold n°0\n",
      "Training until validation scores don't improve for 500 rounds"
     ]
    },
    {
     "name": "stderr",
     "output_type": "stream",
     "text": [
      "e:\\sources\\aiproject\\venv\\lib\\site-packages\\lightgbm\\engine.py:148: UserWarning: Found `n_estimators` in params. Will use it instead of argument\n",
      "  warnings.warn(\"Found `{}` in params. Will use it instead of argument\".format(alias))\n"
     ]
    },
    {
     "name": "stdout",
     "output_type": "stream",
     "text": [
      "\n",
      "[100]\ttraining's auc: 0.920801\tvalid_1's auc: 0.728901\n",
      "[200]\ttraining's auc: 0.948801\tvalid_1's auc: 0.754067\n",
      "[300]\ttraining's auc: 0.965112\tvalid_1's auc: 0.767387\n",
      "[400]\ttraining's auc: 0.976073\tvalid_1's auc: 0.770963\n",
      "[500]\ttraining's auc: 0.983511\tvalid_1's auc: 0.768561\n",
      "[600]\ttraining's auc: 0.98814\tvalid_1's auc: 0.766295\n",
      "[700]\ttraining's auc: 0.991415\tvalid_1's auc: 0.762965\n",
      "[800]\ttraining's auc: 0.993923\tvalid_1's auc: 0.756769\n",
      "Early stopping, best iteration is:\n",
      "[379]\ttraining's auc: 0.974431\tvalid_1's auc: 0.771755\n",
      "fold n°1\n",
      "Training until validation scores don't improve for 500 rounds\n"
     ]
    },
    {
     "name": "stderr",
     "output_type": "stream",
     "text": [
      "e:\\sources\\aiproject\\venv\\lib\\site-packages\\lightgbm\\engine.py:148: UserWarning: Found `n_estimators` in params. Will use it instead of argument\n",
      "  warnings.warn(\"Found `{}` in params. Will use it instead of argument\".format(alias))\n"
     ]
    },
    {
     "name": "stdout",
     "output_type": "stream",
     "text": [
      "[100]\ttraining's auc: 0.933149\tvalid_1's auc: 0.757051\n",
      "[200]\ttraining's auc: 0.951078\tvalid_1's auc: 0.770497\n",
      "[300]\ttraining's auc: 0.965872\tvalid_1's auc: 0.77473\n",
      "[400]\ttraining's auc: 0.976431\tvalid_1's auc: 0.779644\n",
      "[500]\ttraining's auc: 0.983981\tvalid_1's auc: 0.78106\n",
      "[600]\ttraining's auc: 0.988747\tvalid_1's auc: 0.785733\n",
      "[700]\ttraining's auc: 0.992068\tvalid_1's auc: 0.788751\n",
      "[800]\ttraining's auc: 0.994641\tvalid_1's auc: 0.790781\n",
      "[900]\ttraining's auc: 0.996511\tvalid_1's auc: 0.794039\n",
      "[1000]\ttraining's auc: 0.997863\tvalid_1's auc: 0.794573\n",
      "[1100]\ttraining's auc: 0.998923\tvalid_1's auc: 0.797244\n",
      "[1200]\ttraining's auc: 0.999482\tvalid_1's auc: 0.798205\n",
      "[1300]\ttraining's auc: 0.99977\tvalid_1's auc: 0.799754\n",
      "[1400]\ttraining's auc: 0.99991\tvalid_1's auc: 0.800182\n",
      "[1500]\ttraining's auc: 0.999965\tvalid_1's auc: 0.800929\n",
      "Did not meet early stopping. Best iteration is:\n",
      "[1500]\ttraining's auc: 0.999965\tvalid_1's auc: 0.800929\n",
      "fold n°2\n",
      "Training until validation scores don't improve for 500 rounds\n"
     ]
    },
    {
     "name": "stderr",
     "output_type": "stream",
     "text": [
      "e:\\sources\\aiproject\\venv\\lib\\site-packages\\lightgbm\\engine.py:148: UserWarning: Found `n_estimators` in params. Will use it instead of argument\n",
      "  warnings.warn(\"Found `{}` in params. Will use it instead of argument\".format(alias))\n"
     ]
    },
    {
     "name": "stdout",
     "output_type": "stream",
     "text": [
      "[100]\ttraining's auc: 0.936802\tvalid_1's auc: 0.707731\n",
      "[200]\ttraining's auc: 0.951537\tvalid_1's auc: 0.715902\n",
      "[300]\ttraining's auc: 0.96534\tvalid_1's auc: 0.722515\n",
      "[400]\ttraining's auc: 0.975802\tvalid_1's auc: 0.726505\n",
      "[500]\ttraining's auc: 0.982858\tvalid_1's auc: 0.730741\n",
      "[600]\ttraining's auc: 0.988197\tvalid_1's auc: 0.733474\n",
      "[700]\ttraining's auc: 0.99168\tvalid_1's auc: 0.735113\n",
      "[800]\ttraining's auc: 0.994019\tvalid_1's auc: 0.735387\n",
      "[900]\ttraining's auc: 0.995927\tvalid_1's auc: 0.737136\n",
      "[1000]\ttraining's auc: 0.997196\tvalid_1's auc: 0.73678\n",
      "[1100]\ttraining's auc: 0.998085\tvalid_1's auc: 0.739185\n",
      "[1200]\ttraining's auc: 0.998874\tvalid_1's auc: 0.741344\n",
      "[1300]\ttraining's auc: 0.999343\tvalid_1's auc: 0.742902\n",
      "[1400]\ttraining's auc: 0.99965\tvalid_1's auc: 0.742328\n",
      "[1500]\ttraining's auc: 0.999817\tvalid_1's auc: 0.742874\n",
      "Did not meet early stopping. Best iteration is:\n",
      "[1500]\ttraining's auc: 0.999817\tvalid_1's auc: 0.742874\n",
      "fold n°3\n",
      "Training until validation scores don't improve for 500 rounds\n"
     ]
    },
    {
     "name": "stderr",
     "output_type": "stream",
     "text": [
      "e:\\sources\\aiproject\\venv\\lib\\site-packages\\lightgbm\\engine.py:148: UserWarning: Found `n_estimators` in params. Will use it instead of argument\n",
      "  warnings.warn(\"Found `{}` in params. Will use it instead of argument\".format(alias))\n"
     ]
    },
    {
     "name": "stdout",
     "output_type": "stream",
     "text": [
      "[100]\ttraining's auc: 0.927017\tvalid_1's auc: 0.756661\n",
      "[200]\ttraining's auc: 0.947404\tvalid_1's auc: 0.763753\n",
      "[300]\ttraining's auc: 0.963159\tvalid_1's auc: 0.767196\n",
      "[400]\ttraining's auc: 0.9751\tvalid_1's auc: 0.774028\n",
      "[500]\ttraining's auc: 0.982247\tvalid_1's auc: 0.775422\n",
      "[600]\ttraining's auc: 0.987068\tvalid_1's auc: 0.772497\n",
      "[700]\ttraining's auc: 0.990311\tvalid_1's auc: 0.769164\n",
      "[800]\ttraining's auc: 0.992613\tvalid_1's auc: 0.769901\n",
      "[900]\ttraining's auc: 0.994227\tvalid_1's auc: 0.768808\n",
      "Early stopping, best iteration is:\n",
      "[464]\ttraining's auc: 0.979879\tvalid_1's auc: 0.775859\n",
      "fold n°4\n",
      "Training until validation scores don't improve for 500 rounds\n"
     ]
    },
    {
     "name": "stderr",
     "output_type": "stream",
     "text": [
      "e:\\sources\\aiproject\\venv\\lib\\site-packages\\lightgbm\\engine.py:148: UserWarning: Found `n_estimators` in params. Will use it instead of argument\n",
      "  warnings.warn(\"Found `{}` in params. Will use it instead of argument\".format(alias))\n"
     ]
    },
    {
     "name": "stdout",
     "output_type": "stream",
     "text": [
      "[100]\ttraining's auc: 0.942528\tvalid_1's auc: 0.747752\n",
      "[200]\ttraining's auc: 0.957797\tvalid_1's auc: 0.744651\n",
      "[300]\ttraining's auc: 0.970467\tvalid_1's auc: 0.743175\n",
      "[400]\ttraining's auc: 0.97925\tvalid_1's auc: 0.7423\n",
      "[500]\ttraining's auc: 0.985351\tvalid_1's auc: 0.743721\n",
      "Early stopping, best iteration is:\n",
      "[70]\ttraining's auc: 0.939055\tvalid_1's auc: 0.748517\n",
      "| \u001b[0m 9       \u001b[0m | \u001b[0m 0.768   \u001b[0m | \u001b[0m 0.9742  \u001b[0m | \u001b[0m 0.9508  \u001b[0m | \u001b[0m 0.8656  \u001b[0m | \u001b[0m 3.146   \u001b[0m | \u001b[0m 0.005754\u001b[0m | \u001b[0m 5.483   \u001b[0m | \u001b[0m 31.84   \u001b[0m | \u001b[0m 21.83   \u001b[0m |\n",
      "fold n°0\n",
      "Training until validation scores don't improve for 500 rounds\n"
     ]
    },
    {
     "name": "stderr",
     "output_type": "stream",
     "text": [
      "e:\\sources\\aiproject\\venv\\lib\\site-packages\\lightgbm\\engine.py:148: UserWarning: Found `n_estimators` in params. Will use it instead of argument\n",
      "  warnings.warn(\"Found `{}` in params. Will use it instead of argument\".format(alias))\n"
     ]
    },
    {
     "name": "stdout",
     "output_type": "stream",
     "text": [
      "[100]\ttraining's auc: 0.882894\tvalid_1's auc: 0.747134\n",
      "[200]\ttraining's auc: 0.909809\tvalid_1's auc: 0.760973\n",
      "[300]\ttraining's auc: 0.929553\tvalid_1's auc: 0.763047\n",
      "[400]\ttraining's auc: 0.945889\tvalid_1's auc: 0.763156\n",
      "[500]\ttraining's auc: 0.959216\tvalid_1's auc: 0.761628\n",
      "[600]\ttraining's auc: 0.968335\tvalid_1's auc: 0.760891\n",
      "[700]\ttraining's auc: 0.975828\tvalid_1's auc: 0.760017\n",
      "[800]\ttraining's auc: 0.981461\tvalid_1's auc: 0.757752\n",
      "Early stopping, best iteration is:\n",
      "[358]\ttraining's auc: 0.939643\tvalid_1's auc: 0.764412\n",
      "fold n°1\n",
      "Training until validation scores don't improve for 500 rounds\n"
     ]
    },
    {
     "name": "stderr",
     "output_type": "stream",
     "text": [
      "e:\\sources\\aiproject\\venv\\lib\\site-packages\\lightgbm\\engine.py:148: UserWarning: Found `n_estimators` in params. Will use it instead of argument\n",
      "  warnings.warn(\"Found `{}` in params. Will use it instead of argument\".format(alias))\n"
     ]
    },
    {
     "name": "stdout",
     "output_type": "stream",
     "text": [
      "[100]\ttraining's auc: 0.884193\tvalid_1's auc: 0.772086\n",
      "[200]\ttraining's auc: 0.908957\tvalid_1's auc: 0.775024\n",
      "[300]\ttraining's auc: 0.929979\tvalid_1's auc: 0.775905\n",
      "[400]\ttraining's auc: 0.946268\tvalid_1's auc: 0.779991\n",
      "[500]\ttraining's auc: 0.958518\tvalid_1's auc: 0.783677\n",
      "[600]\ttraining's auc: 0.967986\tvalid_1's auc: 0.791181\n",
      "[700]\ttraining's auc: 0.97554\tvalid_1's auc: 0.793879\n",
      "[800]\ttraining's auc: 0.981265\tvalid_1's auc: 0.796176\n",
      "[900]\ttraining's auc: 0.985634\tvalid_1's auc: 0.795989\n",
      "[1000]\ttraining's auc: 0.989507\tvalid_1's auc: 0.796683\n",
      "[1100]\ttraining's auc: 0.992549\tvalid_1's auc: 0.796576\n",
      "[1200]\ttraining's auc: 0.994723\tvalid_1's auc: 0.795428\n",
      "[1300]\ttraining's auc: 0.996429\tvalid_1's auc: 0.795909\n",
      "[1400]\ttraining's auc: 0.997667\tvalid_1's auc: 0.795855\n",
      "[1500]\ttraining's auc: 0.998454\tvalid_1's auc: 0.796149\n",
      "Did not meet early stopping. Best iteration is:\n",
      "[1500]\ttraining's auc: 0.998454\tvalid_1's auc: 0.796149\n",
      "fold n°2\n",
      "Training until validation scores don't improve for 500 rounds\n"
     ]
    },
    {
     "name": "stderr",
     "output_type": "stream",
     "text": [
      "e:\\sources\\aiproject\\venv\\lib\\site-packages\\lightgbm\\engine.py:148: UserWarning: Found `n_estimators` in params. Will use it instead of argument\n",
      "  warnings.warn(\"Found `{}` in params. Will use it instead of argument\".format(alias))\n"
     ]
    },
    {
     "name": "stdout",
     "output_type": "stream",
     "text": [
      "[100]\ttraining's auc: 0.897788\tvalid_1's auc: 0.722051\n",
      "[200]\ttraining's auc: 0.915089\tvalid_1's auc: 0.720876\n",
      "[300]\ttraining's auc: 0.93143\tvalid_1's auc: 0.7241\n",
      "[400]\ttraining's auc: 0.946787\tvalid_1's auc: 0.726532\n",
      "[500]\ttraining's auc: 0.95839\tvalid_1's auc: 0.729675\n",
      "Early stopping, best iteration is:\n",
      "[22]\ttraining's auc: 0.881332\tvalid_1's auc: 0.732121\n",
      "fold n°3\n",
      "Training until validation scores don't improve for 500 rounds\n"
     ]
    },
    {
     "name": "stderr",
     "output_type": "stream",
     "text": [
      "e:\\sources\\aiproject\\venv\\lib\\site-packages\\lightgbm\\engine.py:148: UserWarning: Found `n_estimators` in params. Will use it instead of argument\n",
      "  warnings.warn(\"Found `{}` in params. Will use it instead of argument\".format(alias))\n"
     ]
    },
    {
     "name": "stdout",
     "output_type": "stream",
     "text": [
      "[100]\ttraining's auc: 0.882095\tvalid_1's auc: 0.766075\n",
      "[200]\ttraining's auc: 0.90812\tvalid_1's auc: 0.776569\n",
      "[300]\ttraining's auc: 0.928606\tvalid_1's auc: 0.780614\n",
      "[400]\ttraining's auc: 0.945898\tvalid_1's auc: 0.784139\n",
      "[500]\ttraining's auc: 0.95717\tvalid_1's auc: 0.782937\n",
      "[600]\ttraining's auc: 0.966702\tvalid_1's auc: 0.781762\n",
      "[700]\ttraining's auc: 0.974396\tvalid_1's auc: 0.78168\n",
      "[800]\ttraining's auc: 0.980242\tvalid_1's auc: 0.781734\n",
      "[900]\ttraining's auc: 0.98394\tvalid_1's auc: 0.779958\n",
      "Early stopping, best iteration is:\n",
      "[424]\ttraining's auc: 0.949225\tvalid_1's auc: 0.784631\n",
      "fold n°4\n",
      "Training until validation scores don't improve for 500 rounds\n"
     ]
    },
    {
     "name": "stderr",
     "output_type": "stream",
     "text": [
      "e:\\sources\\aiproject\\venv\\lib\\site-packages\\lightgbm\\engine.py:148: UserWarning: Found `n_estimators` in params. Will use it instead of argument\n",
      "  warnings.warn(\"Found `{}` in params. Will use it instead of argument\".format(alias))\n"
     ]
    },
    {
     "name": "stdout",
     "output_type": "stream",
     "text": [
      "[100]\ttraining's auc: 0.890659\tvalid_1's auc: 0.739554\n",
      "[200]\ttraining's auc: 0.914812\tvalid_1's auc: 0.738966\n",
      "[300]\ttraining's auc: 0.935817\tvalid_1's auc: 0.74394\n",
      "[400]\ttraining's auc: 0.951564\tvalid_1's auc: 0.748996\n",
      "[500]\ttraining's auc: 0.964398\tvalid_1's auc: 0.753122\n",
      "Early stopping, best iteration is:\n",
      "[14]\ttraining's auc: 0.862649\tvalid_1's auc: 0.75524\n",
      "| \u001b[0m 10      \u001b[0m | \u001b[0m 0.7665  \u001b[0m | \u001b[0m 0.8488  \u001b[0m | \u001b[0m 0.8991  \u001b[0m | \u001b[0m 0.1358  \u001b[0m | \u001b[0m 4.813   \u001b[0m | \u001b[0m 0.008524\u001b[0m | \u001b[0m 4.356   \u001b[0m | \u001b[0m 132.6   \u001b[0m | \u001b[0m 57.38   \u001b[0m |\n",
      "fold n°0\n",
      "Training until validation scores don't improve for 500 rounds\n"
     ]
    },
    {
     "name": "stderr",
     "output_type": "stream",
     "text": [
      "e:\\sources\\aiproject\\venv\\lib\\site-packages\\lightgbm\\engine.py:148: UserWarning: Found `n_estimators` in params. Will use it instead of argument\n",
      "  warnings.warn(\"Found `{}` in params. Will use it instead of argument\".format(alias))\n"
     ]
    },
    {
     "name": "stdout",
     "output_type": "stream",
     "text": [
      "[100]\ttraining's auc: 0.975737\tvalid_1's auc: 0.762283\n",
      "[200]\ttraining's auc: 0.99093\tvalid_1's auc: 0.773037\n",
      "[300]\ttraining's auc: 0.99787\tvalid_1's auc: 0.773856\n",
      "[400]\ttraining's auc: 0.999661\tvalid_1's auc: 0.7717\n",
      "[500]\ttraining's auc: 0.999969\tvalid_1's auc: 0.765695\n",
      "[600]\ttraining's auc: 0.999991\tvalid_1's auc: 0.763129\n",
      "[700]\ttraining's auc: 0.999994\tvalid_1's auc: 0.760372\n",
      "Early stopping, best iteration is:\n",
      "[264]\ttraining's auc: 0.996313\tvalid_1's auc: 0.775303\n",
      "fold n°1\n",
      "Training until validation scores don't improve for 500 rounds\n"
     ]
    },
    {
     "name": "stderr",
     "output_type": "stream",
     "text": [
      "e:\\sources\\aiproject\\venv\\lib\\site-packages\\lightgbm\\engine.py:148: UserWarning: Found `n_estimators` in params. Will use it instead of argument\n",
      "  warnings.warn(\"Found `{}` in params. Will use it instead of argument\".format(alias))\n"
     ]
    },
    {
     "name": "stdout",
     "output_type": "stream",
     "text": [
      "[100]\ttraining's auc: 0.977846\tvalid_1's auc: 0.786641\n",
      "[200]\ttraining's auc: 0.991972\tvalid_1's auc: 0.795535\n",
      "[300]\ttraining's auc: 0.997516\tvalid_1's auc: 0.79719\n",
      "[400]\ttraining's auc: 0.998877\tvalid_1's auc: 0.7989\n",
      "[500]\ttraining's auc: 0.99906\tvalid_1's auc: 0.800449\n",
      "[600]\ttraining's auc: 0.998937\tvalid_1's auc: 0.798686\n",
      "[700]\ttraining's auc: 0.999113\tvalid_1's auc: 0.798472\n",
      "[800]\ttraining's auc: 0.999758\tvalid_1's auc: 0.799007\n",
      "[900]\ttraining's auc: 0.999968\tvalid_1's auc: 0.797004\n",
      "Early stopping, best iteration is:\n",
      "[467]\ttraining's auc: 0.999099\tvalid_1's auc: 0.801383\n",
      "fold n°2\n",
      "Training until validation scores don't improve for 500 rounds\n"
     ]
    },
    {
     "name": "stderr",
     "output_type": "stream",
     "text": [
      "e:\\sources\\aiproject\\venv\\lib\\site-packages\\lightgbm\\engine.py:148: UserWarning: Found `n_estimators` in params. Will use it instead of argument\n",
      "  warnings.warn(\"Found `{}` in params. Will use it instead of argument\".format(alias))\n"
     ]
    },
    {
     "name": "stdout",
     "output_type": "stream",
     "text": [
      "[100]\ttraining's auc: 0.975062\tvalid_1's auc: 0.746017\n",
      "[200]\ttraining's auc: 0.987957\tvalid_1's auc: 0.747629\n",
      "[300]\ttraining's auc: 0.99571\tvalid_1's auc: 0.752849\n",
      "[400]\ttraining's auc: 0.998822\tvalid_1's auc: 0.756128\n",
      "[500]\ttraining's auc: 0.999849\tvalid_1's auc: 0.756784\n",
      "[600]\ttraining's auc: 0.999986\tvalid_1's auc: 0.758314\n",
      "[700]\ttraining's auc: 0.999997\tvalid_1's auc: 0.761484\n",
      "[800]\ttraining's auc: 1\tvalid_1's auc: 0.761922\n",
      "[900]\ttraining's auc: 1\tvalid_1's auc: 0.763725\n",
      "[1000]\ttraining's auc: 1\tvalid_1's auc: 0.765502\n",
      "[1100]\ttraining's auc: 1\tvalid_1's auc: 0.766075\n",
      "[1200]\ttraining's auc: 1\tvalid_1's auc: 0.765939\n",
      "[1300]\ttraining's auc: 1\tvalid_1's auc: 0.767715\n",
      "[1400]\ttraining's auc: 1\tvalid_1's auc: 0.768945\n",
      "[1500]\ttraining's auc: 1\tvalid_1's auc: 0.769437\n",
      "Did not meet early stopping. Best iteration is:\n",
      "[738]\ttraining's auc: 1\tvalid_1's auc: 0.761949\n",
      "fold n°3\n",
      "Training until validation scores don't improve for 500 rounds"
     ]
    },
    {
     "name": "stderr",
     "output_type": "stream",
     "text": [
      "e:\\sources\\aiproject\\venv\\lib\\site-packages\\lightgbm\\engine.py:148: UserWarning: Found `n_estimators` in params. Will use it instead of argument\n",
      "  warnings.warn(\"Found `{}` in params. Will use it instead of argument\".format(alias))\n"
     ]
    },
    {
     "name": "stdout",
     "output_type": "stream",
     "text": [
      "\n",
      "[100]\ttraining's auc: 0.975272\tvalid_1's auc: 0.774438\n",
      "[200]\ttraining's auc: 0.990934\tvalid_1's auc: 0.780942\n",
      "[300]\ttraining's auc: 0.997339\tvalid_1's auc: 0.784631\n",
      "[400]\ttraining's auc: 0.999454\tvalid_1's auc: 0.78362\n",
      "[500]\ttraining's auc: 0.999841\tvalid_1's auc: 0.787637\n",
      "[600]\ttraining's auc: 0.999977\tvalid_1's auc: 0.787828\n",
      "[700]\ttraining's auc: 0.999996\tvalid_1's auc: 0.788293\n",
      "[800]\ttraining's auc: 0.999996\tvalid_1's auc: 0.787828\n",
      "[900]\ttraining's auc: 0.999996\tvalid_1's auc: 0.79026\n",
      "[1000]\ttraining's auc: 0.999999\tvalid_1's auc: 0.790096\n",
      "[1100]\ttraining's auc: 0.999999\tvalid_1's auc: 0.790206\n",
      "[1200]\ttraining's auc: 0.999999\tvalid_1's auc: 0.790807\n",
      "[1300]\ttraining's auc: 0.999999\tvalid_1's auc: 0.790916\n",
      "[1400]\ttraining's auc: 0.999999\tvalid_1's auc: 0.790124\n",
      "[1500]\ttraining's auc: 0.999999\tvalid_1's auc: 0.791763\n",
      "Did not meet early stopping. Best iteration is:\n",
      "[953]\ttraining's auc: 0.999999\tvalid_1's auc: 0.790206\n",
      "fold n°4\n"
     ]
    },
    {
     "name": "stderr",
     "output_type": "stream",
     "text": [
      "e:\\sources\\aiproject\\venv\\lib\\site-packages\\lightgbm\\engine.py:148: UserWarning: Found `n_estimators` in params. Will use it instead of argument\n",
      "  warnings.warn(\"Found `{}` in params. Will use it instead of argument\".format(alias))\n"
     ]
    },
    {
     "name": "stdout",
     "output_type": "stream",
     "text": [
      "Training until validation scores don't improve for 500 rounds\n",
      "[100]\ttraining's auc: 0.978333\tvalid_1's auc: 0.752876\n",
      "[200]\ttraining's auc: 0.990942\tvalid_1's auc: 0.759599\n",
      "[300]\ttraining's auc: 0.997131\tvalid_1's auc: 0.763097\n",
      "[400]\ttraining's auc: 0.999054\tvalid_1's auc: 0.760719\n",
      "[500]\ttraining's auc: 0.999805\tvalid_1's auc: 0.762905\n",
      "[600]\ttraining's auc: 0.999978\tvalid_1's auc: 0.760637\n",
      "[700]\ttraining's auc: 0.999995\tvalid_1's auc: 0.76214\n",
      "[800]\ttraining's auc: 1\tvalid_1's auc: 0.763725\n",
      "[900]\ttraining's auc: 1\tvalid_1's auc: 0.7646\n",
      "[1000]\ttraining's auc: 1\tvalid_1's auc: 0.76266\n",
      "[1100]\ttraining's auc: 1\tvalid_1's auc: 0.762632\n",
      "[1200]\ttraining's auc: 1\tvalid_1's auc: 0.763753\n",
      "[1300]\ttraining's auc: 1\tvalid_1's auc: 0.762468\n",
      "[1400]\ttraining's auc: 1\tvalid_1's auc: 0.762523\n",
      "Early stopping, best iteration is:\n",
      "[924]\ttraining's auc: 1\tvalid_1's auc: 0.765338\n",
      "| \u001b[0m 11      \u001b[0m | \u001b[0m 0.7788  \u001b[0m | \u001b[0m 0.8564  \u001b[0m | \u001b[0m 0.721   \u001b[0m | \u001b[0m 0.5287  \u001b[0m | \u001b[0m 2.717   \u001b[0m | \u001b[0m 0.00971 \u001b[0m | \u001b[0m 9.773   \u001b[0m | \u001b[0m 25.56   \u001b[0m | \u001b[0m 106.5   \u001b[0m |\n",
      "fold n°0\n",
      "Training until validation scores don't improve for 500 rounds\n"
     ]
    },
    {
     "name": "stderr",
     "output_type": "stream",
     "text": [
      "e:\\sources\\aiproject\\venv\\lib\\site-packages\\lightgbm\\engine.py:148: UserWarning: Found `n_estimators` in params. Will use it instead of argument\n",
      "  warnings.warn(\"Found `{}` in params. Will use it instead of argument\".format(alias))\n"
     ]
    },
    {
     "name": "stdout",
     "output_type": "stream",
     "text": [
      "[100]\ttraining's auc: 0.977068\tvalid_1's auc: 0.726144\n",
      "[200]\ttraining's auc: 0.991886\tvalid_1's auc: 0.741566\n",
      "[300]\ttraining's auc: 0.998211\tvalid_1's auc: 0.745824\n",
      "[400]\ttraining's auc: 0.999704\tvalid_1's auc: 0.750191\n",
      "[500]\ttraining's auc: 0.999967\tvalid_1's auc: 0.748799\n",
      "[600]\ttraining's auc: 0.999996\tvalid_1's auc: 0.746697\n",
      "[700]\ttraining's auc: 0.999997\tvalid_1's auc: 0.743831\n",
      "[800]\ttraining's auc: 0.999999\tvalid_1's auc: 0.743176\n",
      "Early stopping, best iteration is:\n",
      "[373]\ttraining's auc: 0.999542\tvalid_1's auc: 0.750792\n",
      "fold n°1\n",
      "Training until validation scores don't improve for 500 rounds\n"
     ]
    },
    {
     "name": "stderr",
     "output_type": "stream",
     "text": [
      "e:\\sources\\aiproject\\venv\\lib\\site-packages\\lightgbm\\engine.py:148: UserWarning: Found `n_estimators` in params. Will use it instead of argument\n",
      "  warnings.warn(\"Found `{}` in params. Will use it instead of argument\".format(alias))\n"
     ]
    },
    {
     "name": "stdout",
     "output_type": "stream",
     "text": [
      "[100]\ttraining's auc: 0.977349\tvalid_1's auc: 0.767813\n",
      "[200]\ttraining's auc: 0.991904\tvalid_1's auc: 0.781914\n",
      "[300]\ttraining's auc: 0.997561\tvalid_1's auc: 0.783837\n",
      "[400]\ttraining's auc: 0.998643\tvalid_1's auc: 0.789926\n",
      "[500]\ttraining's auc: 0.998691\tvalid_1's auc: 0.791983\n",
      "[600]\ttraining's auc: 0.998751\tvalid_1's auc: 0.794733\n",
      "[700]\ttraining's auc: 0.998987\tvalid_1's auc: 0.797244\n",
      "[800]\ttraining's auc: 0.999606\tvalid_1's auc: 0.798846\n",
      "[900]\ttraining's auc: 0.999924\tvalid_1's auc: 0.798499\n",
      "[1000]\ttraining's auc: 0.999996\tvalid_1's auc: 0.797591\n",
      "[1100]\ttraining's auc: 0.999997\tvalid_1's auc: 0.796763\n",
      "[1200]\ttraining's auc: 0.999997\tvalid_1's auc: 0.797564\n",
      "Early stopping, best iteration is:\n",
      "[772]\ttraining's auc: 0.999478\tvalid_1's auc: 0.799888\n",
      "fold n°2\n",
      "Training until validation scores don't improve for 500 rounds\n"
     ]
    },
    {
     "name": "stderr",
     "output_type": "stream",
     "text": [
      "e:\\sources\\aiproject\\venv\\lib\\site-packages\\lightgbm\\engine.py:148: UserWarning: Found `n_estimators` in params. Will use it instead of argument\n",
      "  warnings.warn(\"Found `{}` in params. Will use it instead of argument\".format(alias))\n"
     ]
    },
    {
     "name": "stdout",
     "output_type": "stream",
     "text": [
      "[100]\ttraining's auc: 0.977955\tvalid_1's auc: 0.740442\n",
      "[200]\ttraining's auc: 0.992154\tvalid_1's auc: 0.749652\n",
      "[300]\ttraining's auc: 0.998078\tvalid_1's auc: 0.752138\n",
      "[400]\ttraining's auc: 0.999577\tvalid_1's auc: 0.752275\n",
      "[500]\ttraining's auc: 0.999879\tvalid_1's auc: 0.751073\n",
      "[600]\ttraining's auc: 0.999969\tvalid_1's auc: 0.751018\n",
      "[700]\ttraining's auc: 0.999997\tvalid_1's auc: 0.751073\n",
      "[800]\ttraining's auc: 0.999997\tvalid_1's auc: 0.751838\n",
      "[900]\ttraining's auc: 1\tvalid_1's auc: 0.752576\n",
      "[1000]\ttraining's auc: 1\tvalid_1's auc: 0.754051\n",
      "[1100]\ttraining's auc: 1\tvalid_1's auc: 0.752466\n",
      "[1200]\ttraining's auc: 1\tvalid_1's auc: 0.752685\n",
      "[1300]\ttraining's auc: 1\tvalid_1's auc: 0.752248\n",
      "[1400]\ttraining's auc: 1\tvalid_1's auc: 0.753013\n",
      "Early stopping, best iteration is:\n",
      "[995]\ttraining's auc: 1\tvalid_1's auc: 0.754215\n",
      "fold n°3\n",
      "Training until validation scores don't improve for 500 rounds\n"
     ]
    },
    {
     "name": "stderr",
     "output_type": "stream",
     "text": [
      "e:\\sources\\aiproject\\venv\\lib\\site-packages\\lightgbm\\engine.py:148: UserWarning: Found `n_estimators` in params. Will use it instead of argument\n",
      "  warnings.warn(\"Found `{}` in params. Will use it instead of argument\".format(alias))\n"
     ]
    },
    {
     "name": "stdout",
     "output_type": "stream",
     "text": [
      "[100]\ttraining's auc: 0.975095\tvalid_1's auc: 0.767059\n",
      "[200]\ttraining's auc: 0.991737\tvalid_1's auc: 0.776815\n",
      "[300]\ttraining's auc: 0.998154\tvalid_1's auc: 0.776433\n",
      "[400]\ttraining's auc: 0.9997\tvalid_1's auc: 0.780313\n",
      "[500]\ttraining's auc: 0.999907\tvalid_1's auc: 0.782909\n",
      "[600]\ttraining's auc: 0.999989\tvalid_1's auc: 0.786243\n",
      "[700]\ttraining's auc: 0.999997\tvalid_1's auc: 0.789577\n",
      "[800]\ttraining's auc: 0.999999\tvalid_1's auc: 0.792009\n",
      "[900]\ttraining's auc: 0.999999\tvalid_1's auc: 0.792611\n",
      "[1000]\ttraining's auc: 0.999999\tvalid_1's auc: 0.792392\n",
      "[1100]\ttraining's auc: 0.999999\tvalid_1's auc: 0.792665\n",
      "[1200]\ttraining's auc: 0.999999\tvalid_1's auc: 0.792556\n",
      "[1300]\ttraining's auc: 0.999999\tvalid_1's auc: 0.792884\n",
      "[1400]\ttraining's auc: 0.999999\tvalid_1's auc: 0.794606\n",
      "[1500]\ttraining's auc: 0.999999\tvalid_1's auc: 0.793813\n",
      "Did not meet early stopping. Best iteration is:\n",
      "[763]\ttraining's auc: 0.999999\tvalid_1's auc: 0.791053\n",
      "fold n°4\n",
      "Training until validation scores don't improve for 500 rounds\n"
     ]
    },
    {
     "name": "stderr",
     "output_type": "stream",
     "text": [
      "e:\\sources\\aiproject\\venv\\lib\\site-packages\\lightgbm\\engine.py:148: UserWarning: Found `n_estimators` in params. Will use it instead of argument\n",
      "  warnings.warn(\"Found `{}` in params. Will use it instead of argument\".format(alias))\n"
     ]
    },
    {
     "name": "stdout",
     "output_type": "stream",
     "text": [
      "[100]\ttraining's auc: 0.979554\tvalid_1's auc: 0.751182\n",
      "[200]\ttraining's auc: 0.992278\tvalid_1's auc: 0.74834\n",
      "[300]\ttraining's auc: 0.998043\tvalid_1's auc: 0.74864\n",
      "[400]\ttraining's auc: 0.999627\tvalid_1's auc: 0.747657\n",
      "[500]\ttraining's auc: 0.999954\tvalid_1's auc: 0.745689\n",
      "Early stopping, best iteration is:\n",
      "[89]\ttraining's auc: 0.977437\tvalid_1's auc: 0.754571\n",
      "| \u001b[0m 12      \u001b[0m | \u001b[0m 0.7701  \u001b[0m | \u001b[0m 0.8402  \u001b[0m | \u001b[0m 0.9353  \u001b[0m | \u001b[0m 0.02645 \u001b[0m | \u001b[0m 0.08569 \u001b[0m | \u001b[0m 0.006767\u001b[0m | \u001b[0m 8.928   \u001b[0m | \u001b[0m 56.83   \u001b[0m | \u001b[0m 128.0   \u001b[0m |\n",
      "fold n°0\n",
      "Training until validation scores don't improve for 500 rounds\n"
     ]
    },
    {
     "name": "stderr",
     "output_type": "stream",
     "text": [
      "e:\\sources\\aiproject\\venv\\lib\\site-packages\\lightgbm\\engine.py:148: UserWarning: Found `n_estimators` in params. Will use it instead of argument\n",
      "  warnings.warn(\"Found `{}` in params. Will use it instead of argument\".format(alias))\n"
     ]
    },
    {
     "name": "stdout",
     "output_type": "stream",
     "text": [
      "[100]\ttraining's auc: 0.916773\tvalid_1's auc: 0.735069\n",
      "[200]\ttraining's auc: 0.948713\tvalid_1's auc: 0.766295\n",
      "[300]\ttraining's auc: 0.966947\tvalid_1's auc: 0.768506\n",
      "[400]\ttraining's auc: 0.978248\tvalid_1's auc: 0.769898\n",
      "[500]\ttraining's auc: 0.984825\tvalid_1's auc: 0.76575\n",
      "[600]\ttraining's auc: 0.989203\tvalid_1's auc: 0.761218\n",
      "[700]\ttraining's auc: 0.99246\tvalid_1's auc: 0.756142\n",
      "Early stopping, best iteration is:\n",
      "[263]\ttraining's auc: 0.961926\tvalid_1's auc: 0.772573\n",
      "fold n°1\n"
     ]
    },
    {
     "name": "stderr",
     "output_type": "stream",
     "text": [
      "e:\\sources\\aiproject\\venv\\lib\\site-packages\\lightgbm\\engine.py:148: UserWarning: Found `n_estimators` in params. Will use it instead of argument\n",
      "  warnings.warn(\"Found `{}` in params. Will use it instead of argument\".format(alias))\n"
     ]
    },
    {
     "name": "stdout",
     "output_type": "stream",
     "text": [
      "Training until validation scores don't improve for 500 rounds\n",
      "[100]\ttraining's auc: 0.929339\tvalid_1's auc: 0.766251\n",
      "[200]\ttraining's auc: 0.953293\tvalid_1's auc: 0.770551\n",
      "[300]\ttraining's auc: 0.96927\tvalid_1's auc: 0.778977\n",
      "[400]\ttraining's auc: 0.980322\tvalid_1's auc: 0.783517\n",
      "[500]\ttraining's auc: 0.987029\tvalid_1's auc: 0.791769\n",
      "[600]\ttraining's auc: 0.991269\tvalid_1's auc: 0.795134\n",
      "[700]\ttraining's auc: 0.99451\tvalid_1's auc: 0.797217\n",
      "[800]\ttraining's auc: 0.996828\tvalid_1's auc: 0.79687\n",
      "[900]\ttraining's auc: 0.998507\tvalid_1's auc: 0.797458\n",
      "[1000]\ttraining's auc: 0.999302\tvalid_1's auc: 0.797564\n",
      "[1100]\ttraining's auc: 0.999699\tvalid_1's auc: 0.798472\n",
      "[1200]\ttraining's auc: 0.999888\tvalid_1's auc: 0.800208\n",
      "[1300]\ttraining's auc: 0.999963\tvalid_1's auc: 0.801464\n",
      "[1400]\ttraining's auc: 0.999989\tvalid_1's auc: 0.80141\n",
      "[1500]\ttraining's auc: 0.999996\tvalid_1's auc: 0.800742\n",
      "Did not meet early stopping. Best iteration is:\n",
      "[1441]\ttraining's auc: 0.999996\tvalid_1's auc: 0.800903\n",
      "fold n°2\n",
      "Training until validation scores don't improve for 500 rounds"
     ]
    },
    {
     "name": "stderr",
     "output_type": "stream",
     "text": [
      "e:\\sources\\aiproject\\venv\\lib\\site-packages\\lightgbm\\engine.py:148: UserWarning: Found `n_estimators` in params. Will use it instead of argument\n",
      "  warnings.warn(\"Found `{}` in params. Will use it instead of argument\".format(alias))\n"
     ]
    },
    {
     "name": "stdout",
     "output_type": "stream",
     "text": [
      "\n",
      "[100]\ttraining's auc: 0.929439\tvalid_1's auc: 0.712964\n",
      "[200]\ttraining's auc: 0.949534\tvalid_1's auc: 0.723349\n",
      "[300]\ttraining's auc: 0.966121\tvalid_1's auc: 0.731807\n",
      "[400]\ttraining's auc: 0.977014\tvalid_1's auc: 0.732982\n",
      "[500]\ttraining's auc: 0.985319\tvalid_1's auc: 0.735469\n",
      "[600]\ttraining's auc: 0.990088\tvalid_1's auc: 0.737272\n",
      "[700]\ttraining's auc: 0.99343\tvalid_1's auc: 0.739158\n",
      "[800]\ttraining's auc: 0.995518\tvalid_1's auc: 0.739486\n",
      "[900]\ttraining's auc: 0.997165\tvalid_1's auc: 0.739185\n",
      "[1000]\ttraining's auc: 0.998238\tvalid_1's auc: 0.740661\n",
      "[1100]\ttraining's auc: 0.99891\tvalid_1's auc: 0.741508\n",
      "[1200]\ttraining's auc: 0.999423\tvalid_1's auc: 0.741317\n",
      "[1300]\ttraining's auc: 0.999762\tvalid_1's auc: 0.740688\n",
      "[1400]\ttraining's auc: 0.999919\tvalid_1's auc: 0.740251\n",
      "[1500]\ttraining's auc: 0.999975\tvalid_1's auc: 0.741235\n",
      "Did not meet early stopping. Best iteration is:\n",
      "[1500]\ttraining's auc: 0.999975\tvalid_1's auc: 0.741235\n",
      "fold n°3\n",
      "Training until validation scores don't improve for 500 rounds\n"
     ]
    },
    {
     "name": "stderr",
     "output_type": "stream",
     "text": [
      "e:\\sources\\aiproject\\venv\\lib\\site-packages\\lightgbm\\engine.py:148: UserWarning: Found `n_estimators` in params. Will use it instead of argument\n",
      "  warnings.warn(\"Found `{}` in params. Will use it instead of argument\".format(alias))\n"
     ]
    },
    {
     "name": "stdout",
     "output_type": "stream",
     "text": [
      "[100]\ttraining's auc: 0.925532\tvalid_1's auc: 0.764818\n",
      "[200]\ttraining's auc: 0.947647\tvalid_1's auc: 0.765666\n",
      "[300]\ttraining's auc: 0.967149\tvalid_1's auc: 0.775422\n",
      "[400]\ttraining's auc: 0.977452\tvalid_1's auc: 0.777089\n",
      "[500]\ttraining's auc: 0.984383\tvalid_1's auc: 0.775449\n",
      "[600]\ttraining's auc: 0.989247\tvalid_1's auc: 0.775558\n",
      "[700]\ttraining's auc: 0.992085\tvalid_1's auc: 0.776433\n",
      "[800]\ttraining's auc: 0.994292\tvalid_1's auc: 0.774192\n",
      "[900]\ttraining's auc: 0.995804\tvalid_1's auc: 0.774984\n",
      "Early stopping, best iteration is:\n",
      "[419]\ttraining's auc: 0.978991\tvalid_1's auc: 0.777826\n",
      "fold n°4\n",
      "Training until validation scores don't improve for 500 rounds\n"
     ]
    },
    {
     "name": "stderr",
     "output_type": "stream",
     "text": [
      "e:\\sources\\aiproject\\venv\\lib\\site-packages\\lightgbm\\engine.py:148: UserWarning: Found `n_estimators` in params. Will use it instead of argument\n",
      "  warnings.warn(\"Found `{}` in params. Will use it instead of argument\".format(alias))\n"
     ]
    },
    {
     "name": "stdout",
     "output_type": "stream",
     "text": [
      "[100]\ttraining's auc: 0.933277\tvalid_1's auc: 0.743298\n",
      "[200]\ttraining's auc: 0.956171\tvalid_1's auc: 0.736097\n",
      "[300]\ttraining's auc: 0.972365\tvalid_1's auc: 0.734485\n",
      "[400]\ttraining's auc: 0.982173\tvalid_1's auc: 0.737381\n",
      "[500]\ttraining's auc: 0.987725\tvalid_1's auc: 0.741836\n",
      "Early stopping, best iteration is:\n",
      "[89]\ttraining's auc: 0.930649\tvalid_1's auc: 0.745293\n",
      "| \u001b[0m 13      \u001b[0m | \u001b[0m 0.7676  \u001b[0m | \u001b[0m 0.9984  \u001b[0m | \u001b[0m 0.7796  \u001b[0m | \u001b[0m 0.5266  \u001b[0m | \u001b[0m 5.719   \u001b[0m | \u001b[0m 0.00824 \u001b[0m | \u001b[0m 5.726   \u001b[0m | \u001b[0m 50.83   \u001b[0m | \u001b[0m 63.38   \u001b[0m |\n",
      "fold n°0\n",
      "Training until validation scores don't improve for 500 rounds\n"
     ]
    },
    {
     "name": "stderr",
     "output_type": "stream",
     "text": [
      "e:\\sources\\aiproject\\venv\\lib\\site-packages\\lightgbm\\engine.py:148: UserWarning: Found `n_estimators` in params. Will use it instead of argument\n",
      "  warnings.warn(\"Found `{}` in params. Will use it instead of argument\".format(alias))\n"
     ]
    },
    {
     "name": "stdout",
     "output_type": "stream",
     "text": [
      "[100]\ttraining's auc: 0.949854\tvalid_1's auc: 0.738045\n",
      "[200]\ttraining's auc: 0.965516\tvalid_1's auc: 0.760072\n",
      "[300]\ttraining's auc: 0.9772\tvalid_1's auc: 0.772028\n",
      "[400]\ttraining's auc: 0.985314\tvalid_1's auc: 0.777923\n",
      "[500]\ttraining's auc: 0.991147\tvalid_1's auc: 0.777923\n",
      "[600]\ttraining's auc: 0.994589\tvalid_1's auc: 0.778196\n",
      "[700]\ttraining's auc: 0.997185\tvalid_1's auc: 0.778742\n",
      "[800]\ttraining's auc: 0.99853\tvalid_1's auc: 0.776368\n",
      "[900]\ttraining's auc: 0.999383\tvalid_1's auc: 0.773747\n",
      "[1000]\ttraining's auc: 0.99975\tvalid_1's auc: 0.770963\n",
      "Early stopping, best iteration is:\n",
      "[561]\ttraining's auc: 0.993472\tvalid_1's auc: 0.779698\n",
      "fold n°1\n",
      "Training until validation scores don't improve for 500 rounds\n"
     ]
    },
    {
     "name": "stderr",
     "output_type": "stream",
     "text": [
      "e:\\sources\\aiproject\\venv\\lib\\site-packages\\lightgbm\\engine.py:148: UserWarning: Found `n_estimators` in params. Will use it instead of argument\n",
      "  warnings.warn(\"Found `{}` in params. Will use it instead of argument\".format(alias))\n"
     ]
    },
    {
     "name": "stdout",
     "output_type": "stream",
     "text": [
      "[100]\ttraining's auc: 0.957428\tvalid_1's auc: 0.773488\n",
      "[200]\ttraining's auc: 0.970197\tvalid_1's auc: 0.788765\n",
      "[300]\ttraining's auc: 0.979468\tvalid_1's auc: 0.792303\n",
      "[400]\ttraining's auc: 0.987757\tvalid_1's auc: 0.797671\n",
      "[500]\ttraining's auc: 0.992543\tvalid_1's auc: 0.798926\n",
      "[600]\ttraining's auc: 0.995515\tvalid_1's auc: 0.800823\n",
      "[700]\ttraining's auc: 0.997592\tvalid_1's auc: 0.802932\n",
      "[800]\ttraining's auc: 0.998802\tvalid_1's auc: 0.804107\n",
      "[900]\ttraining's auc: 0.999458\tvalid_1's auc: 0.80336\n",
      "[1000]\ttraining's auc: 0.999784\tvalid_1's auc: 0.803867\n",
      "[1100]\ttraining's auc: 0.999931\tvalid_1's auc: 0.804455\n",
      "[1200]\ttraining's auc: 0.999982\tvalid_1's auc: 0.804241\n",
      "[1300]\ttraining's auc: 0.999992\tvalid_1's auc: 0.804481\n",
      "[1400]\ttraining's auc: 0.999994\tvalid_1's auc: 0.804508\n",
      "[1500]\ttraining's auc: 0.999994\tvalid_1's auc: 0.803146\n",
      "Did not meet early stopping. Best iteration is:\n",
      "[1372]\ttraining's auc: 0.999994\tvalid_1's auc: 0.804722\n",
      "fold n°2\n",
      "Training until validation scores don't improve for 500 rounds\n"
     ]
    },
    {
     "name": "stderr",
     "output_type": "stream",
     "text": [
      "e:\\sources\\aiproject\\venv\\lib\\site-packages\\lightgbm\\engine.py:148: UserWarning: Found `n_estimators` in params. Will use it instead of argument\n",
      "  warnings.warn(\"Found `{}` in params. Will use it instead of argument\".format(alias))\n"
     ]
    },
    {
     "name": "stdout",
     "output_type": "stream",
     "text": [
      "[100]\ttraining's auc: 0.958212\tvalid_1's auc: 0.729702\n",
      "[200]\ttraining's auc: 0.968747\tvalid_1's auc: 0.729101\n",
      "[300]\ttraining's auc: 0.97787\tvalid_1's auc: 0.735059\n",
      "[400]\ttraining's auc: 0.984613\tvalid_1's auc: 0.739048\n",
      "[500]\ttraining's auc: 0.990038\tvalid_1's auc: 0.742246\n",
      "[600]\ttraining's auc: 0.99359\tvalid_1's auc: 0.746017\n",
      "[700]\ttraining's auc: 0.996287\tvalid_1's auc: 0.747274\n",
      "[800]\ttraining's auc: 0.997893\tvalid_1's auc: 0.750936\n",
      "[900]\ttraining's auc: 0.998919\tvalid_1's auc: 0.75386\n",
      "[1000]\ttraining's auc: 0.999509\tvalid_1's auc: 0.755828\n",
      "[1100]\ttraining's auc: 0.999789\tvalid_1's auc: 0.757085\n",
      "[1200]\ttraining's auc: 0.99993\tvalid_1's auc: 0.758943\n",
      "[1300]\ttraining's auc: 0.999966\tvalid_1's auc: 0.760364\n",
      "[1400]\ttraining's auc: 0.99999\tvalid_1's auc: 0.761512\n",
      "[1500]\ttraining's auc: 0.999993\tvalid_1's auc: 0.762004\n",
      "Did not meet early stopping. Best iteration is:\n",
      "[1434]\ttraining's auc: 0.999993\tvalid_1's auc: 0.761566\n",
      "fold n°3\n",
      "Training until validation scores don't improve for 500 rounds\n"
     ]
    },
    {
     "name": "stderr",
     "output_type": "stream",
     "text": [
      "e:\\sources\\aiproject\\venv\\lib\\site-packages\\lightgbm\\engine.py:148: UserWarning: Found `n_estimators` in params. Will use it instead of argument\n",
      "  warnings.warn(\"Found `{}` in params. Will use it instead of argument\".format(alias))\n"
     ]
    },
    {
     "name": "stdout",
     "output_type": "stream",
     "text": [
      "[100]\ttraining's auc: 0.954328\tvalid_1's auc: 0.769847\n",
      "[200]\ttraining's auc: 0.968634\tvalid_1's auc: 0.773673\n",
      "[300]\ttraining's auc: 0.977881\tvalid_1's auc: 0.777662\n",
      "[400]\ttraining's auc: 0.985578\tvalid_1's auc: 0.783265\n",
      "[500]\ttraining's auc: 0.990442\tvalid_1's auc: 0.786025\n",
      "[600]\ttraining's auc: 0.9941\tvalid_1's auc: 0.788867\n",
      "[700]\ttraining's auc: 0.996575\tvalid_1's auc: 0.79067\n",
      "[800]\ttraining's auc: 0.998006\tvalid_1's auc: 0.791108\n",
      "[900]\ttraining's auc: 0.998872\tvalid_1's auc: 0.790315\n",
      "[1000]\ttraining's auc: 0.99939\tvalid_1's auc: 0.790397\n",
      "[1100]\ttraining's auc: 0.999753\tvalid_1's auc: 0.790014\n",
      "[1200]\ttraining's auc: 0.999891\tvalid_1's auc: 0.78996\n",
      "Early stopping, best iteration is:\n",
      "[754]\ttraining's auc: 0.997392\tvalid_1's auc: 0.791709\n",
      "fold n°4\n",
      "Training until validation scores don't improve for 500 rounds\n"
     ]
    },
    {
     "name": "stderr",
     "output_type": "stream",
     "text": [
      "e:\\sources\\aiproject\\venv\\lib\\site-packages\\lightgbm\\engine.py:148: UserWarning: Found `n_estimators` in params. Will use it instead of argument\n",
      "  warnings.warn(\"Found `{}` in params. Will use it instead of argument\".format(alias))\n"
     ]
    },
    {
     "name": "stdout",
     "output_type": "stream",
     "text": [
      "[100]\ttraining's auc: 0.962866\tvalid_1's auc: 0.742888\n",
      "[200]\ttraining's auc: 0.973212\tvalid_1's auc: 0.745511\n",
      "[300]\ttraining's auc: 0.981606\tvalid_1's auc: 0.748668\n",
      "[400]\ttraining's auc: 0.987653\tvalid_1's auc: 0.751291\n",
      "[500]\ttraining's auc: 0.992247\tvalid_1's auc: 0.754051\n",
      "[600]\ttraining's auc: 0.995063\tvalid_1's auc: 0.75222\n",
      "[700]\ttraining's auc: 0.996924\tvalid_1's auc: 0.752876\n",
      "[800]\ttraining's auc: 0.998185\tvalid_1's auc: 0.755062\n",
      "[900]\ttraining's auc: 0.999043\tvalid_1's auc: 0.757249\n",
      "[1000]\ttraining's auc: 0.999521\tvalid_1's auc: 0.757139\n",
      "[1100]\ttraining's auc: 0.999801\tvalid_1's auc: 0.756565\n",
      "[1200]\ttraining's auc: 0.999937\tvalid_1's auc: 0.756948\n",
      "[1300]\ttraining's auc: 0.999971\tvalid_1's auc: 0.757385\n",
      "[1400]\ttraining's auc: 0.99999\tvalid_1's auc: 0.759025\n",
      "[1500]\ttraining's auc: 0.999995\tvalid_1's auc: 0.759298\n",
      "Did not meet early stopping. Best iteration is:\n",
      "[1469]\ttraining's auc: 0.999995\tvalid_1's auc: 0.758861\n",
      "| \u001b[95m 14      \u001b[0m | \u001b[95m 0.7793  \u001b[0m | \u001b[95m 0.9216  \u001b[0m | \u001b[95m 0.8167  \u001b[0m | \u001b[95m 0.9636  \u001b[0m | \u001b[95m 3.982   \u001b[0m | \u001b[95m 0.00502 \u001b[0m | \u001b[95m 9.305   \u001b[0m | \u001b[95m 25.01   \u001b[0m | \u001b[95m 105.9   \u001b[0m |\n",
      "fold n°0\n",
      "Training until validation scores don't improve for 500 rounds\n"
     ]
    },
    {
     "name": "stderr",
     "output_type": "stream",
     "text": [
      "e:\\sources\\aiproject\\venv\\lib\\site-packages\\lightgbm\\engine.py:148: UserWarning: Found `n_estimators` in params. Will use it instead of argument\n",
      "  warnings.warn(\"Found `{}` in params. Will use it instead of argument\".format(alias))\n"
     ]
    },
    {
     "name": "stdout",
     "output_type": "stream",
     "text": [
      "[100]\ttraining's auc: 0.950007\tvalid_1's auc: 0.759826\n",
      "[200]\ttraining's auc: 0.970785\tvalid_1's auc: 0.770881\n",
      "[300]\ttraining's auc: 0.984874\tvalid_1's auc: 0.770854\n",
      "[400]\ttraining's auc: 0.991346\tvalid_1's auc: 0.771427\n",
      "[500]\ttraining's auc: 0.996116\tvalid_1's auc: 0.767606\n",
      "[600]\ttraining's auc: 0.998101\tvalid_1's auc: 0.76504\n",
      "[700]\ttraining's auc: 0.999339\tvalid_1's auc: 0.760481\n",
      "Early stopping, best iteration is:\n",
      "[236]\ttraining's auc: 0.976864\tvalid_1's auc: 0.773201\n",
      "fold n°1\n"
     ]
    },
    {
     "name": "stderr",
     "output_type": "stream",
     "text": [
      "e:\\sources\\aiproject\\venv\\lib\\site-packages\\lightgbm\\engine.py:148: UserWarning: Found `n_estimators` in params. Will use it instead of argument\n",
      "  warnings.warn(\"Found `{}` in params. Will use it instead of argument\".format(alias))\n"
     ]
    },
    {
     "name": "stdout",
     "output_type": "stream",
     "text": [
      "Training until validation scores don't improve for 500 rounds\n",
      "[100]\ttraining's auc: 0.95333\tvalid_1's auc: 0.779551\n",
      "[200]\ttraining's auc: 0.973646\tvalid_1's auc: 0.791582\n",
      "[300]\ttraining's auc: 0.985919\tvalid_1's auc: 0.799834\n",
      "[400]\ttraining's auc: 0.99173\tvalid_1's auc: 0.804561\n",
      "[500]\ttraining's auc: 0.995124\tvalid_1's auc: 0.8079\n",
      "[600]\ttraining's auc: 0.996967\tvalid_1's auc: 0.808087\n",
      "[700]\ttraining's auc: 0.998102\tvalid_1's auc: 0.808621\n",
      "[800]\ttraining's auc: 0.999236\tvalid_1's auc: 0.807846\n",
      "[900]\ttraining's auc: 0.999767\tvalid_1's auc: 0.809102\n",
      "[1000]\ttraining's auc: 0.999963\tvalid_1's auc: 0.809395\n",
      "[1100]\ttraining's auc: 0.999989\tvalid_1's auc: 0.808701\n",
      "[1200]\ttraining's auc: 0.999994\tvalid_1's auc: 0.807633\n",
      "[1300]\ttraining's auc: 0.999994\tvalid_1's auc: 0.807259\n",
      "[1400]\ttraining's auc: 0.999994\tvalid_1's auc: 0.807259\n",
      "Early stopping, best iteration is:\n",
      "[997]\ttraining's auc: 0.999962\tvalid_1's auc: 0.809769\n",
      "fold n°2\n",
      "Training until validation scores don't improve for 500 rounds\n"
     ]
    },
    {
     "name": "stderr",
     "output_type": "stream",
     "text": [
      "e:\\sources\\aiproject\\venv\\lib\\site-packages\\lightgbm\\engine.py:148: UserWarning: Found `n_estimators` in params. Will use it instead of argument\n",
      "  warnings.warn(\"Found `{}` in params. Will use it instead of argument\".format(alias))\n"
     ]
    },
    {
     "name": "stdout",
     "output_type": "stream",
     "text": [
      "[100]\ttraining's auc: 0.952029\tvalid_1's auc: 0.727926\n",
      "[200]\ttraining's auc: 0.971334\tvalid_1's auc: 0.736343\n",
      "[300]\ttraining's auc: 0.98416\tvalid_1's auc: 0.743066\n",
      "[400]\ttraining's auc: 0.990974\tvalid_1's auc: 0.748422\n",
      "[500]\ttraining's auc: 0.994836\tvalid_1's auc: 0.74834\n",
      "[600]\ttraining's auc: 0.997443\tvalid_1's auc: 0.747165\n",
      "[700]\ttraining's auc: 0.998747\tvalid_1's auc: 0.749624\n",
      "[800]\ttraining's auc: 0.999509\tvalid_1's auc: 0.751127\n",
      "[900]\ttraining's auc: 0.999791\tvalid_1's auc: 0.754243\n",
      "[1000]\ttraining's auc: 0.999951\tvalid_1's auc: 0.754133\n",
      "[1100]\ttraining's auc: 0.999986\tvalid_1's auc: 0.754297\n",
      "[1200]\ttraining's auc: 0.999995\tvalid_1's auc: 0.75509\n",
      "[1300]\ttraining's auc: 0.999998\tvalid_1's auc: 0.756456\n",
      "[1400]\ttraining's auc: 1\tvalid_1's auc: 0.757659\n",
      "[1500]\ttraining's auc: 1\tvalid_1's auc: 0.758588\n",
      "Did not meet early stopping. Best iteration is:\n",
      "[1355]\ttraining's auc: 1\tvalid_1's auc: 0.756948\n",
      "fold n°3\n",
      "Training until validation scores don't improve for 500 rounds"
     ]
    },
    {
     "name": "stderr",
     "output_type": "stream",
     "text": [
      "e:\\sources\\aiproject\\venv\\lib\\site-packages\\lightgbm\\engine.py:148: UserWarning: Found `n_estimators` in params. Will use it instead of argument\n",
      "  warnings.warn(\"Found `{}` in params. Will use it instead of argument\".format(alias))\n"
     ]
    },
    {
     "name": "stdout",
     "output_type": "stream",
     "text": [
      "\n",
      "[100]\ttraining's auc: 0.951181\tvalid_1's auc: 0.775285\n",
      "[200]\ttraining's auc: 0.973391\tvalid_1's auc: 0.785341\n",
      "[300]\ttraining's auc: 0.986936\tvalid_1's auc: 0.790397\n",
      "[400]\ttraining's auc: 0.992745\tvalid_1's auc: 0.796573\n",
      "[500]\ttraining's auc: 0.995718\tvalid_1's auc: 0.800344\n",
      "[600]\ttraining's auc: 0.997981\tvalid_1's auc: 0.800672\n",
      "[700]\ttraining's auc: 0.999176\tvalid_1's auc: 0.799333\n",
      "[800]\ttraining's auc: 0.999597\tvalid_1's auc: 0.801137\n",
      "[900]\ttraining's auc: 0.999845\tvalid_1's auc: 0.801465\n",
      "[1000]\ttraining's auc: 0.99995\tvalid_1's auc: 0.80305\n",
      "[1100]\ttraining's auc: 0.999975\tvalid_1's auc: 0.803432\n",
      "[1200]\ttraining's auc: 0.999986\tvalid_1's auc: 0.80376\n",
      "[1300]\ttraining's auc: 0.999994\tvalid_1's auc: 0.804116\n",
      "[1400]\ttraining's auc: 0.999996\tvalid_1's auc: 0.803678\n",
      "[1500]\ttraining's auc: 0.999996\tvalid_1's auc: 0.804006\n",
      "Did not meet early stopping. Best iteration is:\n",
      "[1389]\ttraining's auc: 0.999996\tvalid_1's auc: 0.803815\n",
      "fold n°4\n"
     ]
    },
    {
     "name": "stderr",
     "output_type": "stream",
     "text": [
      "e:\\sources\\aiproject\\venv\\lib\\site-packages\\lightgbm\\engine.py:148: UserWarning: Found `n_estimators` in params. Will use it instead of argument\n",
      "  warnings.warn(\"Found `{}` in params. Will use it instead of argument\".format(alias))\n"
     ]
    },
    {
     "name": "stdout",
     "output_type": "stream",
     "text": [
      "Training until validation scores don't improve for 500 rounds\n",
      "[100]\ttraining's auc: 0.955934\tvalid_1's auc: 0.745184\n",
      "[200]\ttraining's auc: 0.976186\tvalid_1's auc: 0.747657\n",
      "[300]\ttraining's auc: 0.98745\tvalid_1's auc: 0.753887\n",
      "[400]\ttraining's auc: 0.993272\tvalid_1's auc: 0.757194\n",
      "[500]\ttraining's auc: 0.99645\tvalid_1's auc: 0.760583\n",
      "[600]\ttraining's auc: 0.998379\tvalid_1's auc: 0.760747\n",
      "[700]\ttraining's auc: 0.99927\tvalid_1's auc: 0.76225\n",
      "[800]\ttraining's auc: 0.999684\tvalid_1's auc: 0.762086\n",
      "[900]\ttraining's auc: 0.99991\tvalid_1's auc: 0.762086\n",
      "[1000]\ttraining's auc: 0.999968\tvalid_1's auc: 0.762523\n",
      "[1100]\ttraining's auc: 0.999988\tvalid_1's auc: 0.763944\n",
      "[1200]\ttraining's auc: 0.999997\tvalid_1's auc: 0.7649\n",
      "[1300]\ttraining's auc: 1\tvalid_1's auc: 0.764928\n",
      "[1400]\ttraining's auc: 1\tvalid_1's auc: 0.76501\n",
      "[1500]\ttraining's auc: 1\tvalid_1's auc: 0.765228\n",
      "Did not meet early stopping. Best iteration is:\n",
      "[1277]\ttraining's auc: 1\tvalid_1's auc: 0.764764\n",
      "| \u001b[95m 15      \u001b[0m | \u001b[95m 0.7817  \u001b[0m | \u001b[95m 0.7408  \u001b[0m | \u001b[95m 0.9239  \u001b[0m | \u001b[95m 0.3893  \u001b[0m | \u001b[95m 4.26    \u001b[0m | \u001b[95m 0.009025\u001b[0m | \u001b[95m 6.745   \u001b[0m | \u001b[95m 26.51   \u001b[0m | \u001b[95m 106.4   \u001b[0m |\n",
      "fold n°0\n",
      "Training until validation scores don't improve for 500 rounds\n"
     ]
    },
    {
     "name": "stderr",
     "output_type": "stream",
     "text": [
      "e:\\sources\\aiproject\\venv\\lib\\site-packages\\lightgbm\\engine.py:148: UserWarning: Found `n_estimators` in params. Will use it instead of argument\n",
      "  warnings.warn(\"Found `{}` in params. Will use it instead of argument\".format(alias))\n"
     ]
    },
    {
     "name": "stdout",
     "output_type": "stream",
     "text": [
      "[100]\ttraining's auc: 0.958338\tvalid_1's auc: 0.749782\n",
      "[200]\ttraining's auc: 0.978522\tvalid_1's auc: 0.773638\n",
      "[300]\ttraining's auc: 0.989812\tvalid_1's auc: 0.773638\n",
      "[400]\ttraining's auc: 0.995158\tvalid_1's auc: 0.775494\n",
      "[500]\ttraining's auc: 0.99826\tvalid_1's auc: 0.770499\n",
      "[600]\ttraining's auc: 0.99942\tvalid_1's auc: 0.768315\n",
      "[700]\ttraining's auc: 0.999863\tvalid_1's auc: 0.763539\n",
      "[800]\ttraining's auc: 0.999963\tvalid_1's auc: 0.760536\n",
      "Early stopping, best iteration is:\n",
      "[360]\ttraining's auc: 0.99321\tvalid_1's auc: 0.776859\n",
      "fold n°1\n",
      "Training until validation scores don't improve for 500 rounds\n"
     ]
    },
    {
     "name": "stderr",
     "output_type": "stream",
     "text": [
      "e:\\sources\\aiproject\\venv\\lib\\site-packages\\lightgbm\\engine.py:148: UserWarning: Found `n_estimators` in params. Will use it instead of argument\n",
      "  warnings.warn(\"Found `{}` in params. Will use it instead of argument\".format(alias))\n"
     ]
    },
    {
     "name": "stdout",
     "output_type": "stream",
     "text": [
      "[100]\ttraining's auc: 0.964287\tvalid_1's auc: 0.786722\n",
      "[200]\ttraining's auc: 0.980394\tvalid_1's auc: 0.800769\n",
      "[300]\ttraining's auc: 0.98998\tvalid_1's auc: 0.800929\n",
      "[400]\ttraining's auc: 0.994962\tvalid_1's auc: 0.805229\n",
      "[500]\ttraining's auc: 0.997163\tvalid_1's auc: 0.805843\n",
      "[600]\ttraining's auc: 0.998145\tvalid_1's auc: 0.806164\n",
      "[700]\ttraining's auc: 0.998742\tvalid_1's auc: 0.806084\n",
      "[800]\ttraining's auc: 0.999511\tvalid_1's auc: 0.806805\n",
      "[900]\ttraining's auc: 0.999866\tvalid_1's auc: 0.804909\n",
      "[1000]\ttraining's auc: 0.999975\tvalid_1's auc: 0.804188\n",
      "[1100]\ttraining's auc: 0.999992\tvalid_1's auc: 0.802665\n",
      "[1200]\ttraining's auc: 0.999996\tvalid_1's auc: 0.803146\n",
      "Early stopping, best iteration is:\n",
      "[755]\ttraining's auc: 0.999263\tvalid_1's auc: 0.807152\n",
      "fold n°2\n",
      "Training until validation scores don't improve for 500 rounds"
     ]
    },
    {
     "name": "stderr",
     "output_type": "stream",
     "text": [
      "e:\\sources\\aiproject\\venv\\lib\\site-packages\\lightgbm\\engine.py:148: UserWarning: Found `n_estimators` in params. Will use it instead of argument\n",
      "  warnings.warn(\"Found `{}` in params. Will use it instead of argument\".format(alias))\n"
     ]
    },
    {
     "name": "stdout",
     "output_type": "stream",
     "text": [
      "\n",
      "[100]\ttraining's auc: 0.961633\tvalid_1's auc: 0.729566\n",
      "[200]\ttraining's auc: 0.976887\tvalid_1's auc: 0.739486\n",
      "[300]\ttraining's auc: 0.988061\tvalid_1's auc: 0.744569\n",
      "[400]\ttraining's auc: 0.993758\tvalid_1's auc: 0.75069\n",
      "[500]\ttraining's auc: 0.997136\tvalid_1's auc: 0.751401\n",
      "[600]\ttraining's auc: 0.998751\tvalid_1's auc: 0.754926\n",
      "[700]\ttraining's auc: 0.999543\tvalid_1's auc: 0.756593\n",
      "[800]\ttraining's auc: 0.999878\tvalid_1's auc: 0.757358\n",
      "[900]\ttraining's auc: 0.999964\tvalid_1's auc: 0.758205\n",
      "[1000]\ttraining's auc: 0.999993\tvalid_1's auc: 0.75826\n",
      "[1100]\ttraining's auc: 0.999998\tvalid_1's auc: 0.759681\n",
      "[1200]\ttraining's auc: 1\tvalid_1's auc: 0.759735\n",
      "[1300]\ttraining's auc: 1\tvalid_1's auc: 0.760501\n",
      "[1400]\ttraining's auc: 1\tvalid_1's auc: 0.760829\n",
      "[1500]\ttraining's auc: 1\tvalid_1's auc: 0.760774\n",
      "Did not meet early stopping. Best iteration is:\n",
      "[1151]\ttraining's auc: 1\tvalid_1's auc: 0.759408\n",
      "fold n°3\n"
     ]
    },
    {
     "name": "stderr",
     "output_type": "stream",
     "text": [
      "e:\\sources\\aiproject\\venv\\lib\\site-packages\\lightgbm\\engine.py:148: UserWarning: Found `n_estimators` in params. Will use it instead of argument\n",
      "  warnings.warn(\"Found `{}` in params. Will use it instead of argument\".format(alias))\n"
     ]
    },
    {
     "name": "stdout",
     "output_type": "stream",
     "text": [
      "Training until validation scores don't improve for 500 rounds\n",
      "[100]\ttraining's auc: 0.959416\tvalid_1's auc: 0.769847\n",
      "[200]\ttraining's auc: 0.979217\tvalid_1's auc: 0.775886\n",
      "[300]\ttraining's auc: 0.990085\tvalid_1's auc: 0.780341\n",
      "[400]\ttraining's auc: 0.995536\tvalid_1's auc: 0.786981\n",
      "[500]\ttraining's auc: 0.997502\tvalid_1's auc: 0.789659\n",
      "[600]\ttraining's auc: 0.999047\tvalid_1's auc: 0.791053\n",
      "[700]\ttraining's auc: 0.999739\tvalid_1's auc: 0.792064\n",
      "[800]\ttraining's auc: 0.999911\tvalid_1's auc: 0.79343\n",
      "[900]\ttraining's auc: 0.999962\tvalid_1's auc: 0.794578\n",
      "[1000]\ttraining's auc: 0.999987\tvalid_1's auc: 0.79548\n",
      "[1100]\ttraining's auc: 0.999994\tvalid_1's auc: 0.794606\n",
      "[1200]\ttraining's auc: 0.999996\tvalid_1's auc: 0.794305\n",
      "[1300]\ttraining's auc: 0.999996\tvalid_1's auc: 0.794824\n",
      "[1400]\ttraining's auc: 0.999997\tvalid_1's auc: 0.794278\n",
      "[1500]\ttraining's auc: 0.999999\tvalid_1's auc: 0.79425\n",
      "Did not meet early stopping. Best iteration is:\n",
      "[1492]\ttraining's auc: 0.999999\tvalid_1's auc: 0.794414\n",
      "fold n°4\n"
     ]
    },
    {
     "name": "stderr",
     "output_type": "stream",
     "text": [
      "e:\\sources\\aiproject\\venv\\lib\\site-packages\\lightgbm\\engine.py:148: UserWarning: Found `n_estimators` in params. Will use it instead of argument\n",
      "  warnings.warn(\"Found `{}` in params. Will use it instead of argument\".format(alias))\n"
     ]
    },
    {
     "name": "stdout",
     "output_type": "stream",
     "text": [
      "Training until validation scores don't improve for 500 rounds\n",
      "[100]\ttraining's auc: 0.964286\tvalid_1's auc: 0.744664\n",
      "[200]\ttraining's auc: 0.980734\tvalid_1's auc: 0.744514\n",
      "[300]\ttraining's auc: 0.990061\tvalid_1's auc: 0.749843\n",
      "[400]\ttraining's auc: 0.994841\tvalid_1's auc: 0.755445\n",
      "[500]\ttraining's auc: 0.997493\tvalid_1's auc: 0.758396\n",
      "[600]\ttraining's auc: 0.998997\tvalid_1's auc: 0.757768\n",
      "[700]\ttraining's auc: 0.999594\tvalid_1's auc: 0.760637\n",
      "[800]\ttraining's auc: 0.999857\tvalid_1's auc: 0.761594\n",
      "[900]\ttraining's auc: 0.999971\tvalid_1's auc: 0.761949\n",
      "[1000]\ttraining's auc: 0.999992\tvalid_1's auc: 0.760337\n",
      "[1100]\ttraining's auc: 0.999995\tvalid_1's auc: 0.759845\n",
      "[1200]\ttraining's auc: 1\tvalid_1's auc: 0.760501\n",
      "[1300]\ttraining's auc: 1\tvalid_1's auc: 0.761075\n",
      "Early stopping, best iteration is:\n",
      "[878]\ttraining's auc: 0.999963\tvalid_1's auc: 0.762441\n",
      "| \u001b[0m 16      \u001b[0m | \u001b[0m 0.7801  \u001b[0m | \u001b[0m 0.8332  \u001b[0m | \u001b[0m 0.8016  \u001b[0m | \u001b[0m 0.4465  \u001b[0m | \u001b[0m 4.224   \u001b[0m | \u001b[0m 0.00844 \u001b[0m | \u001b[0m 7.864   \u001b[0m | \u001b[0m 25.56   \u001b[0m | \u001b[0m 107.5   \u001b[0m |\n",
      "fold n°0\n"
     ]
    },
    {
     "name": "stderr",
     "output_type": "stream",
     "text": [
      "e:\\sources\\aiproject\\venv\\lib\\site-packages\\lightgbm\\engine.py:148: UserWarning: Found `n_estimators` in params. Will use it instead of argument\n",
      "  warnings.warn(\"Found `{}` in params. Will use it instead of argument\".format(alias))\n"
     ]
    },
    {
     "name": "stdout",
     "output_type": "stream",
     "text": [
      "Training until validation scores don't improve for 500 rounds\n",
      "[100]\ttraining's auc: 0.94155\tvalid_1's auc: 0.758516\n",
      "[200]\ttraining's auc: 0.964161\tvalid_1's auc: 0.775985\n",
      "[300]\ttraining's auc: 0.98067\tvalid_1's auc: 0.782645\n",
      "[400]\ttraining's auc: 0.988539\tvalid_1's auc: 0.783437\n",
      "[500]\ttraining's auc: 0.994341\tvalid_1's auc: 0.779152\n",
      "[600]\ttraining's auc: 0.99691\tvalid_1's auc: 0.77473\n",
      "[700]\ttraining's auc: 0.998578\tvalid_1's auc: 0.770253\n",
      "[800]\ttraining's auc: 0.999398\tvalid_1's auc: 0.768261\n",
      "Early stopping, best iteration is:\n",
      "[368]\ttraining's auc: 0.986606\tvalid_1's auc: 0.784829\n",
      "fold n°1\n",
      "Training until validation scores don't improve for 500 rounds\n"
     ]
    },
    {
     "name": "stderr",
     "output_type": "stream",
     "text": [
      "e:\\sources\\aiproject\\venv\\lib\\site-packages\\lightgbm\\engine.py:148: UserWarning: Found `n_estimators` in params. Will use it instead of argument\n",
      "  warnings.warn(\"Found `{}` in params. Will use it instead of argument\".format(alias))\n"
     ]
    },
    {
     "name": "stdout",
     "output_type": "stream",
     "text": [
      "[100]\ttraining's auc: 0.942821\tvalid_1's auc: 0.779938\n",
      "[200]\ttraining's auc: 0.965829\tvalid_1's auc: 0.793371\n",
      "[300]\ttraining's auc: 0.979778\tvalid_1's auc: 0.79914\n",
      "[400]\ttraining's auc: 0.98824\tvalid_1's auc: 0.804375\n",
      "[500]\ttraining's auc: 0.992898\tvalid_1's auc: 0.805042\n",
      "[600]\ttraining's auc: 0.995618\tvalid_1's auc: 0.808327\n",
      "[700]\ttraining's auc: 0.997482\tvalid_1's auc: 0.80806\n",
      "[800]\ttraining's auc: 0.998966\tvalid_1's auc: 0.807633\n",
      "[900]\ttraining's auc: 0.999671\tvalid_1's auc: 0.806912\n",
      "[1000]\ttraining's auc: 0.999915\tvalid_1's auc: 0.806324\n",
      "[1100]\ttraining's auc: 0.999972\tvalid_1's auc: 0.805656\n",
      "Early stopping, best iteration is:\n",
      "[609]\ttraining's auc: 0.995819\tvalid_1's auc: 0.809235\n",
      "fold n°2\n",
      "Training until validation scores don't improve for 500 rounds\n"
     ]
    },
    {
     "name": "stderr",
     "output_type": "stream",
     "text": [
      "e:\\sources\\aiproject\\venv\\lib\\site-packages\\lightgbm\\engine.py:148: UserWarning: Found `n_estimators` in params. Will use it instead of argument\n",
      "  warnings.warn(\"Found `{}` in params. Will use it instead of argument\".format(alias))\n"
     ]
    },
    {
     "name": "stdout",
     "output_type": "stream",
     "text": [
      "[100]\ttraining's auc: 0.945566\tvalid_1's auc: 0.723991\n",
      "[200]\ttraining's auc: 0.964391\tvalid_1's auc: 0.729921\n",
      "[300]\ttraining's auc: 0.978386\tvalid_1's auc: 0.738611\n",
      "[400]\ttraining's auc: 0.986979\tvalid_1's auc: 0.740743\n",
      "[500]\ttraining's auc: 0.99204\tvalid_1's auc: 0.745607\n",
      "[600]\ttraining's auc: 0.995615\tvalid_1's auc: 0.74793\n",
      "[700]\ttraining's auc: 0.997552\tvalid_1's auc: 0.751182\n",
      "[800]\ttraining's auc: 0.998874\tvalid_1's auc: 0.752658\n",
      "[900]\ttraining's auc: 0.999331\tvalid_1's auc: 0.75468\n",
      "[1000]\ttraining's auc: 0.999727\tvalid_1's auc: 0.756565\n",
      "[1100]\ttraining's auc: 0.999876\tvalid_1's auc: 0.756074\n",
      "[1200]\ttraining's auc: 0.999959\tvalid_1's auc: 0.755855\n",
      "[1300]\ttraining's auc: 0.999985\tvalid_1's auc: 0.758123\n",
      "[1400]\ttraining's auc: 0.999995\tvalid_1's auc: 0.758588\n",
      "[1500]\ttraining's auc: 0.999997\tvalid_1's auc: 0.7602\n",
      "Did not meet early stopping. Best iteration is:\n",
      "[1421]\ttraining's auc: 0.999997\tvalid_1's auc: 0.759899\n",
      "fold n°3\n"
     ]
    },
    {
     "name": "stderr",
     "output_type": "stream",
     "text": [
      "e:\\sources\\aiproject\\venv\\lib\\site-packages\\lightgbm\\engine.py:148: UserWarning: Found `n_estimators` in params. Will use it instead of argument\n",
      "  warnings.warn(\"Found `{}` in params. Will use it instead of argument\".format(alias))\n"
     ]
    },
    {
     "name": "stdout",
     "output_type": "stream",
     "text": [
      "Training until validation scores don't improve for 500 rounds\n",
      "[100]\ttraining's auc: 0.943177\tvalid_1's auc: 0.772252\n",
      "[200]\ttraining's auc: 0.965943\tvalid_1's auc: 0.781926\n",
      "[300]\ttraining's auc: 0.981589\tvalid_1's auc: 0.787637\n",
      "[400]\ttraining's auc: 0.989628\tvalid_1's auc: 0.79272\n",
      "[500]\ttraining's auc: 0.99373\tvalid_1's auc: 0.793895\n",
      "[600]\ttraining's auc: 0.997013\tvalid_1's auc: 0.796792\n",
      "[700]\ttraining's auc: 0.998519\tvalid_1's auc: 0.795671\n",
      "[800]\ttraining's auc: 0.9992\tvalid_1's auc: 0.79753\n",
      "[900]\ttraining's auc: 0.999599\tvalid_1's auc: 0.796573\n",
      "[1000]\ttraining's auc: 0.999867\tvalid_1's auc: 0.795152\n",
      "[1100]\ttraining's auc: 0.999933\tvalid_1's auc: 0.793594\n",
      "[1200]\ttraining's auc: 0.999964\tvalid_1's auc: 0.794633\n",
      "Early stopping, best iteration is:\n",
      "[731]\ttraining's auc: 0.998734\tvalid_1's auc: 0.798623\n",
      "fold n°4\n"
     ]
    },
    {
     "name": "stderr",
     "output_type": "stream",
     "text": [
      "e:\\sources\\aiproject\\venv\\lib\\site-packages\\lightgbm\\engine.py:148: UserWarning: Found `n_estimators` in params. Will use it instead of argument\n",
      "  warnings.warn(\"Found `{}` in params. Will use it instead of argument\".format(alias))\n"
     ]
    },
    {
     "name": "stdout",
     "output_type": "stream",
     "text": [
      "Training until validation scores don't improve for 500 rounds\n",
      "[100]\ttraining's auc: 0.949311\tvalid_1's auc: 0.746304\n",
      "[200]\ttraining's auc: 0.969688\tvalid_1's auc: 0.748777\n",
      "[300]\ttraining's auc: 0.982399\tvalid_1's auc: 0.753751\n",
      "[400]\ttraining's auc: 0.989899\tvalid_1's auc: 0.755937\n",
      "[500]\ttraining's auc: 0.99442\tvalid_1's auc: 0.760419\n",
      "[600]\ttraining's auc: 0.997068\tvalid_1's auc: 0.760419\n",
      "[700]\ttraining's auc: 0.998579\tvalid_1's auc: 0.762687\n",
      "[800]\ttraining's auc: 0.999284\tvalid_1's auc: 0.762523\n",
      "[900]\ttraining's auc: 0.999691\tvalid_1's auc: 0.761648\n",
      "[1000]\ttraining's auc: 0.999885\tvalid_1's auc: 0.76184\n",
      "[1100]\ttraining's auc: 0.999954\tvalid_1's auc: 0.762004\n",
      "[1200]\ttraining's auc: 0.999988\tvalid_1's auc: 0.763343\n",
      "[1300]\ttraining's auc: 0.999993\tvalid_1's auc: 0.763889\n",
      "[1400]\ttraining's auc: 0.999993\tvalid_1's auc: 0.764081\n",
      "[1500]\ttraining's auc: 0.999998\tvalid_1's auc: 0.763643\n",
      "Did not meet early stopping. Best iteration is:\n",
      "[1431]\ttraining's auc: 0.999998\tvalid_1's auc: 0.76449\n",
      "| \u001b[95m 17      \u001b[0m | \u001b[95m 0.7834  \u001b[0m | \u001b[95m 0.7014  \u001b[0m | \u001b[95m 0.8791  \u001b[0m | \u001b[95m 0.8805  \u001b[0m | \u001b[95m 5.197   \u001b[0m | \u001b[95m 0.009157\u001b[0m | \u001b[95m 7.706   \u001b[0m | \u001b[95m 27.56   \u001b[0m | \u001b[95m 104.8   \u001b[0m |\n",
      "fold n°0\n",
      "Training until validation scores don't improve for 500 rounds\n"
     ]
    },
    {
     "name": "stderr",
     "output_type": "stream",
     "text": [
      "e:\\sources\\aiproject\\venv\\lib\\site-packages\\lightgbm\\engine.py:148: UserWarning: Found `n_estimators` in params. Will use it instead of argument\n",
      "  warnings.warn(\"Found `{}` in params. Will use it instead of argument\".format(alias))\n"
     ]
    },
    {
     "name": "stdout",
     "output_type": "stream",
     "text": [
      "[100]\ttraining's auc: 0.933256\tvalid_1's auc: 0.745988\n",
      "[200]\ttraining's auc: 0.95287\tvalid_1's auc: 0.768752\n",
      "[300]\ttraining's auc: 0.968834\tvalid_1's auc: 0.771918\n",
      "[400]\ttraining's auc: 0.977226\tvalid_1's auc: 0.778442\n",
      "[500]\ttraining's auc: 0.985321\tvalid_1's auc: 0.777459\n",
      "[600]\ttraining's auc: 0.989474\tvalid_1's auc: 0.778033\n",
      "[700]\ttraining's auc: 0.993307\tvalid_1's auc: 0.776995\n",
      "[800]\ttraining's auc: 0.995644\tvalid_1's auc: 0.777104\n",
      "[900]\ttraining's auc: 0.99725\tvalid_1's auc: 0.774457\n",
      "Early stopping, best iteration is:\n",
      "[424]\ttraining's auc: 0.979455\tvalid_1's auc: 0.779288\n",
      "fold n°1\n"
     ]
    },
    {
     "name": "stderr",
     "output_type": "stream",
     "text": [
      "e:\\sources\\aiproject\\venv\\lib\\site-packages\\lightgbm\\engine.py:148: UserWarning: Found `n_estimators` in params. Will use it instead of argument\n",
      "  warnings.warn(\"Found `{}` in params. Will use it instead of argument\".format(alias))\n"
     ]
    },
    {
     "name": "stdout",
     "output_type": "stream",
     "text": [
      "Training until validation scores don't improve for 500 rounds\n",
      "[100]\ttraining's auc: 0.938706\tvalid_1's auc: 0.778095\n",
      "[200]\ttraining's auc: 0.955241\tvalid_1's auc: 0.788457\n",
      "[300]\ttraining's auc: 0.969186\tvalid_1's auc: 0.792998\n",
      "[400]\ttraining's auc: 0.978813\tvalid_1's auc: 0.802078\n",
      "[500]\ttraining's auc: 0.985303\tvalid_1's auc: 0.804642\n",
      "[600]\ttraining's auc: 0.990048\tvalid_1's auc: 0.809395\n",
      "[700]\ttraining's auc: 0.993261\tvalid_1's auc: 0.810437\n",
      "[800]\ttraining's auc: 0.995929\tvalid_1's auc: 0.811265\n",
      "[900]\ttraining's auc: 0.997668\tvalid_1's auc: 0.811372\n",
      "[1000]\ttraining's auc: 0.9987\tvalid_1's auc: 0.812333\n",
      "[1100]\ttraining's auc: 0.999292\tvalid_1's auc: 0.812467\n",
      "[1200]\ttraining's auc: 0.999653\tvalid_1's auc: 0.813348\n",
      "[1300]\ttraining's auc: 0.999823\tvalid_1's auc: 0.813027\n",
      "[1400]\ttraining's auc: 0.999931\tvalid_1's auc: 0.813081\n",
      "[1500]\ttraining's auc: 0.999963\tvalid_1's auc: 0.813508\n",
      "Did not meet early stopping. Best iteration is:\n",
      "[1494]\ttraining's auc: 0.999963\tvalid_1's auc: 0.813668\n",
      "fold n°2\n"
     ]
    },
    {
     "name": "stderr",
     "output_type": "stream",
     "text": [
      "e:\\sources\\aiproject\\venv\\lib\\site-packages\\lightgbm\\engine.py:148: UserWarning: Found `n_estimators` in params. Will use it instead of argument\n",
      "  warnings.warn(\"Found `{}` in params. Will use it instead of argument\".format(alias))\n"
     ]
    },
    {
     "name": "stdout",
     "output_type": "stream",
     "text": [
      "Training until validation scores don't improve for 500 rounds\n",
      "[100]\ttraining's auc: 0.939965\tvalid_1's auc: 0.731547\n",
      "[200]\ttraining's auc: 0.955645\tvalid_1's auc: 0.732162\n",
      "[300]\ttraining's auc: 0.966983\tvalid_1's auc: 0.735824\n",
      "[400]\ttraining's auc: 0.97597\tvalid_1's auc: 0.738365\n",
      "[500]\ttraining's auc: 0.982496\tvalid_1's auc: 0.740934\n",
      "[600]\ttraining's auc: 0.988169\tvalid_1's auc: 0.745716\n",
      "[700]\ttraining's auc: 0.991819\tvalid_1's auc: 0.748668\n",
      "[800]\ttraining's auc: 0.99458\tvalid_1's auc: 0.749761\n",
      "[900]\ttraining's auc: 0.996264\tvalid_1's auc: 0.75151\n",
      "[1000]\ttraining's auc: 0.997589\tvalid_1's auc: 0.752166\n",
      "[1100]\ttraining's auc: 0.998435\tvalid_1's auc: 0.751455\n",
      "[1200]\ttraining's auc: 0.999112\tvalid_1's auc: 0.75222\n",
      "[1300]\ttraining's auc: 0.999467\tvalid_1's auc: 0.75386\n",
      "[1400]\ttraining's auc: 0.999659\tvalid_1's auc: 0.756046\n",
      "[1500]\ttraining's auc: 0.999827\tvalid_1's auc: 0.758123\n",
      "Did not meet early stopping. Best iteration is:\n",
      "[1498]\ttraining's auc: 0.999827\tvalid_1's auc: 0.757823\n",
      "fold n°3\n"
     ]
    },
    {
     "name": "stderr",
     "output_type": "stream",
     "text": [
      "e:\\sources\\aiproject\\venv\\lib\\site-packages\\lightgbm\\engine.py:148: UserWarning: Found `n_estimators` in params. Will use it instead of argument\n",
      "  warnings.warn(\"Found `{}` in params. Will use it instead of argument\".format(alias))\n"
     ]
    },
    {
     "name": "stdout",
     "output_type": "stream",
     "text": [
      "Training until validation scores don't improve for 500 rounds\n",
      "[100]\ttraining's auc: 0.935062\tvalid_1's auc: 0.770776\n",
      "[200]\ttraining's auc: 0.953026\tvalid_1's auc: 0.776788\n",
      "[300]\ttraining's auc: 0.967896\tvalid_1's auc: 0.782117\n",
      "[400]\ttraining's auc: 0.977572\tvalid_1's auc: 0.783292\n",
      "[500]\ttraining's auc: 0.984111\tvalid_1's auc: 0.78791\n",
      "[600]\ttraining's auc: 0.989656\tvalid_1's auc: 0.791244\n",
      "[700]\ttraining's auc: 0.993253\tvalid_1's auc: 0.792993\n",
      "[800]\ttraining's auc: 0.995363\tvalid_1's auc: 0.793704\n",
      "[900]\ttraining's auc: 0.996825\tvalid_1's auc: 0.79589\n",
      "[1000]\ttraining's auc: 0.998234\tvalid_1's auc: 0.795999\n",
      "[1100]\ttraining's auc: 0.998867\tvalid_1's auc: 0.795179\n",
      "[1200]\ttraining's auc: 0.999203\tvalid_1's auc: 0.796491\n",
      "[1300]\ttraining's auc: 0.999563\tvalid_1's auc: 0.797721\n",
      "[1400]\ttraining's auc: 0.999782\tvalid_1's auc: 0.798295\n",
      "[1500]\ttraining's auc: 0.999879\tvalid_1's auc: 0.799197\n",
      "Did not meet early stopping. Best iteration is:\n",
      "[1500]\ttraining's auc: 0.999879\tvalid_1's auc: 0.799197\n",
      "fold n°4\n"
     ]
    },
    {
     "name": "stderr",
     "output_type": "stream",
     "text": [
      "e:\\sources\\aiproject\\venv\\lib\\site-packages\\lightgbm\\engine.py:148: UserWarning: Found `n_estimators` in params. Will use it instead of argument\n",
      "  warnings.warn(\"Found `{}` in params. Will use it instead of argument\".format(alias))\n"
     ]
    },
    {
     "name": "stdout",
     "output_type": "stream",
     "text": [
      "Training until validation scores don't improve for 500 rounds\n",
      "[100]\ttraining's auc: 0.943725\tvalid_1's auc: 0.741002\n",
      "[200]\ttraining's auc: 0.959843\tvalid_1's auc: 0.743312\n",
      "[300]\ttraining's auc: 0.971803\tvalid_1's auc: 0.74629\n",
      "[400]\ttraining's auc: 0.980405\tvalid_1's auc: 0.748613\n",
      "[500]\ttraining's auc: 0.986278\tvalid_1's auc: 0.752494\n",
      "[600]\ttraining's auc: 0.990706\tvalid_1's auc: 0.753969\n",
      "[700]\ttraining's auc: 0.993744\tvalid_1's auc: 0.755992\n",
      "[800]\ttraining's auc: 0.995865\tvalid_1's auc: 0.758615\n",
      "[900]\ttraining's auc: 0.997357\tvalid_1's auc: 0.760009\n",
      "[1000]\ttraining's auc: 0.99844\tvalid_1's auc: 0.761949\n",
      "[1100]\ttraining's auc: 0.999056\tvalid_1's auc: 0.763042\n",
      "[1200]\ttraining's auc: 0.999479\tvalid_1's auc: 0.76531\n",
      "[1300]\ttraining's auc: 0.999713\tvalid_1's auc: 0.764135\n",
      "[1400]\ttraining's auc: 0.99983\tvalid_1's auc: 0.764272\n",
      "[1500]\ttraining's auc: 0.999934\tvalid_1's auc: 0.762632\n",
      "Did not meet early stopping. Best iteration is:\n",
      "[1493]\ttraining's auc: 0.999934\tvalid_1's auc: 0.763288\n",
      "| \u001b[0m 18      \u001b[0m | \u001b[0m 0.7827  \u001b[0m | \u001b[0m 0.7     \u001b[0m | \u001b[0m 1.0     \u001b[0m | \u001b[0m 1.0     \u001b[0m | \u001b[0m 4.301   \u001b[0m | \u001b[0m 0.005815\u001b[0m | \u001b[0m 7.821   \u001b[0m | \u001b[0m 28.9    \u001b[0m | \u001b[0m 105.6   \u001b[0m |\n",
      "fold n°0\n",
      "Training until validation scores don't improve for 500 rounds\n"
     ]
    },
    {
     "name": "stderr",
     "output_type": "stream",
     "text": [
      "e:\\sources\\aiproject\\venv\\lib\\site-packages\\lightgbm\\engine.py:148: UserWarning: Found `n_estimators` in params. Will use it instead of argument\n",
      "  warnings.warn(\"Found `{}` in params. Will use it instead of argument\".format(alias))\n"
     ]
    },
    {
     "name": "stdout",
     "output_type": "stream",
     "text": [
      "[100]\ttraining's auc: 0.940586\tvalid_1's auc: 0.756414\n",
      "[200]\ttraining's auc: 0.968523\tvalid_1's auc: 0.77473\n",
      "[300]\ttraining's auc: 0.98194\tvalid_1's auc: 0.77735\n",
      "[400]\ttraining's auc: 0.987915\tvalid_1's auc: 0.77241\n",
      "[500]\ttraining's auc: 0.991838\tvalid_1's auc: 0.767087\n",
      "[600]\ttraining's auc: 0.995314\tvalid_1's auc: 0.76231\n",
      "[700]\ttraining's auc: 0.997481\tvalid_1's auc: 0.757506\n",
      "Early stopping, best iteration is:\n",
      "[233]\ttraining's auc: 0.974599\tvalid_1's auc: 0.778851\n",
      "fold n°1\n",
      "Training until validation scores don't improve for 500 rounds\n"
     ]
    },
    {
     "name": "stderr",
     "output_type": "stream",
     "text": [
      "e:\\sources\\aiproject\\venv\\lib\\site-packages\\lightgbm\\engine.py:148: UserWarning: Found `n_estimators` in params. Will use it instead of argument\n",
      "  warnings.warn(\"Found `{}` in params. Will use it instead of argument\".format(alias))\n"
     ]
    },
    {
     "name": "stdout",
     "output_type": "stream",
     "text": [
      "[100]\ttraining's auc: 0.949844\tvalid_1's auc: 0.74558\n",
      "[200]\ttraining's auc: 0.969804\tvalid_1's auc: 0.76585\n",
      "[300]\ttraining's auc: 0.982159\tvalid_1's auc: 0.772701\n",
      "[400]\ttraining's auc: 0.989136\tvalid_1's auc: 0.773902\n",
      "[500]\ttraining's auc: 0.99334\tvalid_1's auc: 0.776733\n",
      "[600]\ttraining's auc: 0.99618\tvalid_1's auc: 0.779297\n",
      "[700]\ttraining's auc: 0.998468\tvalid_1's auc: 0.783356\n",
      "[800]\ttraining's auc: 0.999482\tvalid_1's auc: 0.786134\n",
      "[900]\ttraining's auc: 0.999845\tvalid_1's auc: 0.789098\n",
      "[1000]\ttraining's auc: 0.999963\tvalid_1's auc: 0.791288\n",
      "[1100]\ttraining's auc: 0.999991\tvalid_1's auc: 0.791849\n",
      "[1200]\ttraining's auc: 0.999997\tvalid_1's auc: 0.793371\n",
      "[1300]\ttraining's auc: 0.999997\tvalid_1's auc: 0.794733\n",
      "[1400]\ttraining's auc: 0.999997\tvalid_1's auc: 0.795214\n",
      "[1500]\ttraining's auc: 0.999999\tvalid_1's auc: 0.795294\n",
      "Did not meet early stopping. Best iteration is:\n",
      "[1475]\ttraining's auc: 0.999999\tvalid_1's auc: 0.795241\n",
      "fold n°2\n",
      "Training until validation scores don't improve for 500 rounds"
     ]
    },
    {
     "name": "stderr",
     "output_type": "stream",
     "text": [
      "e:\\sources\\aiproject\\venv\\lib\\site-packages\\lightgbm\\engine.py:148: UserWarning: Found `n_estimators` in params. Will use it instead of argument\n",
      "  warnings.warn(\"Found `{}` in params. Will use it instead of argument\".format(alias))\n"
     ]
    },
    {
     "name": "stdout",
     "output_type": "stream",
     "text": [
      "\n",
      "[100]\ttraining's auc: 0.950326\tvalid_1's auc: 0.71787\n",
      "[200]\ttraining's auc: 0.966608\tvalid_1's auc: 0.726259\n",
      "[300]\ttraining's auc: 0.980695\tvalid_1's auc: 0.728336\n",
      "[400]\ttraining's auc: 0.987787\tvalid_1's auc: 0.731697\n",
      "[500]\ttraining's auc: 0.992327\tvalid_1's auc: 0.734567\n",
      "[600]\ttraining's auc: 0.99523\tvalid_1's auc: 0.737983\n",
      "[700]\ttraining's auc: 0.997063\tvalid_1's auc: 0.739404\n",
      "[800]\ttraining's auc: 0.998246\tvalid_1's auc: 0.742082\n",
      "[900]\ttraining's auc: 0.999109\tvalid_1's auc: 0.744651\n",
      "[1000]\ttraining's auc: 0.999604\tvalid_1's auc: 0.746017\n",
      "[1100]\ttraining's auc: 0.999852\tvalid_1's auc: 0.745771\n",
      "[1200]\ttraining's auc: 0.999964\tvalid_1's auc: 0.747957\n",
      "[1300]\ttraining's auc: 0.999992\tvalid_1's auc: 0.750608\n",
      "[1400]\ttraining's auc: 0.999997\tvalid_1's auc: 0.750526\n",
      "[1500]\ttraining's auc: 0.999998\tvalid_1's auc: 0.749898\n",
      "Did not meet early stopping. Best iteration is:\n",
      "[1444]\ttraining's auc: 0.999998\tvalid_1's auc: 0.750034\n",
      "fold n°3\n",
      "Training until validation scores don't improve for 500 rounds"
     ]
    },
    {
     "name": "stderr",
     "output_type": "stream",
     "text": [
      "e:\\sources\\aiproject\\venv\\lib\\site-packages\\lightgbm\\engine.py:148: UserWarning: Found `n_estimators` in params. Will use it instead of argument\n",
      "  warnings.warn(\"Found `{}` in params. Will use it instead of argument\".format(alias))\n"
     ]
    },
    {
     "name": "stdout",
     "output_type": "stream",
     "text": [
      "\n",
      "[100]\ttraining's auc: 0.94456\tvalid_1's auc: 0.765338\n",
      "[200]\ttraining's auc: 0.96473\tvalid_1's auc: 0.766567\n",
      "[300]\ttraining's auc: 0.979144\tvalid_1's auc: 0.77687\n",
      "[400]\ttraining's auc: 0.986364\tvalid_1's auc: 0.772388\n",
      "[500]\ttraining's auc: 0.990241\tvalid_1's auc: 0.768672\n",
      "[600]\ttraining's auc: 0.993107\tvalid_1's auc: 0.767606\n",
      "[700]\ttraining's auc: 0.995027\tvalid_1's auc: 0.763397\n",
      "[800]\ttraining's auc: 0.996276\tvalid_1's auc: 0.766021\n",
      "Early stopping, best iteration is:\n",
      "[312]\ttraining's auc: 0.980178\tvalid_1's auc: 0.778236\n",
      "fold n°4\n",
      "Training until validation scores don't improve for 500 rounds\n"
     ]
    },
    {
     "name": "stderr",
     "output_type": "stream",
     "text": [
      "e:\\sources\\aiproject\\venv\\lib\\site-packages\\lightgbm\\engine.py:148: UserWarning: Found `n_estimators` in params. Will use it instead of argument\n",
      "  warnings.warn(\"Found `{}` in params. Will use it instead of argument\".format(alias))\n"
     ]
    },
    {
     "name": "stdout",
     "output_type": "stream",
     "text": [
      "[100]\ttraining's auc: 0.953781\tvalid_1's auc: 0.747711\n",
      "[200]\ttraining's auc: 0.9732\tvalid_1's auc: 0.739458\n",
      "[300]\ttraining's auc: 0.98381\tvalid_1's auc: 0.738119\n",
      "[400]\ttraining's auc: 0.989553\tvalid_1's auc: 0.740688\n",
      "[500]\ttraining's auc: 0.99323\tvalid_1's auc: 0.744651\n",
      "[600]\ttraining's auc: 0.99552\tvalid_1's auc: 0.748449\n",
      "[700]\ttraining's auc: 0.997201\tvalid_1's auc: 0.746946\n",
      "[800]\ttraining's auc: 0.998423\tvalid_1's auc: 0.746973\n",
      "[900]\ttraining's auc: 0.999172\tvalid_1's auc: 0.745826\n",
      "[1000]\ttraining's auc: 0.999599\tvalid_1's auc: 0.745115\n",
      "[1100]\ttraining's auc: 0.99982\tvalid_1's auc: 0.744678\n",
      "Early stopping, best iteration is:\n",
      "[606]\ttraining's auc: 0.995629\tvalid_1's auc: 0.748886\n",
      "| \u001b[0m 19      \u001b[0m | \u001b[0m 0.7702  \u001b[0m | \u001b[0m 0.9984  \u001b[0m | \u001b[0m 0.7135  \u001b[0m | \u001b[0m 0.1577  \u001b[0m | \u001b[0m 3.886   \u001b[0m | \u001b[0m 0.008341\u001b[0m | \u001b[0m 5.953   \u001b[0m | \u001b[0m 28.24   \u001b[0m | \u001b[0m 102.8   \u001b[0m |\n",
      "fold n°0\n"
     ]
    },
    {
     "name": "stderr",
     "output_type": "stream",
     "text": [
      "e:\\sources\\aiproject\\venv\\lib\\site-packages\\lightgbm\\engine.py:148: UserWarning: Found `n_estimators` in params. Will use it instead of argument\n",
      "  warnings.warn(\"Found `{}` in params. Will use it instead of argument\".format(alias))\n"
     ]
    },
    {
     "name": "stdout",
     "output_type": "stream",
     "text": [
      "Training until validation scores don't improve for 500 rounds\n",
      "[100]\ttraining's auc: 0.937715\tvalid_1's auc: 0.749263\n",
      "[200]\ttraining's auc: 0.959302\tvalid_1's auc: 0.77099\n",
      "[300]\ttraining's auc: 0.975305\tvalid_1's auc: 0.777678\n",
      "[400]\ttraining's auc: 0.983714\tvalid_1's auc: 0.780899\n",
      "[500]\ttraining's auc: 0.990987\tvalid_1's auc: 0.781062\n",
      "[600]\ttraining's auc: 0.994146\tvalid_1's auc: 0.777541\n",
      "[700]\ttraining's auc: 0.996868\tvalid_1's auc: 0.774402\n",
      "[800]\ttraining's auc: 0.998237\tvalid_1's auc: 0.771209\n",
      "[900]\ttraining's auc: 0.999125\tvalid_1's auc: 0.769598\n",
      "Early stopping, best iteration is:\n",
      "[442]\ttraining's auc: 0.987204\tvalid_1's auc: 0.782509\n",
      "fold n°1\n",
      "Training until validation scores don't improve for 500 rounds\n"
     ]
    },
    {
     "name": "stderr",
     "output_type": "stream",
     "text": [
      "e:\\sources\\aiproject\\venv\\lib\\site-packages\\lightgbm\\engine.py:148: UserWarning: Found `n_estimators` in params. Will use it instead of argument\n",
      "  warnings.warn(\"Found `{}` in params. Will use it instead of argument\".format(alias))\n"
     ]
    },
    {
     "name": "stdout",
     "output_type": "stream",
     "text": [
      "[100]\ttraining's auc: 0.940639\tvalid_1's auc: 0.77433\n",
      "[200]\ttraining's auc: 0.961204\tvalid_1's auc: 0.782689\n",
      "[300]\ttraining's auc: 0.975671\tvalid_1's auc: 0.794173\n",
      "[400]\ttraining's auc: 0.985151\tvalid_1's auc: 0.799701\n",
      "[500]\ttraining's auc: 0.990582\tvalid_1's auc: 0.803947\n",
      "[600]\ttraining's auc: 0.994153\tvalid_1's auc: 0.80822\n",
      "[700]\ttraining's auc: 0.996461\tvalid_1's auc: 0.809342\n",
      "[800]\ttraining's auc: 0.998326\tvalid_1's auc: 0.810197\n",
      "[900]\ttraining's auc: 0.999318\tvalid_1's auc: 0.809422\n",
      "[1000]\ttraining's auc: 0.999755\tvalid_1's auc: 0.809769\n",
      "[1100]\ttraining's auc: 0.99991\tvalid_1's auc: 0.809208\n",
      "[1200]\ttraining's auc: 0.999967\tvalid_1's auc: 0.807526\n",
      "Early stopping, best iteration is:\n",
      "[790]\ttraining's auc: 0.998189\tvalid_1's auc: 0.81041\n",
      "fold n°2\n",
      "Training until validation scores don't improve for 500 rounds\n"
     ]
    },
    {
     "name": "stderr",
     "output_type": "stream",
     "text": [
      "e:\\sources\\aiproject\\venv\\lib\\site-packages\\lightgbm\\engine.py:148: UserWarning: Found `n_estimators` in params. Will use it instead of argument\n",
      "  warnings.warn(\"Found `{}` in params. Will use it instead of argument\".format(alias))\n"
     ]
    },
    {
     "name": "stdout",
     "output_type": "stream",
     "text": [
      "[100]\ttraining's auc: 0.940907\tvalid_1's auc: 0.721791\n",
      "[200]\ttraining's auc: 0.959612\tvalid_1's auc: 0.73055\n",
      "[300]\ttraining's auc: 0.973743\tvalid_1's auc: 0.736425\n",
      "[400]\ttraining's auc: 0.983457\tvalid_1's auc: 0.739404\n",
      "[500]\ttraining's auc: 0.989392\tvalid_1's auc: 0.741453\n",
      "Early stopping, best iteration is:\n",
      "[3]\ttraining's auc: 0.877615\tvalid_1's auc: 0.748422\n",
      "fold n°3\n",
      "Training until validation scores don't improve for 500 rounds\n"
     ]
    },
    {
     "name": "stderr",
     "output_type": "stream",
     "text": [
      "e:\\sources\\aiproject\\venv\\lib\\site-packages\\lightgbm\\engine.py:148: UserWarning: Found `n_estimators` in params. Will use it instead of argument\n",
      "  warnings.warn(\"Found `{}` in params. Will use it instead of argument\".format(alias))\n"
     ]
    },
    {
     "name": "stdout",
     "output_type": "stream",
     "text": [
      "[100]\ttraining's auc: 0.939392\tvalid_1's auc: 0.773509\n",
      "[200]\ttraining's auc: 0.959545\tvalid_1's auc: 0.785997\n",
      "[300]\ttraining's auc: 0.975895\tvalid_1's auc: 0.79037\n",
      "[400]\ttraining's auc: 0.984556\tvalid_1's auc: 0.792337\n",
      "[500]\ttraining's auc: 0.990051\tvalid_1's auc: 0.794469\n",
      "[600]\ttraining's auc: 0.994361\tvalid_1's auc: 0.797065\n",
      "[700]\ttraining's auc: 0.996797\tvalid_1's auc: 0.796136\n",
      "[800]\ttraining's auc: 0.998076\tvalid_1's auc: 0.797557\n",
      "[900]\ttraining's auc: 0.998821\tvalid_1's auc: 0.798158\n",
      "[1000]\ttraining's auc: 0.999492\tvalid_1's auc: 0.799661\n",
      "[1100]\ttraining's auc: 0.999751\tvalid_1's auc: 0.799361\n",
      "[1200]\ttraining's auc: 0.99987\tvalid_1's auc: 0.801055\n",
      "[1300]\ttraining's auc: 0.999938\tvalid_1's auc: 0.801957\n",
      "[1400]\ttraining's auc: 0.999972\tvalid_1's auc: 0.803186\n",
      "[1500]\ttraining's auc: 0.99998\tvalid_1's auc: 0.802613\n",
      "Did not meet early stopping. Best iteration is:\n",
      "[1472]\ttraining's auc: 0.99998\tvalid_1's auc: 0.802995\n",
      "fold n°4\n"
     ]
    },
    {
     "name": "stderr",
     "output_type": "stream",
     "text": [
      "e:\\sources\\aiproject\\venv\\lib\\site-packages\\lightgbm\\engine.py:148: UserWarning: Found `n_estimators` in params. Will use it instead of argument\n",
      "  warnings.warn(\"Found `{}` in params. Will use it instead of argument\".format(alias))\n"
     ]
    },
    {
     "name": "stdout",
     "output_type": "stream",
     "text": [
      "Training until validation scores don't improve for 500 rounds\n",
      "[100]\ttraining's auc: 0.94521\tvalid_1's auc: 0.739677\n",
      "[200]\ttraining's auc: 0.964522\tvalid_1's auc: 0.745388\n",
      "[300]\ttraining's auc: 0.977912\tvalid_1's auc: 0.747739\n",
      "[400]\ttraining's auc: 0.986457\tvalid_1's auc: 0.753751\n",
      "[500]\ttraining's auc: 0.991624\tvalid_1's auc: 0.759763\n",
      "[600]\ttraining's auc: 0.995007\tvalid_1's auc: 0.759107\n",
      "[700]\ttraining's auc: 0.997126\tvalid_1's auc: 0.762605\n",
      "[800]\ttraining's auc: 0.998319\tvalid_1's auc: 0.762687\n",
      "[900]\ttraining's auc: 0.99917\tvalid_1's auc: 0.763698\n",
      "[1000]\ttraining's auc: 0.999577\tvalid_1's auc: 0.762441\n",
      "[1100]\ttraining's auc: 0.999778\tvalid_1's auc: 0.762878\n",
      "[1200]\ttraining's auc: 0.999913\tvalid_1's auc: 0.764518\n",
      "[1300]\ttraining's auc: 0.999963\tvalid_1's auc: 0.763261\n",
      "[1400]\ttraining's auc: 0.999983\tvalid_1's auc: 0.763015\n",
      "[1500]\ttraining's auc: 0.999993\tvalid_1's auc: 0.763862\n",
      "Did not meet early stopping. Best iteration is:\n",
      "[1499]\ttraining's auc: 0.999993\tvalid_1's auc: 0.763917\n",
      "| \u001b[0m 20      \u001b[0m | \u001b[0m 0.7817  \u001b[0m | \u001b[0m 0.7088  \u001b[0m | \u001b[0m 0.9166  \u001b[0m | \u001b[0m 0.5401  \u001b[0m | \u001b[0m 5.737   \u001b[0m | \u001b[0m 0.007712\u001b[0m | \u001b[0m 7.975   \u001b[0m | \u001b[0m 28.45   \u001b[0m | \u001b[0m 105.4   \u001b[0m |\n",
      "fold n°0\n",
      "Training until validation scores don't improve for 500 rounds\n"
     ]
    },
    {
     "name": "stderr",
     "output_type": "stream",
     "text": [
      "e:\\sources\\aiproject\\venv\\lib\\site-packages\\lightgbm\\engine.py:148: UserWarning: Found `n_estimators` in params. Will use it instead of argument\n",
      "  warnings.warn(\"Found `{}` in params. Will use it instead of argument\".format(alias))\n"
     ]
    },
    {
     "name": "stdout",
     "output_type": "stream",
     "text": [
      "[100]\ttraining's auc: 0.966715\tvalid_1's auc: 0.761191\n",
      "[200]\ttraining's auc: 0.983385\tvalid_1's auc: 0.775167\n",
      "[300]\ttraining's auc: 0.993399\tvalid_1's auc: 0.776204\n",
      "[400]\ttraining's auc: 0.997481\tvalid_1's auc: 0.77503\n",
      "[500]\ttraining's auc: 0.999412\tvalid_1's auc: 0.771154\n",
      "[600]\ttraining's auc: 0.999851\tvalid_1's auc: 0.770062\n",
      "[700]\ttraining's auc: 0.999974\tvalid_1's auc: 0.76938\n",
      "[800]\ttraining's auc: 0.999992\tvalid_1's auc: 0.768506\n",
      "Early stopping, best iteration is:\n",
      "[376]\ttraining's auc: 0.996586\tvalid_1's auc: 0.777705\n",
      "fold n°1\n",
      "Training until validation scores don't improve for 500 rounds\n"
     ]
    },
    {
     "name": "stderr",
     "output_type": "stream",
     "text": [
      "e:\\sources\\aiproject\\venv\\lib\\site-packages\\lightgbm\\engine.py:148: UserWarning: Found `n_estimators` in params. Will use it instead of argument\n",
      "  warnings.warn(\"Found `{}` in params. Will use it instead of argument\".format(alias))\n"
     ]
    },
    {
     "name": "stdout",
     "output_type": "stream",
     "text": [
      "[100]\ttraining's auc: 0.972009\tvalid_1's auc: 0.779404\n",
      "[200]\ttraining's auc: 0.98645\tvalid_1's auc: 0.790087\n",
      "[300]\ttraining's auc: 0.994394\tvalid_1's auc: 0.795962\n",
      "[400]\ttraining's auc: 0.997742\tvalid_1's auc: 0.80117\n",
      "[500]\ttraining's auc: 0.998782\tvalid_1's auc: 0.805096\n",
      "[600]\ttraining's auc: 0.998995\tvalid_1's auc: 0.806297\n",
      "[700]\ttraining's auc: 0.999192\tvalid_1's auc: 0.806832\n",
      "[800]\ttraining's auc: 0.999772\tvalid_1's auc: 0.807606\n",
      "[900]\ttraining's auc: 0.999967\tvalid_1's auc: 0.805843\n",
      "[1000]\ttraining's auc: 0.999994\tvalid_1's auc: 0.805176\n",
      "[1100]\ttraining's auc: 0.999996\tvalid_1's auc: 0.805817\n",
      "Early stopping, best iteration is:\n",
      "[667]\ttraining's auc: 0.998959\tvalid_1's auc: 0.807606\n",
      "fold n°2\n",
      "Training until validation scores don't improve for 500 rounds\n"
     ]
    },
    {
     "name": "stderr",
     "output_type": "stream",
     "text": [
      "e:\\sources\\aiproject\\venv\\lib\\site-packages\\lightgbm\\engine.py:148: UserWarning: Found `n_estimators` in params. Will use it instead of argument\n",
      "  warnings.warn(\"Found `{}` in params. Will use it instead of argument\".format(alias))\n"
     ]
    },
    {
     "name": "stdout",
     "output_type": "stream",
     "text": [
      "[100]\ttraining's auc: 0.968109\tvalid_1's auc: 0.743489\n",
      "[200]\ttraining's auc: 0.98292\tvalid_1's auc: 0.753368\n",
      "[300]\ttraining's auc: 0.992191\tvalid_1's auc: 0.75856\n",
      "[400]\ttraining's auc: 0.996494\tvalid_1's auc: 0.75867\n",
      "[500]\ttraining's auc: 0.9988\tvalid_1's auc: 0.760337\n",
      "[600]\ttraining's auc: 0.999681\tvalid_1's auc: 0.759189\n",
      "[700]\ttraining's auc: 0.999935\tvalid_1's auc: 0.760965\n",
      "[800]\ttraining's auc: 0.999992\tvalid_1's auc: 0.763315\n",
      "[900]\ttraining's auc: 0.999997\tvalid_1's auc: 0.764299\n",
      "[1000]\ttraining's auc: 1\tvalid_1's auc: 0.765201\n",
      "[1100]\ttraining's auc: 1\tvalid_1's auc: 0.766075\n",
      "[1200]\ttraining's auc: 1\tvalid_1's auc: 0.767278\n",
      "[1300]\ttraining's auc: 1\tvalid_1's auc: 0.768234\n",
      "[1400]\ttraining's auc: 1\tvalid_1's auc: 0.76859\n",
      "[1500]\ttraining's auc: 1\tvalid_1's auc: 0.768426\n",
      "Did not meet early stopping. Best iteration is:\n",
      "[940]\ttraining's auc: 1\tvalid_1's auc: 0.764764\n",
      "fold n°3\n",
      "Training until validation scores don't improve for 500 rounds"
     ]
    },
    {
     "name": "stderr",
     "output_type": "stream",
     "text": [
      "e:\\sources\\aiproject\\venv\\lib\\site-packages\\lightgbm\\engine.py:148: UserWarning: Found `n_estimators` in params. Will use it instead of argument\n",
      "  warnings.warn(\"Found `{}` in params. Will use it instead of argument\".format(alias))\n"
     ]
    },
    {
     "name": "stdout",
     "output_type": "stream",
     "text": [
      "\n",
      "[100]\ttraining's auc: 0.967987\tvalid_1's auc: 0.772661\n",
      "[200]\ttraining's auc: 0.984369\tvalid_1's auc: 0.779849\n",
      "[300]\ttraining's auc: 0.993901\tvalid_1's auc: 0.783948\n",
      "[400]\ttraining's auc: 0.997483\tvalid_1's auc: 0.788266\n",
      "[500]\ttraining's auc: 0.998886\tvalid_1's auc: 0.788457\n",
      "[600]\ttraining's auc: 0.999739\tvalid_1's auc: 0.787309\n",
      "[700]\ttraining's auc: 0.999943\tvalid_1's auc: 0.786926\n",
      "[800]\ttraining's auc: 0.99998\tvalid_1's auc: 0.790342\n",
      "[900]\ttraining's auc: 0.999989\tvalid_1's auc: 0.789987\n",
      "[1000]\ttraining's auc: 0.999996\tvalid_1's auc: 0.792064\n",
      "[1100]\ttraining's auc: 0.999996\tvalid_1's auc: 0.792228\n",
      "[1200]\ttraining's auc: 0.999996\tvalid_1's auc: 0.793212\n",
      "[1300]\ttraining's auc: 0.999999\tvalid_1's auc: 0.793266\n",
      "[1400]\ttraining's auc: 0.999999\tvalid_1's auc: 0.792474\n",
      "[1500]\ttraining's auc: 0.999999\tvalid_1's auc: 0.7919\n",
      "Did not meet early stopping. Best iteration is:\n",
      "[1278]\ttraining's auc: 0.999999\tvalid_1's auc: 0.79354\n",
      "fold n°4\n"
     ]
    },
    {
     "name": "stderr",
     "output_type": "stream",
     "text": [
      "e:\\sources\\aiproject\\venv\\lib\\site-packages\\lightgbm\\engine.py:148: UserWarning: Found `n_estimators` in params. Will use it instead of argument\n",
      "  warnings.warn(\"Found `{}` in params. Will use it instead of argument\".format(alias))\n"
     ]
    },
    {
     "name": "stdout",
     "output_type": "stream",
     "text": [
      "Training until validation scores don't improve for 500 rounds\n",
      "[100]\ttraining's auc: 0.971591\tvalid_1's auc: 0.75233\n",
      "[200]\ttraining's auc: 0.985589\tvalid_1's auc: 0.750526\n",
      "[300]\ttraining's auc: 0.99387\tvalid_1's auc: 0.750745\n",
      "[400]\ttraining's auc: 0.99753\tvalid_1's auc: 0.752904\n",
      "[500]\ttraining's auc: 0.99916\tvalid_1's auc: 0.75427\n",
      "[600]\ttraining's auc: 0.999805\tvalid_1's auc: 0.754215\n",
      "[700]\ttraining's auc: 0.999964\tvalid_1's auc: 0.754379\n",
      "[800]\ttraining's auc: 0.999993\tvalid_1's auc: 0.755718\n",
      "[900]\ttraining's auc: 0.999998\tvalid_1's auc: 0.756292\n",
      "[1000]\ttraining's auc: 1\tvalid_1's auc: 0.75744\n",
      "[1100]\ttraining's auc: 1\tvalid_1's auc: 0.758369\n",
      "[1200]\ttraining's auc: 1\tvalid_1's auc: 0.759572\n",
      "[1300]\ttraining's auc: 1\tvalid_1's auc: 0.760501\n",
      "[1400]\ttraining's auc: 1\tvalid_1's auc: 0.760692\n",
      "[1500]\ttraining's auc: 1\tvalid_1's auc: 0.760063\n",
      "Did not meet early stopping. Best iteration is:\n",
      "[916]\ttraining's auc: 1\tvalid_1's auc: 0.756429\n",
      "| \u001b[0m 21      \u001b[0m | \u001b[0m 0.78    \u001b[0m | \u001b[0m 0.7912  \u001b[0m | \u001b[0m 0.7243  \u001b[0m | \u001b[0m 0.2314  \u001b[0m | \u001b[0m 3.046   \u001b[0m | \u001b[0m 0.008152\u001b[0m | \u001b[0m 9.574   \u001b[0m | \u001b[0m 29.6    \u001b[0m | \u001b[0m 108.2   \u001b[0m |\n",
      "fold n°0\n",
      "Training until validation scores don't improve for 500 rounds\n"
     ]
    },
    {
     "name": "stderr",
     "output_type": "stream",
     "text": [
      "e:\\sources\\aiproject\\venv\\lib\\site-packages\\lightgbm\\engine.py:148: UserWarning: Found `n_estimators` in params. Will use it instead of argument\n",
      "  warnings.warn(\"Found `{}` in params. Will use it instead of argument\".format(alias))\n"
     ]
    },
    {
     "name": "stdout",
     "output_type": "stream",
     "text": [
      "[100]\ttraining's auc: 0.951119\tvalid_1's auc: 0.744841\n",
      "[200]\ttraining's auc: 0.967165\tvalid_1's auc: 0.770035\n",
      "[300]\ttraining's auc: 0.979809\tvalid_1's auc: 0.776368\n",
      "[400]\ttraining's auc: 0.98706\tvalid_1's auc: 0.778524\n",
      "[500]\ttraining's auc: 0.993181\tvalid_1's auc: 0.778033\n",
      "[600]\ttraining's auc: 0.995847\tvalid_1's auc: 0.776013\n",
      "[700]\ttraining's auc: 0.997863\tvalid_1's auc: 0.773447\n",
      "[800]\ttraining's auc: 0.998979\tvalid_1's auc: 0.771645\n",
      "[900]\ttraining's auc: 0.9996\tvalid_1's auc: 0.768534\n",
      "Early stopping, best iteration is:\n",
      "[442]\ttraining's auc: 0.989931\tvalid_1's auc: 0.77907\n",
      "fold n°1\n",
      "Training until validation scores don't improve for 500 rounds\n"
     ]
    },
    {
     "name": "stderr",
     "output_type": "stream",
     "text": [
      "e:\\sources\\aiproject\\venv\\lib\\site-packages\\lightgbm\\engine.py:148: UserWarning: Found `n_estimators` in params. Will use it instead of argument\n",
      "  warnings.warn(\"Found `{}` in params. Will use it instead of argument\".format(alias))\n"
     ]
    },
    {
     "name": "stdout",
     "output_type": "stream",
     "text": [
      "[100]\ttraining's auc: 0.954592\tvalid_1's auc: 0.771953\n",
      "[200]\ttraining's auc: 0.969968\tvalid_1's auc: 0.788137\n",
      "[300]\ttraining's auc: 0.981555\tvalid_1's auc: 0.793505\n",
      "[400]\ttraining's auc: 0.988352\tvalid_1's auc: 0.796389\n",
      "[500]\ttraining's auc: 0.992734\tvalid_1's auc: 0.799701\n",
      "[600]\ttraining's auc: 0.995531\tvalid_1's auc: 0.802185\n",
      "[700]\ttraining's auc: 0.997218\tvalid_1's auc: 0.803306\n",
      "[800]\ttraining's auc: 0.998717\tvalid_1's auc: 0.804615\n",
      "[900]\ttraining's auc: 0.999511\tvalid_1's auc: 0.80555\n",
      "[1000]\ttraining's auc: 0.999857\tvalid_1's auc: 0.805363\n",
      "[1100]\ttraining's auc: 0.99996\tvalid_1's auc: 0.804401\n",
      "[1200]\ttraining's auc: 0.999989\tvalid_1's auc: 0.804855\n",
      "[1300]\ttraining's auc: 0.999991\tvalid_1's auc: 0.803814\n",
      "Early stopping, best iteration is:\n",
      "[898]\ttraining's auc: 0.999507\tvalid_1's auc: 0.80603\n",
      "fold n°2\n",
      "Training until validation scores don't improve for 500 rounds\n"
     ]
    },
    {
     "name": "stderr",
     "output_type": "stream",
     "text": [
      "e:\\sources\\aiproject\\venv\\lib\\site-packages\\lightgbm\\engine.py:148: UserWarning: Found `n_estimators` in params. Will use it instead of argument\n",
      "  warnings.warn(\"Found `{}` in params. Will use it instead of argument\".format(alias))\n"
     ]
    },
    {
     "name": "stdout",
     "output_type": "stream",
     "text": [
      "[100]\ttraining's auc: 0.953803\tvalid_1's auc: 0.734621\n",
      "[200]\ttraining's auc: 0.967214\tvalid_1's auc: 0.738639\n",
      "[300]\ttraining's auc: 0.978422\tvalid_1's auc: 0.740715\n",
      "[400]\ttraining's auc: 0.986052\tvalid_1's auc: 0.745006\n",
      "[500]\ttraining's auc: 0.991145\tvalid_1's auc: 0.747657\n",
      "[600]\ttraining's auc: 0.994695\tvalid_1's auc: 0.753805\n",
      "[700]\ttraining's auc: 0.996941\tvalid_1's auc: 0.75632\n",
      "[800]\ttraining's auc: 0.998555\tvalid_1's auc: 0.758424\n",
      "[900]\ttraining's auc: 0.999153\tvalid_1's auc: 0.758943\n",
      "[1000]\ttraining's auc: 0.999637\tvalid_1's auc: 0.759708\n",
      "[1100]\ttraining's auc: 0.99984\tvalid_1's auc: 0.758697\n",
      "[1200]\ttraining's auc: 0.999952\tvalid_1's auc: 0.759435\n",
      "[1300]\ttraining's auc: 0.999983\tvalid_1's auc: 0.760501\n",
      "[1400]\ttraining's auc: 0.999993\tvalid_1's auc: 0.761238\n",
      "[1500]\ttraining's auc: 0.999997\tvalid_1's auc: 0.761949\n",
      "Did not meet early stopping. Best iteration is:\n",
      "[1481]\ttraining's auc: 0.999997\tvalid_1's auc: 0.762113\n",
      "fold n°3\n",
      "Training until validation scores don't improve for 500 rounds\n"
     ]
    },
    {
     "name": "stderr",
     "output_type": "stream",
     "text": [
      "e:\\sources\\aiproject\\venv\\lib\\site-packages\\lightgbm\\engine.py:148: UserWarning: Found `n_estimators` in params. Will use it instead of argument\n",
      "  warnings.warn(\"Found `{}` in params. Will use it instead of argument\".format(alias))\n"
     ]
    },
    {
     "name": "stdout",
     "output_type": "stream",
     "text": [
      "[100]\ttraining's auc: 0.951701\tvalid_1's auc: 0.77124\n",
      "[200]\ttraining's auc: 0.967687\tvalid_1's auc: 0.778482\n",
      "[300]\ttraining's auc: 0.980315\tvalid_1's auc: 0.781133\n",
      "[400]\ttraining's auc: 0.987551\tvalid_1's auc: 0.786243\n",
      "[500]\ttraining's auc: 0.992095\tvalid_1's auc: 0.790452\n",
      "[600]\ttraining's auc: 0.995624\tvalid_1's auc: 0.792747\n",
      "[700]\ttraining's auc: 0.997848\tvalid_1's auc: 0.794305\n",
      "[800]\ttraining's auc: 0.998755\tvalid_1's auc: 0.795371\n",
      "[900]\ttraining's auc: 0.999312\tvalid_1's auc: 0.797448\n",
      "[1000]\ttraining's auc: 0.999782\tvalid_1's auc: 0.799388\n",
      "[1100]\ttraining's auc: 0.999916\tvalid_1's auc: 0.800454\n",
      "[1200]\ttraining's auc: 0.99995\tvalid_1's auc: 0.801601\n",
      "[1300]\ttraining's auc: 0.999974\tvalid_1's auc: 0.801711\n",
      "[1400]\ttraining's auc: 0.999984\tvalid_1's auc: 0.801574\n",
      "[1500]\ttraining's auc: 0.999989\tvalid_1's auc: 0.802421\n",
      "Did not meet early stopping. Best iteration is:\n",
      "[1468]\ttraining's auc: 0.999989\tvalid_1's auc: 0.802831\n",
      "fold n°4\n"
     ]
    },
    {
     "name": "stderr",
     "output_type": "stream",
     "text": [
      "e:\\sources\\aiproject\\venv\\lib\\site-packages\\lightgbm\\engine.py:148: UserWarning: Found `n_estimators` in params. Will use it instead of argument\n",
      "  warnings.warn(\"Found `{}` in params. Will use it instead of argument\".format(alias))\n"
     ]
    },
    {
     "name": "stdout",
     "output_type": "stream",
     "text": [
      "Training until validation scores don't improve for 500 rounds\n",
      "[100]\ttraining's auc: 0.957925\tvalid_1's auc: 0.746441\n",
      "[200]\ttraining's auc: 0.971925\tvalid_1's auc: 0.747547\n",
      "[300]\ttraining's auc: 0.982664\tvalid_1's auc: 0.75151\n",
      "[400]\ttraining's auc: 0.98874\tvalid_1's auc: 0.753286\n",
      "[500]\ttraining's auc: 0.993169\tvalid_1's auc: 0.758642\n",
      "[600]\ttraining's auc: 0.996002\tvalid_1's auc: 0.757631\n",
      "[700]\ttraining's auc: 0.997851\tvalid_1's auc: 0.757959\n",
      "[800]\ttraining's auc: 0.998844\tvalid_1's auc: 0.759708\n",
      "[900]\ttraining's auc: 0.999448\tvalid_1's auc: 0.759845\n",
      "[1000]\ttraining's auc: 0.999774\tvalid_1's auc: 0.759899\n",
      "[1100]\ttraining's auc: 0.999903\tvalid_1's auc: 0.759899\n",
      "[1200]\ttraining's auc: 0.999971\tvalid_1's auc: 0.760801\n",
      "[1300]\ttraining's auc: 0.99999\tvalid_1's auc: 0.761266\n",
      "[1400]\ttraining's auc: 0.999993\tvalid_1's auc: 0.760747\n",
      "[1500]\ttraining's auc: 0.999998\tvalid_1's auc: 0.762086\n",
      "Did not meet early stopping. Best iteration is:\n",
      "[1496]\ttraining's auc: 0.999998\tvalid_1's auc: 0.762113\n",
      "| \u001b[0m 22      \u001b[0m | \u001b[0m 0.7824  \u001b[0m | \u001b[0m 0.7569  \u001b[0m | \u001b[0m 0.925   \u001b[0m | \u001b[0m 0.5881  \u001b[0m | \u001b[0m 4.022   \u001b[0m | \u001b[0m 0.006086\u001b[0m | \u001b[0m 9.649   \u001b[0m | \u001b[0m 28.17   \u001b[0m | \u001b[0m 104.1   \u001b[0m |\n",
      "fold n°0\n",
      "Training until validation scores don't improve for 500 rounds\n"
     ]
    },
    {
     "name": "stderr",
     "output_type": "stream",
     "text": [
      "e:\\sources\\aiproject\\venv\\lib\\site-packages\\lightgbm\\engine.py:148: UserWarning: Found `n_estimators` in params. Will use it instead of argument\n",
      "  warnings.warn(\"Found `{}` in params. Will use it instead of argument\".format(alias))\n"
     ]
    },
    {
     "name": "stdout",
     "output_type": "stream",
     "text": [
      "[100]\ttraining's auc: 0.95522\tvalid_1's auc: 0.746042\n",
      "[200]\ttraining's auc: 0.977041\tvalid_1's auc: 0.774784\n",
      "[300]\ttraining's auc: 0.988807\tvalid_1's auc: 0.777814\n",
      "[400]\ttraining's auc: 0.994839\tvalid_1's auc: 0.777432\n",
      "[500]\ttraining's auc: 0.997921\tvalid_1's auc: 0.771509\n",
      "[600]\ttraining's auc: 0.999298\tvalid_1's auc: 0.767688\n",
      "[700]\ttraining's auc: 0.999821\tvalid_1's auc: 0.763075\n",
      "Early stopping, best iteration is:\n",
      "[285]\ttraining's auc: 0.987555\tvalid_1's auc: 0.778851\n",
      "fold n°1\n",
      "Training until validation scores don't improve for 500 rounds\n"
     ]
    },
    {
     "name": "stderr",
     "output_type": "stream",
     "text": [
      "e:\\sources\\aiproject\\venv\\lib\\site-packages\\lightgbm\\engine.py:148: UserWarning: Found `n_estimators` in params. Will use it instead of argument\n",
      "  warnings.warn(\"Found `{}` in params. Will use it instead of argument\".format(alias))\n"
     ]
    },
    {
     "name": "stdout",
     "output_type": "stream",
     "text": [
      "[100]\ttraining's auc: 0.963107\tvalid_1's auc: 0.784278\n",
      "[200]\ttraining's auc: 0.979907\tvalid_1's auc: 0.798312\n",
      "[300]\ttraining's auc: 0.989952\tvalid_1's auc: 0.798926\n",
      "[400]\ttraining's auc: 0.995529\tvalid_1's auc: 0.80384\n",
      "[500]\ttraining's auc: 0.99816\tvalid_1's auc: 0.807766\n",
      "[600]\ttraining's auc: 0.999381\tvalid_1's auc: 0.809983\n",
      "[700]\ttraining's auc: 0.999878\tvalid_1's auc: 0.808941\n",
      "[800]\ttraining's auc: 0.99998\tvalid_1's auc: 0.808033\n",
      "[900]\ttraining's auc: 0.999989\tvalid_1's auc: 0.8083\n",
      "[1000]\ttraining's auc: 0.999992\tvalid_1's auc: 0.807686\n",
      "Early stopping, best iteration is:\n",
      "[599]\ttraining's auc: 0.999374\tvalid_1's auc: 0.810036\n",
      "fold n°2\n",
      "Training until validation scores don't improve for 500 rounds\n"
     ]
    },
    {
     "name": "stderr",
     "output_type": "stream",
     "text": [
      "e:\\sources\\aiproject\\venv\\lib\\site-packages\\lightgbm\\engine.py:148: UserWarning: Found `n_estimators` in params. Will use it instead of argument\n",
      "  warnings.warn(\"Found `{}` in params. Will use it instead of argument\".format(alias))\n"
     ]
    },
    {
     "name": "stdout",
     "output_type": "stream",
     "text": [
      "[100]\ttraining's auc: 0.959921\tvalid_1's auc: 0.73111\n",
      "[200]\ttraining's auc: 0.977001\tvalid_1's auc: 0.735906\n",
      "[300]\ttraining's auc: 0.987551\tvalid_1's auc: 0.743885\n",
      "[400]\ttraining's auc: 0.99323\tvalid_1's auc: 0.747137\n",
      "[500]\ttraining's auc: 0.996846\tvalid_1's auc: 0.750991\n",
      "[600]\ttraining's auc: 0.998659\tvalid_1's auc: 0.755254\n",
      "[700]\ttraining's auc: 0.999569\tvalid_1's auc: 0.756456\n",
      "[800]\ttraining's auc: 0.999895\tvalid_1's auc: 0.756866\n",
      "[900]\ttraining's auc: 0.999973\tvalid_1's auc: 0.757057\n",
      "[1000]\ttraining's auc: 0.999995\tvalid_1's auc: 0.756483\n",
      "[1100]\ttraining's auc: 0.999998\tvalid_1's auc: 0.756538\n",
      "[1200]\ttraining's auc: 1\tvalid_1's auc: 0.756429\n",
      "Early stopping, best iteration is:\n",
      "[758]\ttraining's auc: 0.999789\tvalid_1's auc: 0.757331\n",
      "fold n°3\n",
      "Training until validation scores don't improve for 500 rounds\n"
     ]
    },
    {
     "name": "stderr",
     "output_type": "stream",
     "text": [
      "e:\\sources\\aiproject\\venv\\lib\\site-packages\\lightgbm\\engine.py:148: UserWarning: Found `n_estimators` in params. Will use it instead of argument\n",
      "  warnings.warn(\"Found `{}` in params. Will use it instead of argument\".format(alias))\n"
     ]
    },
    {
     "name": "stdout",
     "output_type": "stream",
     "text": [
      "[100]\ttraining's auc: 0.958615\tvalid_1's auc: 0.768125\n",
      "[200]\ttraining's auc: 0.977024\tvalid_1's auc: 0.779821\n",
      "[300]\ttraining's auc: 0.988379\tvalid_1's auc: 0.783975\n",
      "[400]\ttraining's auc: 0.994484\tvalid_1's auc: 0.786134\n",
      "[500]\ttraining's auc: 0.997186\tvalid_1's auc: 0.78638\n",
      "[600]\ttraining's auc: 0.99879\tvalid_1's auc: 0.786626\n",
      "[700]\ttraining's auc: 0.999576\tvalid_1's auc: 0.785997\n",
      "[800]\ttraining's auc: 0.999894\tvalid_1's auc: 0.784522\n",
      "Early stopping, best iteration is:\n",
      "[374]\ttraining's auc: 0.993395\tvalid_1's auc: 0.788156\n",
      "fold n°4\n",
      "Training until validation scores don't improve for 500 rounds\n"
     ]
    },
    {
     "name": "stderr",
     "output_type": "stream",
     "text": [
      "e:\\sources\\aiproject\\venv\\lib\\site-packages\\lightgbm\\engine.py:148: UserWarning: Found `n_estimators` in params. Will use it instead of argument\n",
      "  warnings.warn(\"Found `{}` in params. Will use it instead of argument\".format(alias))\n"
     ]
    },
    {
     "name": "stdout",
     "output_type": "stream",
     "text": [
      "[100]\ttraining's auc: 0.966216\tvalid_1's auc: 0.748354\n",
      "[200]\ttraining's auc: 0.981421\tvalid_1's auc: 0.748067\n",
      "[300]\ttraining's auc: 0.990083\tvalid_1's auc: 0.751428\n",
      "[400]\ttraining's auc: 0.994887\tvalid_1's auc: 0.75274\n",
      "[500]\ttraining's auc: 0.997528\tvalid_1's auc: 0.755691\n",
      "[600]\ttraining's auc: 0.998988\tvalid_1's auc: 0.757659\n",
      "[700]\ttraining's auc: 0.999552\tvalid_1's auc: 0.757987\n",
      "[800]\ttraining's auc: 0.999859\tvalid_1's auc: 0.758041\n",
      "[900]\ttraining's auc: 0.999973\tvalid_1's auc: 0.758178\n",
      "[1000]\ttraining's auc: 0.999993\tvalid_1's auc: 0.758615\n",
      "[1100]\ttraining's auc: 0.999997\tvalid_1's auc: 0.757987\n",
      "[1200]\ttraining's auc: 1\tvalid_1's auc: 0.758041\n",
      "[1300]\ttraining's auc: 1\tvalid_1's auc: 0.758424\n",
      "[1400]\ttraining's auc: 1\tvalid_1's auc: 0.758724\n",
      "[1500]\ttraining's auc: 1\tvalid_1's auc: 0.758615\n",
      "Did not meet early stopping. Best iteration is:\n",
      "[1166]\ttraining's auc: 1\tvalid_1's auc: 0.757905\n",
      "| \u001b[0m 23      \u001b[0m | \u001b[0m 0.7785  \u001b[0m | \u001b[0m 0.9146  \u001b[0m | \u001b[0m 0.8646  \u001b[0m | \u001b[0m 0.5838  \u001b[0m | \u001b[0m 5.304   \u001b[0m | \u001b[0m 0.008253\u001b[0m | \u001b[0m 8.064   \u001b[0m | \u001b[0m 26.42   \u001b[0m | \u001b[0m 105.2   \u001b[0m |\n",
      "fold n°0\n",
      "Training until validation scores don't improve for 500 rounds\n"
     ]
    },
    {
     "name": "stderr",
     "output_type": "stream",
     "text": [
      "e:\\sources\\aiproject\\venv\\lib\\site-packages\\lightgbm\\engine.py:148: UserWarning: Found `n_estimators` in params. Will use it instead of argument\n",
      "  warnings.warn(\"Found `{}` in params. Will use it instead of argument\".format(alias))\n"
     ]
    },
    {
     "name": "stdout",
     "output_type": "stream",
     "text": [
      "[100]\ttraining's auc: 0.963218\tvalid_1's auc: 0.756551\n",
      "[200]\ttraining's auc: 0.984254\tvalid_1's auc: 0.775139\n",
      "[300]\ttraining's auc: 0.994074\tvalid_1's auc: 0.772082\n",
      "[400]\ttraining's auc: 0.997707\tvalid_1's auc: 0.769161\n",
      "[500]\ttraining's auc: 0.999422\tvalid_1's auc: 0.764112\n",
      "[600]\ttraining's auc: 0.999877\tvalid_1's auc: 0.758735\n",
      "Early stopping, best iteration is:\n",
      "[196]\ttraining's auc: 0.98358\tvalid_1's auc: 0.776395\n",
      "fold n°1\n",
      "Training until validation scores don't improve for 500 rounds\n"
     ]
    },
    {
     "name": "stderr",
     "output_type": "stream",
     "text": [
      "e:\\sources\\aiproject\\venv\\lib\\site-packages\\lightgbm\\engine.py:148: UserWarning: Found `n_estimators` in params. Will use it instead of argument\n",
      "  warnings.warn(\"Found `{}` in params. Will use it instead of argument\".format(alias))\n"
     ]
    },
    {
     "name": "stdout",
     "output_type": "stream",
     "text": [
      "[100]\ttraining's auc: 0.968609\tvalid_1's auc: 0.777147\n",
      "[200]\ttraining's auc: 0.985986\tvalid_1's auc: 0.783917\n",
      "[300]\ttraining's auc: 0.99454\tvalid_1's auc: 0.792116\n",
      "[400]\ttraining's auc: 0.998271\tvalid_1's auc: 0.796202\n",
      "[500]\ttraining's auc: 0.999547\tvalid_1's auc: 0.800742\n",
      "[600]\ttraining's auc: 0.99991\tvalid_1's auc: 0.803894\n",
      "[700]\ttraining's auc: 0.999956\tvalid_1's auc: 0.803146\n",
      "[800]\ttraining's auc: 0.999992\tvalid_1's auc: 0.803493\n",
      "[900]\ttraining's auc: 0.999996\tvalid_1's auc: 0.80101\n",
      "[1000]\ttraining's auc: 0.999996\tvalid_1's auc: 0.798739\n",
      "[1100]\ttraining's auc: 0.999997\tvalid_1's auc: 0.79906\n",
      "Early stopping, best iteration is:\n",
      "[662]\ttraining's auc: 0.999929\tvalid_1's auc: 0.804748\n",
      "fold n°2\n",
      "Training until validation scores don't improve for 500 rounds\n"
     ]
    },
    {
     "name": "stderr",
     "output_type": "stream",
     "text": [
      "e:\\sources\\aiproject\\venv\\lib\\site-packages\\lightgbm\\engine.py:148: UserWarning: Found `n_estimators` in params. Will use it instead of argument\n",
      "  warnings.warn(\"Found `{}` in params. Will use it instead of argument\".format(alias))\n"
     ]
    },
    {
     "name": "stdout",
     "output_type": "stream",
     "text": [
      "[100]\ttraining's auc: 0.967582\tvalid_1's auc: 0.735851\n",
      "[200]\ttraining's auc: 0.984071\tvalid_1's auc: 0.742382\n",
      "[300]\ttraining's auc: 0.993269\tvalid_1's auc: 0.745935\n",
      "[400]\ttraining's auc: 0.997\tvalid_1's auc: 0.748996\n",
      "[500]\ttraining's auc: 0.998947\tvalid_1's auc: 0.751756\n",
      "[600]\ttraining's auc: 0.999713\tvalid_1's auc: 0.752712\n",
      "[700]\ttraining's auc: 0.999958\tvalid_1's auc: 0.753805\n",
      "[800]\ttraining's auc: 0.999995\tvalid_1's auc: 0.755117\n",
      "[900]\ttraining's auc: 0.999998\tvalid_1's auc: 0.756046\n",
      "[1000]\ttraining's auc: 1\tvalid_1's auc: 0.756483\n",
      "[1100]\ttraining's auc: 1\tvalid_1's auc: 0.757303\n",
      "[1200]\ttraining's auc: 1\tvalid_1's auc: 0.758588\n",
      "[1300]\ttraining's auc: 1\tvalid_1's auc: 0.759216\n",
      "[1400]\ttraining's auc: 1\tvalid_1's auc: 0.758588\n",
      "[1500]\ttraining's auc: 1\tvalid_1's auc: 0.758396\n",
      "Did not meet early stopping. Best iteration is:\n",
      "[926]\ttraining's auc: 1\tvalid_1's auc: 0.756921\n",
      "fold n°3\n",
      "Training until validation scores don't improve for 500 rounds\n"
     ]
    },
    {
     "name": "stderr",
     "output_type": "stream",
     "text": [
      "e:\\sources\\aiproject\\venv\\lib\\site-packages\\lightgbm\\engine.py:148: UserWarning: Found `n_estimators` in params. Will use it instead of argument\n",
      "  warnings.warn(\"Found `{}` in params. Will use it instead of argument\".format(alias))\n"
     ]
    },
    {
     "name": "stdout",
     "output_type": "stream",
     "text": [
      "[100]\ttraining's auc: 0.965621\tvalid_1's auc: 0.763534\n",
      "[200]\ttraining's auc: 0.984709\tvalid_1's auc: 0.777034\n",
      "[300]\ttraining's auc: 0.993589\tvalid_1's auc: 0.780313\n",
      "[400]\ttraining's auc: 0.997139\tvalid_1's auc: 0.778236\n",
      "[500]\ttraining's auc: 0.998629\tvalid_1's auc: 0.778236\n",
      "[600]\ttraining's auc: 0.9995\tvalid_1's auc: 0.780341\n",
      "[700]\ttraining's auc: 0.999918\tvalid_1's auc: 0.780559\n",
      "[800]\ttraining's auc: 0.999977\tvalid_1's auc: 0.781953\n",
      "[900]\ttraining's auc: 0.999992\tvalid_1's auc: 0.782117\n",
      "[1000]\ttraining's auc: 0.999996\tvalid_1's auc: 0.780504\n",
      "[1100]\ttraining's auc: 0.999996\tvalid_1's auc: 0.780231\n",
      "[1200]\ttraining's auc: 0.999996\tvalid_1's auc: 0.780887\n",
      "[1300]\ttraining's auc: 0.999999\tvalid_1's auc: 0.782445\n",
      "[1400]\ttraining's auc: 0.999999\tvalid_1's auc: 0.782991\n",
      "[1500]\ttraining's auc: 0.999999\tvalid_1's auc: 0.782937\n",
      "Did not meet early stopping. Best iteration is:\n",
      "[1263]\ttraining's auc: 0.999999\tvalid_1's auc: 0.781379\n",
      "fold n°4\n",
      "Training until validation scores don't improve for 500 rounds"
     ]
    },
    {
     "name": "stderr",
     "output_type": "stream",
     "text": [
      "e:\\sources\\aiproject\\venv\\lib\\site-packages\\lightgbm\\engine.py:148: UserWarning: Found `n_estimators` in params. Will use it instead of argument\n",
      "  warnings.warn(\"Found `{}` in params. Will use it instead of argument\".format(alias))\n"
     ]
    },
    {
     "name": "stdout",
     "output_type": "stream",
     "text": [
      "\n",
      "[100]\ttraining's auc: 0.971105\tvalid_1's auc: 0.744815\n",
      "[200]\ttraining's auc: 0.986659\tvalid_1's auc: 0.75222\n",
      "[300]\ttraining's auc: 0.99416\tvalid_1's auc: 0.75468\n",
      "[400]\ttraining's auc: 0.99706\tvalid_1's auc: 0.754024\n",
      "[500]\ttraining's auc: 0.99881\tvalid_1's auc: 0.756292\n",
      "[600]\ttraining's auc: 0.99961\tvalid_1's auc: 0.756893\n",
      "[700]\ttraining's auc: 0.999924\tvalid_1's auc: 0.756811\n",
      "[800]\ttraining's auc: 0.999985\tvalid_1's auc: 0.757221\n",
      "[900]\ttraining's auc: 0.999997\tvalid_1's auc: 0.757713\n",
      "[1000]\ttraining's auc: 1\tvalid_1's auc: 0.757905\n",
      "[1100]\ttraining's auc: 1\tvalid_1's auc: 0.757467\n",
      "[1200]\ttraining's auc: 1\tvalid_1's auc: 0.758506\n",
      "[1300]\ttraining's auc: 1\tvalid_1's auc: 0.757795\n",
      "[1400]\ttraining's auc: 1\tvalid_1's auc: 0.758451\n",
      "Early stopping, best iteration is:\n",
      "[975]\ttraining's auc: 1\tvalid_1's auc: 0.759134\n",
      "| \u001b[0m 24      \u001b[0m | \u001b[0m 0.7757  \u001b[0m | \u001b[0m 0.9048  \u001b[0m | \u001b[0m 0.7644  \u001b[0m | \u001b[0m 0.5612  \u001b[0m | \u001b[0m 3.004   \u001b[0m | \u001b[0m 0.009878\u001b[0m | \u001b[0m 6.194   \u001b[0m | \u001b[0m 26.49   \u001b[0m | \u001b[0m 107.3   \u001b[0m |\n",
      "fold n°0\n"
     ]
    },
    {
     "name": "stderr",
     "output_type": "stream",
     "text": [
      "e:\\sources\\aiproject\\venv\\lib\\site-packages\\lightgbm\\engine.py:148: UserWarning: Found `n_estimators` in params. Will use it instead of argument\n",
      "  warnings.warn(\"Found `{}` in params. Will use it instead of argument\".format(alias))\n"
     ]
    },
    {
     "name": "stdout",
     "output_type": "stream",
     "text": [
      "Training until validation scores don't improve for 500 rounds\n",
      "[100]\ttraining's auc: 0.944381\tvalid_1's auc: 0.760454\n",
      "[200]\ttraining's auc: 0.963001\tvalid_1's auc: 0.778906\n",
      "[300]\ttraining's auc: 0.977679\tvalid_1's auc: 0.781827\n",
      "[400]\ttraining's auc: 0.985142\tvalid_1's auc: 0.784229\n",
      "[500]\ttraining's auc: 0.991948\tvalid_1's auc: 0.785539\n",
      "[600]\ttraining's auc: 0.994966\tvalid_1's auc: 0.783219\n",
      "[700]\ttraining's auc: 0.997406\tvalid_1's auc: 0.781281\n",
      "[800]\ttraining's auc: 0.998641\tvalid_1's auc: 0.780708\n",
      "[900]\ttraining's auc: 0.999347\tvalid_1's auc: 0.779097\n",
      "Early stopping, best iteration is:\n",
      "[490]\ttraining's auc: 0.991424\tvalid_1's auc: 0.786713\n",
      "fold n°1\n",
      "Training until validation scores don't improve for 500 rounds\n"
     ]
    },
    {
     "name": "stderr",
     "output_type": "stream",
     "text": [
      "e:\\sources\\aiproject\\venv\\lib\\site-packages\\lightgbm\\engine.py:148: UserWarning: Found `n_estimators` in params. Will use it instead of argument\n",
      "  warnings.warn(\"Found `{}` in params. Will use it instead of argument\".format(alias))\n"
     ]
    },
    {
     "name": "stdout",
     "output_type": "stream",
     "text": [
      "[100]\ttraining's auc: 0.94619\tvalid_1's auc: 0.780365\n",
      "[200]\ttraining's auc: 0.963492\tvalid_1's auc: 0.790621\n",
      "[300]\ttraining's auc: 0.977073\tvalid_1's auc: 0.800636\n",
      "[400]\ttraining's auc: 0.985467\tvalid_1's auc: 0.806618\n",
      "[500]\ttraining's auc: 0.990499\tvalid_1's auc: 0.808354\n",
      "[600]\ttraining's auc: 0.994238\tvalid_1's auc: 0.810197\n",
      "[700]\ttraining's auc: 0.996475\tvalid_1's auc: 0.810357\n",
      "[800]\ttraining's auc: 0.998343\tvalid_1's auc: 0.81057\n",
      "[900]\ttraining's auc: 0.999378\tvalid_1's auc: 0.810757\n",
      "[1000]\ttraining's auc: 0.999765\tvalid_1's auc: 0.810544\n",
      "[1100]\ttraining's auc: 0.999929\tvalid_1's auc: 0.809556\n",
      "Early stopping, best iteration is:\n",
      "[679]\ttraining's auc: 0.995937\tvalid_1's auc: 0.811345\n",
      "fold n°2\n",
      "Training until validation scores don't improve for 500 rounds\n"
     ]
    },
    {
     "name": "stderr",
     "output_type": "stream",
     "text": [
      "e:\\sources\\aiproject\\venv\\lib\\site-packages\\lightgbm\\engine.py:148: UserWarning: Found `n_estimators` in params. Will use it instead of argument\n",
      "  warnings.warn(\"Found `{}` in params. Will use it instead of argument\".format(alias))\n"
     ]
    },
    {
     "name": "stdout",
     "output_type": "stream",
     "text": [
      "[100]\ttraining's auc: 0.947184\tvalid_1's auc: 0.730454\n",
      "[200]\ttraining's auc: 0.961821\tvalid_1's auc: 0.73014\n",
      "[300]\ttraining's auc: 0.974752\tvalid_1's auc: 0.740907\n",
      "[400]\ttraining's auc: 0.983044\tvalid_1's auc: 0.744487\n",
      "[500]\ttraining's auc: 0.988731\tvalid_1's auc: 0.748968\n",
      "[600]\ttraining's auc: 0.993191\tvalid_1's auc: 0.752931\n",
      "[700]\ttraining's auc: 0.995841\tvalid_1's auc: 0.75621\n",
      "[800]\ttraining's auc: 0.997768\tvalid_1's auc: 0.757522\n",
      "[900]\ttraining's auc: 0.998674\tvalid_1's auc: 0.759517\n",
      "[1000]\ttraining's auc: 0.999397\tvalid_1's auc: 0.761457\n",
      "[1100]\ttraining's auc: 0.999679\tvalid_1's auc: 0.762632\n",
      "[1200]\ttraining's auc: 0.999881\tvalid_1's auc: 0.763862\n",
      "[1300]\ttraining's auc: 0.999959\tvalid_1's auc: 0.765228\n",
      "[1400]\ttraining's auc: 0.999981\tvalid_1's auc: 0.765857\n",
      "[1500]\ttraining's auc: 0.999992\tvalid_1's auc: 0.767524\n",
      "Did not meet early stopping. Best iteration is:\n",
      "[1492]\ttraining's auc: 0.999992\tvalid_1's auc: 0.767305\n",
      "fold n°3\n"
     ]
    },
    {
     "name": "stderr",
     "output_type": "stream",
     "text": [
      "e:\\sources\\aiproject\\venv\\lib\\site-packages\\lightgbm\\engine.py:148: UserWarning: Found `n_estimators` in params. Will use it instead of argument\n",
      "  warnings.warn(\"Found `{}` in params. Will use it instead of argument\".format(alias))\n"
     ]
    },
    {
     "name": "stdout",
     "output_type": "stream",
     "text": [
      "Training until validation scores don't improve for 500 rounds\n",
      "[100]\ttraining's auc: 0.944128\tvalid_1's auc: 0.77452\n",
      "[200]\ttraining's auc: 0.961913\tvalid_1's auc: 0.788812\n",
      "[300]\ttraining's auc: 0.977136\tvalid_1's auc: 0.791436\n",
      "[400]\ttraining's auc: 0.985766\tvalid_1's auc: 0.792529\n",
      "[500]\ttraining's auc: 0.990951\tvalid_1's auc: 0.795562\n",
      "[600]\ttraining's auc: 0.994796\tvalid_1's auc: 0.796464\n",
      "[700]\ttraining's auc: 0.997208\tvalid_1's auc: 0.796655\n",
      "[800]\ttraining's auc: 0.998415\tvalid_1's auc: 0.797202\n",
      "[900]\ttraining's auc: 0.999091\tvalid_1's auc: 0.798267\n",
      "[1000]\ttraining's auc: 0.999632\tvalid_1's auc: 0.799388\n",
      "[1100]\ttraining's auc: 0.999833\tvalid_1's auc: 0.800754\n",
      "[1200]\ttraining's auc: 0.999914\tvalid_1's auc: 0.80264\n",
      "[1300]\ttraining's auc: 0.99996\tvalid_1's auc: 0.802585\n",
      "[1400]\ttraining's auc: 0.999977\tvalid_1's auc: 0.801765\n",
      "[1500]\ttraining's auc: 0.999987\tvalid_1's auc: 0.803159\n",
      "Did not meet early stopping. Best iteration is:\n",
      "[1488]\ttraining's auc: 0.999987\tvalid_1's auc: 0.803132\n",
      "fold n°4\n"
     ]
    },
    {
     "name": "stderr",
     "output_type": "stream",
     "text": [
      "e:\\sources\\aiproject\\venv\\lib\\site-packages\\lightgbm\\engine.py:148: UserWarning: Found `n_estimators` in params. Will use it instead of argument\n",
      "  warnings.warn(\"Found `{}` in params. Will use it instead of argument\".format(alias))\n"
     ]
    },
    {
     "name": "stdout",
     "output_type": "stream",
     "text": [
      "Training until validation scores don't improve for 500 rounds\n",
      "[100]\ttraining's auc: 0.950827\tvalid_1's auc: 0.74599\n",
      "[200]\ttraining's auc: 0.966878\tvalid_1's auc: 0.745498\n",
      "[300]\ttraining's auc: 0.978432\tvalid_1's auc: 0.748914\n",
      "[400]\ttraining's auc: 0.985978\tvalid_1's auc: 0.753942\n",
      "[500]\ttraining's auc: 0.991402\tvalid_1's auc: 0.761293\n",
      "[600]\ttraining's auc: 0.994929\tvalid_1's auc: 0.761758\n",
      "[700]\ttraining's auc: 0.997084\tvalid_1's auc: 0.762878\n",
      "[800]\ttraining's auc: 0.998353\tvalid_1's auc: 0.764327\n",
      "[900]\ttraining's auc: 0.999199\tvalid_1's auc: 0.766704\n",
      "[1000]\ttraining's auc: 0.999621\tvalid_1's auc: 0.766595\n",
      "[1100]\ttraining's auc: 0.999832\tvalid_1's auc: 0.767688\n",
      "[1200]\ttraining's auc: 0.999944\tvalid_1's auc: 0.769191\n",
      "[1300]\ttraining's auc: 0.999978\tvalid_1's auc: 0.769464\n",
      "[1400]\ttraining's auc: 0.999988\tvalid_1's auc: 0.767852\n",
      "[1500]\ttraining's auc: 0.999993\tvalid_1's auc: 0.766403\n",
      "Did not meet early stopping. Best iteration is:\n",
      "[1420]\ttraining's auc: 0.999993\tvalid_1's auc: 0.767988\n",
      "| \u001b[95m 25      \u001b[0m | \u001b[95m 0.7873  \u001b[0m | \u001b[95m 0.7015  \u001b[0m | \u001b[95m 0.8276  \u001b[0m | \u001b[95m 0.8802  \u001b[0m | \u001b[95m 4.503   \u001b[0m | \u001b[95m 0.007085\u001b[0m | \u001b[95m 9.422   \u001b[0m | \u001b[95m 28.77   \u001b[0m | \u001b[95m 102.8   \u001b[0m |\n",
      "fold n°0\n",
      "Training until validation scores don't improve for 500 rounds\n"
     ]
    },
    {
     "name": "stderr",
     "output_type": "stream",
     "text": [
      "e:\\sources\\aiproject\\venv\\lib\\site-packages\\lightgbm\\engine.py:148: UserWarning: Found `n_estimators` in params. Will use it instead of argument\n",
      "  warnings.warn(\"Found `{}` in params. Will use it instead of argument\".format(alias))\n"
     ]
    },
    {
     "name": "stdout",
     "output_type": "stream",
     "text": [
      "[100]\ttraining's auc: 0.955414\tvalid_1's auc: 0.733241\n",
      "[200]\ttraining's auc: 0.97709\tvalid_1's auc: 0.766132\n",
      "[300]\ttraining's auc: 0.988953\tvalid_1's auc: 0.773501\n",
      "[400]\ttraining's auc: 0.99498\tvalid_1's auc: 0.773474\n",
      "[500]\ttraining's auc: 0.998148\tvalid_1's auc: 0.769462\n",
      "[600]\ttraining's auc: 0.999401\tvalid_1's auc: 0.768124\n",
      "[700]\ttraining's auc: 0.99985\tvalid_1's auc: 0.764112\n",
      "Early stopping, best iteration is:\n",
      "[281]\ttraining's auc: 0.98725\tvalid_1's auc: 0.77473\n",
      "fold n°1\n",
      "Training until validation scores don't improve for 500 rounds\n"
     ]
    },
    {
     "name": "stderr",
     "output_type": "stream",
     "text": [
      "e:\\sources\\aiproject\\venv\\lib\\site-packages\\lightgbm\\engine.py:148: UserWarning: Found `n_estimators` in params. Will use it instead of argument\n",
      "  warnings.warn(\"Found `{}` in params. Will use it instead of argument\".format(alias))\n"
     ]
    },
    {
     "name": "stdout",
     "output_type": "stream",
     "text": [
      "[100]\ttraining's auc: 0.963968\tvalid_1's auc: 0.778229\n",
      "[200]\ttraining's auc: 0.979948\tvalid_1's auc: 0.788057\n",
      "[300]\ttraining's auc: 0.99028\tvalid_1's auc: 0.790941\n",
      "[400]\ttraining's auc: 0.995674\tvalid_1's auc: 0.795401\n",
      "[500]\ttraining's auc: 0.998273\tvalid_1's auc: 0.797324\n",
      "[600]\ttraining's auc: 0.999376\tvalid_1's auc: 0.797297\n",
      "[700]\ttraining's auc: 0.999878\tvalid_1's auc: 0.796443\n",
      "[800]\ttraining's auc: 0.999977\tvalid_1's auc: 0.797618\n",
      "[900]\ttraining's auc: 0.999991\tvalid_1's auc: 0.798072\n",
      "[1000]\ttraining's auc: 0.999992\tvalid_1's auc: 0.798339\n",
      "[1100]\ttraining's auc: 0.999996\tvalid_1's auc: 0.796736\n",
      "[1200]\ttraining's auc: 0.999997\tvalid_1's auc: 0.797351\n",
      "[1300]\ttraining's auc: 0.999997\tvalid_1's auc: 0.79703\n",
      "[1400]\ttraining's auc: 0.999999\tvalid_1's auc: 0.796443\n",
      "Early stopping, best iteration is:\n",
      "[988]\ttraining's auc: 0.999992\tvalid_1's auc: 0.798686\n",
      "fold n°2\n",
      "Training until validation scores don't improve for 500 rounds"
     ]
    },
    {
     "name": "stderr",
     "output_type": "stream",
     "text": [
      "e:\\sources\\aiproject\\venv\\lib\\site-packages\\lightgbm\\engine.py:148: UserWarning: Found `n_estimators` in params. Will use it instead of argument\n",
      "  warnings.warn(\"Found `{}` in params. Will use it instead of argument\".format(alias))\n"
     ]
    },
    {
     "name": "stdout",
     "output_type": "stream",
     "text": [
      "\n",
      "[100]\ttraining's auc: 0.961578\tvalid_1's auc: 0.719359\n",
      "[200]\ttraining's auc: 0.977098\tvalid_1's auc: 0.72962\n",
      "[300]\ttraining's auc: 0.987504\tvalid_1's auc: 0.740551\n",
      "[400]\ttraining's auc: 0.993571\tvalid_1's auc: 0.744815\n",
      "[500]\ttraining's auc: 0.997282\tvalid_1's auc: 0.749242\n",
      "[600]\ttraining's auc: 0.998992\tvalid_1's auc: 0.753313\n",
      "[700]\ttraining's auc: 0.999718\tvalid_1's auc: 0.756292\n",
      "[800]\ttraining's auc: 0.999947\tvalid_1's auc: 0.757905\n",
      "[900]\ttraining's auc: 0.99999\tvalid_1's auc: 0.758806\n",
      "[1000]\ttraining's auc: 0.999997\tvalid_1's auc: 0.760883\n",
      "[1100]\ttraining's auc: 1\tvalid_1's auc: 0.762332\n",
      "[1200]\ttraining's auc: 1\tvalid_1's auc: 0.763124\n",
      "[1300]\ttraining's auc: 1\tvalid_1's auc: 0.763889\n",
      "[1400]\ttraining's auc: 1\tvalid_1's auc: 0.764463\n",
      "[1500]\ttraining's auc: 1\tvalid_1's auc: 0.765174\n",
      "Did not meet early stopping. Best iteration is:\n",
      "[1091]\ttraining's auc: 1\tvalid_1's auc: 0.76214\n",
      "fold n°3\n"
     ]
    },
    {
     "name": "stderr",
     "output_type": "stream",
     "text": [
      "e:\\sources\\aiproject\\venv\\lib\\site-packages\\lightgbm\\engine.py:148: UserWarning: Found `n_estimators` in params. Will use it instead of argument\n",
      "  warnings.warn(\"Found `{}` in params. Will use it instead of argument\".format(alias))\n"
     ]
    },
    {
     "name": "stdout",
     "output_type": "stream",
     "text": [
      "Training until validation scores don't improve for 500 rounds\n",
      "[100]\ttraining's auc: 0.961823\tvalid_1's auc: 0.763985\n",
      "[200]\ttraining's auc: 0.978545\tvalid_1's auc: 0.774\n",
      "[300]\ttraining's auc: 0.988904\tvalid_1's auc: 0.777744\n",
      "[400]\ttraining's auc: 0.994716\tvalid_1's auc: 0.783647\n",
      "[500]\ttraining's auc: 0.997392\tvalid_1's auc: 0.783046\n",
      "[600]\ttraining's auc: 0.998977\tvalid_1's auc: 0.782773\n",
      "[700]\ttraining's auc: 0.999677\tvalid_1's auc: 0.782308\n",
      "[800]\ttraining's auc: 0.999914\tvalid_1's auc: 0.782445\n",
      "[900]\ttraining's auc: 0.999958\tvalid_1's auc: 0.784713\n",
      "[1000]\ttraining's auc: 0.999991\tvalid_1's auc: 0.784112\n",
      "[1100]\ttraining's auc: 0.999996\tvalid_1's auc: 0.783019\n",
      "[1200]\ttraining's auc: 0.999996\tvalid_1's auc: 0.783046\n",
      "[1300]\ttraining's auc: 0.999996\tvalid_1's auc: 0.783401\n",
      "[1400]\ttraining's auc: 0.999996\tvalid_1's auc: 0.783456\n",
      "Early stopping, best iteration is:\n",
      "[900]\ttraining's auc: 0.999958\tvalid_1's auc: 0.784713\n",
      "fold n°4\n",
      "Training until validation scores don't improve for 500 rounds"
     ]
    },
    {
     "name": "stderr",
     "output_type": "stream",
     "text": [
      "e:\\sources\\aiproject\\venv\\lib\\site-packages\\lightgbm\\engine.py:148: UserWarning: Found `n_estimators` in params. Will use it instead of argument\n",
      "  warnings.warn(\"Found `{}` in params. Will use it instead of argument\".format(alias))\n"
     ]
    },
    {
     "name": "stdout",
     "output_type": "stream",
     "text": [
      "\n",
      "[100]\ttraining's auc: 0.967879\tvalid_1's auc: 0.74711\n",
      "[200]\ttraining's auc: 0.982055\tvalid_1's auc: 0.746099\n",
      "[300]\ttraining's auc: 0.990748\tvalid_1's auc: 0.74998\n",
      "[400]\ttraining's auc: 0.99525\tvalid_1's auc: 0.752986\n",
      "[500]\ttraining's auc: 0.997808\tvalid_1's auc: 0.756675\n",
      "[600]\ttraining's auc: 0.999133\tvalid_1's auc: 0.760528\n",
      "[700]\ttraining's auc: 0.999672\tvalid_1's auc: 0.762742\n",
      "[800]\ttraining's auc: 0.999917\tvalid_1's auc: 0.763479\n",
      "[900]\ttraining's auc: 0.999983\tvalid_1's auc: 0.764354\n",
      "[1000]\ttraining's auc: 0.999995\tvalid_1's auc: 0.763561\n",
      "[1100]\ttraining's auc: 0.999997\tvalid_1's auc: 0.763124\n",
      "[1200]\ttraining's auc: 1\tvalid_1's auc: 0.76296\n",
      "[1300]\ttraining's auc: 1\tvalid_1's auc: 0.763698\n",
      "[1400]\ttraining's auc: 1\tvalid_1's auc: 0.763971\n",
      "Early stopping, best iteration is:\n",
      "[911]\ttraining's auc: 0.999986\tvalid_1's auc: 0.764627\n",
      "| \u001b[0m 26      \u001b[0m | \u001b[0m 0.777   \u001b[0m | \u001b[0m 0.9222  \u001b[0m | \u001b[0m 0.9826  \u001b[0m | \u001b[0m 0.1621  \u001b[0m | \u001b[0m 4.922   \u001b[0m | \u001b[0m 0.007222\u001b[0m | \u001b[0m 9.123   \u001b[0m | \u001b[0m 31.09   \u001b[0m | \u001b[0m 102.6   \u001b[0m |\n",
      "fold n°0\n",
      "Training until validation scores don't improve for 500 rounds\n"
     ]
    },
    {
     "name": "stderr",
     "output_type": "stream",
     "text": [
      "e:\\sources\\aiproject\\venv\\lib\\site-packages\\lightgbm\\engine.py:148: UserWarning: Found `n_estimators` in params. Will use it instead of argument\n",
      "  warnings.warn(\"Found `{}` in params. Will use it instead of argument\".format(alias))\n"
     ]
    },
    {
     "name": "stdout",
     "output_type": "stream",
     "text": [
      "[100]\ttraining's auc: 0.957329\tvalid_1's auc: 0.71962\n",
      "[200]\ttraining's auc: 0.984366\tvalid_1's auc: 0.760372\n",
      "[300]\ttraining's auc: 0.993862\tvalid_1's auc: 0.759608\n",
      "[400]\ttraining's auc: 0.998101\tvalid_1's auc: 0.756824\n",
      "[500]\ttraining's auc: 0.999517\tvalid_1's auc: 0.758107\n",
      "[600]\ttraining's auc: 0.999892\tvalid_1's auc: 0.751638\n",
      "[700]\ttraining's auc: 0.999977\tvalid_1's auc: 0.74596\n",
      "Early stopping, best iteration is:\n",
      "[239]\ttraining's auc: 0.989153\tvalid_1's auc: 0.764221\n",
      "fold n°1\n",
      "Training until validation scores don't improve for 500 rounds\n"
     ]
    },
    {
     "name": "stderr",
     "output_type": "stream",
     "text": [
      "e:\\sources\\aiproject\\venv\\lib\\site-packages\\lightgbm\\engine.py:148: UserWarning: Found `n_estimators` in params. Will use it instead of argument\n",
      "  warnings.warn(\"Found `{}` in params. Will use it instead of argument\".format(alias))\n"
     ]
    },
    {
     "name": "stdout",
     "output_type": "stream",
     "text": [
      "[100]\ttraining's auc: 0.967158\tvalid_1's auc: 0.762499\n",
      "[200]\ttraining's auc: 0.985344\tvalid_1's auc: 0.776439\n",
      "[300]\ttraining's auc: 0.995051\tvalid_1's auc: 0.787816\n",
      "[400]\ttraining's auc: 0.998394\tvalid_1's auc: 0.789659\n",
      "[500]\ttraining's auc: 0.999659\tvalid_1's auc: 0.790808\n",
      "[600]\ttraining's auc: 0.999956\tvalid_1's auc: 0.793184\n",
      "[700]\ttraining's auc: 0.999989\tvalid_1's auc: 0.795107\n",
      "[800]\ttraining's auc: 0.999994\tvalid_1's auc: 0.795909\n",
      "[900]\ttraining's auc: 0.999996\tvalid_1's auc: 0.79468\n",
      "[1000]\ttraining's auc: 0.999997\tvalid_1's auc: 0.794333\n",
      "[1100]\ttraining's auc: 0.999999\tvalid_1's auc: 0.793238\n",
      "[1200]\ttraining's auc: 0.999999\tvalid_1's auc: 0.792624\n",
      "Early stopping, best iteration is:\n",
      "[761]\ttraining's auc: 0.999994\tvalid_1's auc: 0.796523\n",
      "fold n°2\n",
      "Training until validation scores don't improve for 500 rounds\n"
     ]
    },
    {
     "name": "stderr",
     "output_type": "stream",
     "text": [
      "e:\\sources\\aiproject\\venv\\lib\\site-packages\\lightgbm\\engine.py:148: UserWarning: Found `n_estimators` in params. Will use it instead of argument\n",
      "  warnings.warn(\"Found `{}` in params. Will use it instead of argument\".format(alias))\n"
     ]
    },
    {
     "name": "stdout",
     "output_type": "stream",
     "text": [
      "[100]\ttraining's auc: 0.965588\tvalid_1's auc: 0.719058\n",
      "[200]\ttraining's auc: 0.982907\tvalid_1's auc: 0.731889\n",
      "[300]\ttraining's auc: 0.992773\tvalid_1's auc: 0.738557\n",
      "[400]\ttraining's auc: 0.997201\tvalid_1's auc: 0.744049\n",
      "[500]\ttraining's auc: 0.999122\tvalid_1's auc: 0.746837\n",
      "[600]\ttraining's auc: 0.999834\tvalid_1's auc: 0.745689\n",
      "[700]\ttraining's auc: 0.999981\tvalid_1's auc: 0.747301\n",
      "[800]\ttraining's auc: 0.999995\tvalid_1's auc: 0.748449\n",
      "[900]\ttraining's auc: 1\tvalid_1's auc: 0.748586\n",
      "[1000]\ttraining's auc: 1\tvalid_1's auc: 0.749214\n",
      "[1100]\ttraining's auc: 1\tvalid_1's auc: 0.750881\n",
      "[1200]\ttraining's auc: 1\tvalid_1's auc: 0.752138\n",
      "[1300]\ttraining's auc: 1\tvalid_1's auc: 0.752439\n",
      "[1400]\ttraining's auc: 1\tvalid_1's auc: 0.752822\n",
      "[1500]\ttraining's auc: 1\tvalid_1's auc: 0.753341\n",
      "Did not meet early stopping. Best iteration is:\n",
      "[889]\ttraining's auc: 1\tvalid_1's auc: 0.748613\n",
      "fold n°3\n",
      "Training until validation scores don't improve for 500 rounds\n"
     ]
    },
    {
     "name": "stderr",
     "output_type": "stream",
     "text": [
      "e:\\sources\\aiproject\\venv\\lib\\site-packages\\lightgbm\\engine.py:148: UserWarning: Found `n_estimators` in params. Will use it instead of argument\n",
      "  warnings.warn(\"Found `{}` in params. Will use it instead of argument\".format(alias))\n"
     ]
    },
    {
     "name": "stdout",
     "output_type": "stream",
     "text": [
      "[100]\ttraining's auc: 0.961879\tvalid_1's auc: 0.761799\n",
      "[200]\ttraining's auc: 0.98123\tvalid_1's auc: 0.768016\n",
      "[300]\ttraining's auc: 0.992484\tvalid_1's auc: 0.777717\n",
      "[400]\ttraining's auc: 0.997078\tvalid_1's auc: 0.771978\n",
      "[500]\ttraining's auc: 0.998979\tvalid_1's auc: 0.771404\n",
      "[600]\ttraining's auc: 0.99968\tvalid_1's auc: 0.774465\n",
      "[700]\ttraining's auc: 0.999935\tvalid_1's auc: 0.77534\n",
      "Early stopping, best iteration is:\n",
      "[240]\ttraining's auc: 0.986994\tvalid_1's auc: 0.778674\n",
      "fold n°4\n",
      "Training until validation scores don't improve for 500 rounds\n"
     ]
    },
    {
     "name": "stderr",
     "output_type": "stream",
     "text": [
      "e:\\sources\\aiproject\\venv\\lib\\site-packages\\lightgbm\\engine.py:148: UserWarning: Found `n_estimators` in params. Will use it instead of argument\n",
      "  warnings.warn(\"Found `{}` in params. Will use it instead of argument\".format(alias))\n"
     ]
    },
    {
     "name": "stdout",
     "output_type": "stream",
     "text": [
      "[100]\ttraining's auc: 0.969215\tvalid_1's auc: 0.73469\n",
      "[200]\ttraining's auc: 0.986176\tvalid_1's auc: 0.73566\n",
      "[300]\ttraining's auc: 0.994313\tvalid_1's auc: 0.742082\n",
      "[400]\ttraining's auc: 0.997724\tvalid_1's auc: 0.748067\n",
      "[500]\ttraining's auc: 0.99909\tvalid_1's auc: 0.750417\n",
      "[600]\ttraining's auc: 0.999691\tvalid_1's auc: 0.753259\n",
      "[700]\ttraining's auc: 0.999941\tvalid_1's auc: 0.750854\n",
      "[800]\ttraining's auc: 0.99999\tvalid_1's auc: 0.751073\n",
      "[900]\ttraining's auc: 0.999997\tvalid_1's auc: 0.749816\n",
      "[1000]\ttraining's auc: 1\tvalid_1's auc: 0.749734\n",
      "Early stopping, best iteration is:\n",
      "[573]\ttraining's auc: 0.999543\tvalid_1's auc: 0.754161\n",
      "| \u001b[0m 27      \u001b[0m | \u001b[0m 0.7684  \u001b[0m | \u001b[0m 0.9946  \u001b[0m | \u001b[0m 0.9973  \u001b[0m | \u001b[0m 0.7361  \u001b[0m | \u001b[0m 4.93    \u001b[0m | \u001b[0m 0.009447\u001b[0m | \u001b[0m 8.458   \u001b[0m | \u001b[0m 27.99   \u001b[0m | \u001b[0m 103.4   \u001b[0m |\n",
      "fold n°0\n"
     ]
    },
    {
     "name": "stderr",
     "output_type": "stream",
     "text": [
      "e:\\sources\\aiproject\\venv\\lib\\site-packages\\lightgbm\\engine.py:148: UserWarning: Found `n_estimators` in params. Will use it instead of argument\n",
      "  warnings.warn(\"Found `{}` in params. Will use it instead of argument\".format(alias))\n"
     ]
    },
    {
     "name": "stdout",
     "output_type": "stream",
     "text": [
      "Training until validation scores don't improve for 500 rounds\n",
      "[100]\ttraining's auc: 0.944291\tvalid_1's auc: 0.757206\n",
      "[200]\ttraining's auc: 0.957399\tvalid_1's auc: 0.768233\n",
      "[300]\ttraining's auc: 0.969657\tvalid_1's auc: 0.771536\n",
      "[400]\ttraining's auc: 0.978374\tvalid_1's auc: 0.77574\n",
      "[500]\ttraining's auc: 0.985893\tvalid_1's auc: 0.775248\n",
      "[600]\ttraining's auc: 0.990099\tvalid_1's auc: 0.776586\n",
      "[700]\ttraining's auc: 0.993731\tvalid_1's auc: 0.776449\n",
      "[800]\ttraining's auc: 0.996144\tvalid_1's auc: 0.77604\n",
      "[900]\ttraining's auc: 0.997676\tvalid_1's auc: 0.773829\n",
      "[1000]\ttraining's auc: 0.998644\tvalid_1's auc: 0.772628\n",
      "[1100]\ttraining's auc: 0.99931\tvalid_1's auc: 0.771946\n",
      "Early stopping, best iteration is:\n",
      "[666]\ttraining's auc: 0.992577\tvalid_1's auc: 0.777923\n",
      "fold n°1\n",
      "Training until validation scores don't improve for 500 rounds\n"
     ]
    },
    {
     "name": "stderr",
     "output_type": "stream",
     "text": [
      "e:\\sources\\aiproject\\venv\\lib\\site-packages\\lightgbm\\engine.py:148: UserWarning: Found `n_estimators` in params. Will use it instead of argument\n",
      "  warnings.warn(\"Found `{}` in params. Will use it instead of argument\".format(alias))\n"
     ]
    },
    {
     "name": "stdout",
     "output_type": "stream",
     "text": [
      "[100]\ttraining's auc: 0.945802\tvalid_1's auc: 0.778603\n",
      "[200]\ttraining's auc: 0.959052\tvalid_1's auc: 0.787549\n",
      "[300]\ttraining's auc: 0.971819\tvalid_1's auc: 0.792143\n",
      "[400]\ttraining's auc: 0.980264\tvalid_1's auc: 0.795962\n",
      "[500]\ttraining's auc: 0.986532\tvalid_1's auc: 0.796389\n",
      "[600]\ttraining's auc: 0.99078\tvalid_1's auc: 0.798098\n",
      "[700]\ttraining's auc: 0.993789\tvalid_1's auc: 0.800262\n",
      "[800]\ttraining's auc: 0.99614\tvalid_1's auc: 0.803894\n",
      "[900]\ttraining's auc: 0.997815\tvalid_1's auc: 0.804401\n",
      "[1000]\ttraining's auc: 0.998783\tvalid_1's auc: 0.805015\n",
      "[1100]\ttraining's auc: 0.999349\tvalid_1's auc: 0.805042\n",
      "[1200]\ttraining's auc: 0.999697\tvalid_1's auc: 0.805015\n",
      "[1300]\ttraining's auc: 0.999878\tvalid_1's auc: 0.805389\n",
      "[1400]\ttraining's auc: 0.99995\tvalid_1's auc: 0.805256\n",
      "[1500]\ttraining's auc: 0.999975\tvalid_1's auc: 0.805202\n",
      "Did not meet early stopping. Best iteration is:\n",
      "[1488]\ttraining's auc: 0.999975\tvalid_1's auc: 0.805149\n",
      "fold n°2\n"
     ]
    },
    {
     "name": "stderr",
     "output_type": "stream",
     "text": [
      "e:\\sources\\aiproject\\venv\\lib\\site-packages\\lightgbm\\engine.py:148: UserWarning: Found `n_estimators` in params. Will use it instead of argument\n",
      "  warnings.warn(\"Found `{}` in params. Will use it instead of argument\".format(alias))\n"
     ]
    },
    {
     "name": "stdout",
     "output_type": "stream",
     "text": [
      "Training until validation scores don't improve for 500 rounds\n",
      "[100]\ttraining's auc: 0.946482\tvalid_1's auc: 0.729251\n",
      "[200]\ttraining's auc: 0.95928\tvalid_1's auc: 0.73883\n",
      "[300]\ttraining's auc: 0.969119\tvalid_1's auc: 0.738229\n",
      "[400]\ttraining's auc: 0.97687\tvalid_1's auc: 0.740688\n",
      "[500]\ttraining's auc: 0.983284\tvalid_1's auc: 0.744541\n",
      "[600]\ttraining's auc: 0.988412\tvalid_1's auc: 0.74875\n",
      "[700]\ttraining's auc: 0.991824\tvalid_1's auc: 0.750827\n",
      "[800]\ttraining's auc: 0.994488\tvalid_1's auc: 0.754953\n",
      "[900]\ttraining's auc: 0.996158\tvalid_1's auc: 0.756183\n",
      "[1000]\ttraining's auc: 0.997603\tvalid_1's auc: 0.757795\n",
      "[1100]\ttraining's auc: 0.998518\tvalid_1's auc: 0.758943\n",
      "[1200]\ttraining's auc: 0.99917\tvalid_1's auc: 0.758342\n",
      "[1300]\ttraining's auc: 0.999538\tvalid_1's auc: 0.759326\n",
      "[1400]\ttraining's auc: 0.999742\tvalid_1's auc: 0.761785\n",
      "[1500]\ttraining's auc: 0.999876\tvalid_1's auc: 0.76225\n",
      "Did not meet early stopping. Best iteration is:\n",
      "[1499]\ttraining's auc: 0.999876\tvalid_1's auc: 0.76225\n",
      "fold n°3\n"
     ]
    },
    {
     "name": "stderr",
     "output_type": "stream",
     "text": [
      "e:\\sources\\aiproject\\venv\\lib\\site-packages\\lightgbm\\engine.py:148: UserWarning: Found `n_estimators` in params. Will use it instead of argument\n",
      "  warnings.warn(\"Found `{}` in params. Will use it instead of argument\".format(alias))\n"
     ]
    },
    {
     "name": "stdout",
     "output_type": "stream",
     "text": [
      "Training until validation scores don't improve for 500 rounds\n",
      "[100]\ttraining's auc: 0.942034\tvalid_1's auc: 0.76654\n",
      "[200]\ttraining's auc: 0.957737\tvalid_1's auc: 0.777826\n",
      "[300]\ttraining's auc: 0.969889\tvalid_1's auc: 0.780313\n",
      "[400]\ttraining's auc: 0.978779\tvalid_1's auc: 0.781926\n",
      "[500]\ttraining's auc: 0.98466\tvalid_1's auc: 0.782663\n",
      "[600]\ttraining's auc: 0.989717\tvalid_1's auc: 0.785396\n",
      "[700]\ttraining's auc: 0.993406\tvalid_1's auc: 0.786626\n",
      "[800]\ttraining's auc: 0.995416\tvalid_1's auc: 0.78802\n",
      "[900]\ttraining's auc: 0.996842\tvalid_1's auc: 0.789905\n",
      "[1000]\ttraining's auc: 0.998308\tvalid_1's auc: 0.789714\n",
      "[1100]\ttraining's auc: 0.998986\tvalid_1's auc: 0.789987\n",
      "[1200]\ttraining's auc: 0.999329\tvalid_1's auc: 0.791572\n",
      "[1300]\ttraining's auc: 0.999677\tvalid_1's auc: 0.792829\n",
      "[1400]\ttraining's auc: 0.999867\tvalid_1's auc: 0.793157\n",
      "[1500]\ttraining's auc: 0.999924\tvalid_1's auc: 0.794414\n",
      "Did not meet early stopping. Best iteration is:\n",
      "[1498]\ttraining's auc: 0.999924\tvalid_1's auc: 0.794578\n",
      "fold n°4\n"
     ]
    },
    {
     "name": "stderr",
     "output_type": "stream",
     "text": [
      "e:\\sources\\aiproject\\venv\\lib\\site-packages\\lightgbm\\engine.py:148: UserWarning: Found `n_estimators` in params. Will use it instead of argument\n",
      "  warnings.warn(\"Found `{}` in params. Will use it instead of argument\".format(alias))\n"
     ]
    },
    {
     "name": "stdout",
     "output_type": "stream",
     "text": [
      "Training until validation scores don't improve for 500 rounds\n",
      "[100]\ttraining's auc: 0.950397\tvalid_1's auc: 0.746864\n",
      "[200]\ttraining's auc: 0.963656\tvalid_1's auc: 0.74711\n",
      "[300]\ttraining's auc: 0.973782\tvalid_1's auc: 0.749296\n",
      "[400]\ttraining's auc: 0.981277\tvalid_1's auc: 0.755281\n",
      "[500]\ttraining's auc: 0.987022\tvalid_1's auc: 0.755937\n",
      "[600]\ttraining's auc: 0.991018\tvalid_1's auc: 0.758834\n",
      "[700]\ttraining's auc: 0.994002\tvalid_1's auc: 0.75856\n",
      "[800]\ttraining's auc: 0.996046\tvalid_1's auc: 0.759544\n",
      "[900]\ttraining's auc: 0.997581\tvalid_1's auc: 0.759735\n",
      "[1000]\ttraining's auc: 0.998577\tvalid_1's auc: 0.75938\n",
      "[1100]\ttraining's auc: 0.999166\tvalid_1's auc: 0.759817\n",
      "[1200]\ttraining's auc: 0.999569\tvalid_1's auc: 0.760747\n",
      "[1300]\ttraining's auc: 0.999776\tvalid_1's auc: 0.761922\n",
      "[1400]\ttraining's auc: 0.999888\tvalid_1's auc: 0.762113\n",
      "[1500]\ttraining's auc: 0.999954\tvalid_1's auc: 0.76132\n",
      "Did not meet early stopping. Best iteration is:\n",
      "[1496]\ttraining's auc: 0.999954\tvalid_1's auc: 0.76143\n",
      "| \u001b[0m 28      \u001b[0m | \u001b[0m 0.7803  \u001b[0m | \u001b[0m 0.7907  \u001b[0m | \u001b[0m 0.7287  \u001b[0m | \u001b[0m 0.6143  \u001b[0m | \u001b[0m 4.854   \u001b[0m | \u001b[0m 0.005018\u001b[0m | \u001b[0m 9.493   \u001b[0m | \u001b[0m 29.11   \u001b[0m | \u001b[0m 104.3   \u001b[0m |\n",
      "fold n°0\n",
      "Training until validation scores don't improve for 500 rounds\n"
     ]
    },
    {
     "name": "stderr",
     "output_type": "stream",
     "text": [
      "e:\\sources\\aiproject\\venv\\lib\\site-packages\\lightgbm\\engine.py:148: UserWarning: Found `n_estimators` in params. Will use it instead of argument\n",
      "  warnings.warn(\"Found `{}` in params. Will use it instead of argument\".format(alias))\n"
     ]
    },
    {
     "name": "stdout",
     "output_type": "stream",
     "text": [
      "[100]\ttraining's auc: 0.940788\tvalid_1's auc: 0.750328\n",
      "[200]\ttraining's auc: 0.962439\tvalid_1's auc: 0.770444\n",
      "[300]\ttraining's auc: 0.978221\tvalid_1's auc: 0.775903\n",
      "[400]\ttraining's auc: 0.986245\tvalid_1's auc: 0.777978\n",
      "[500]\ttraining's auc: 0.992692\tvalid_1's auc: 0.777787\n",
      "[600]\ttraining's auc: 0.995637\tvalid_1's auc: 0.774238\n",
      "[700]\ttraining's auc: 0.997829\tvalid_1's auc: 0.773338\n",
      "[800]\ttraining's auc: 0.998909\tvalid_1's auc: 0.771809\n",
      "Early stopping, best iteration is:\n",
      "[349]\ttraining's auc: 0.983329\tvalid_1's auc: 0.779425\n",
      "fold n°1\n",
      "Training until validation scores don't improve for 500 rounds\n"
     ]
    },
    {
     "name": "stderr",
     "output_type": "stream",
     "text": [
      "e:\\sources\\aiproject\\venv\\lib\\site-packages\\lightgbm\\engine.py:148: UserWarning: Found `n_estimators` in params. Will use it instead of argument\n",
      "  warnings.warn(\"Found `{}` in params. Will use it instead of argument\".format(alias))\n"
     ]
    },
    {
     "name": "stdout",
     "output_type": "stream",
     "text": [
      "[100]\ttraining's auc: 0.942959\tvalid_1's auc: 0.77879\n",
      "[200]\ttraining's auc: 0.962156\tvalid_1's auc: 0.78998\n",
      "[300]\ttraining's auc: 0.977042\tvalid_1's auc: 0.797137\n",
      "[400]\ttraining's auc: 0.986363\tvalid_1's auc: 0.803547\n",
      "[500]\ttraining's auc: 0.991814\tvalid_1's auc: 0.806965\n",
      "[600]\ttraining's auc: 0.99503\tvalid_1's auc: 0.809529\n",
      "[700]\ttraining's auc: 0.997021\tvalid_1's auc: 0.810677\n",
      "[800]\ttraining's auc: 0.998693\tvalid_1's auc: 0.810704\n",
      "[900]\ttraining's auc: 0.999557\tvalid_1's auc: 0.809636\n",
      "[1000]\ttraining's auc: 0.999859\tvalid_1's auc: 0.809529\n",
      "[1100]\ttraining's auc: 0.999943\tvalid_1's auc: 0.808381\n",
      "[1200]\ttraining's auc: 0.999987\tvalid_1's auc: 0.807205\n",
      "Early stopping, best iteration is:\n",
      "[779]\ttraining's auc: 0.998461\tvalid_1's auc: 0.811799\n",
      "fold n°2\n",
      "Training until validation scores don't improve for 500 rounds\n"
     ]
    },
    {
     "name": "stderr",
     "output_type": "stream",
     "text": [
      "e:\\sources\\aiproject\\venv\\lib\\site-packages\\lightgbm\\engine.py:148: UserWarning: Found `n_estimators` in params. Will use it instead of argument\n",
      "  warnings.warn(\"Found `{}` in params. Will use it instead of argument\".format(alias))\n"
     ]
    },
    {
     "name": "stdout",
     "output_type": "stream",
     "text": [
      "[100]\ttraining's auc: 0.943123\tvalid_1's auc: 0.727106\n",
      "[200]\ttraining's auc: 0.962069\tvalid_1's auc: 0.73484\n",
      "[300]\ttraining's auc: 0.97587\tvalid_1's auc: 0.740196\n",
      "[400]\ttraining's auc: 0.985231\tvalid_1's auc: 0.744022\n",
      "[500]\ttraining's auc: 0.990597\tvalid_1's auc: 0.745033\n",
      "[600]\ttraining's auc: 0.994559\tvalid_1's auc: 0.749679\n",
      "[700]\ttraining's auc: 0.996905\tvalid_1's auc: 0.75263\n",
      "[800]\ttraining's auc: 0.998459\tvalid_1's auc: 0.755445\n",
      "[900]\ttraining's auc: 0.999053\tvalid_1's auc: 0.757495\n",
      "[1000]\ttraining's auc: 0.999594\tvalid_1's auc: 0.757522\n",
      "[1100]\ttraining's auc: 0.999832\tvalid_1's auc: 0.757932\n",
      "[1200]\ttraining's auc: 0.999947\tvalid_1's auc: 0.759298\n",
      "[1300]\ttraining's auc: 0.99998\tvalid_1's auc: 0.760583\n",
      "[1400]\ttraining's auc: 0.999992\tvalid_1's auc: 0.761894\n",
      "[1500]\ttraining's auc: 0.999997\tvalid_1's auc: 0.763097\n",
      "Did not meet early stopping. Best iteration is:\n",
      "[1497]\ttraining's auc: 0.999997\tvalid_1's auc: 0.76296\n",
      "fold n°3\n"
     ]
    },
    {
     "name": "stderr",
     "output_type": "stream",
     "text": [
      "e:\\sources\\aiproject\\venv\\lib\\site-packages\\lightgbm\\engine.py:148: UserWarning: Found `n_estimators` in params. Will use it instead of argument\n",
      "  warnings.warn(\"Found `{}` in params. Will use it instead of argument\".format(alias))\n"
     ]
    },
    {
     "name": "stdout",
     "output_type": "stream",
     "text": [
      "Training until validation scores don't improve for 500 rounds\n",
      "[100]\ttraining's auc: 0.942053\tvalid_1's auc: 0.779958\n",
      "[200]\ttraining's auc: 0.96293\tvalid_1's auc: 0.787965\n",
      "[300]\ttraining's auc: 0.978404\tvalid_1's auc: 0.791135\n",
      "[400]\ttraining's auc: 0.986955\tvalid_1's auc: 0.79272\n",
      "[500]\ttraining's auc: 0.99179\tvalid_1's auc: 0.794961\n",
      "[600]\ttraining's auc: 0.995444\tvalid_1's auc: 0.795453\n",
      "[700]\ttraining's auc: 0.997662\tvalid_1's auc: 0.79384\n",
      "[800]\ttraining's auc: 0.998611\tvalid_1's auc: 0.795781\n",
      "[900]\ttraining's auc: 0.999208\tvalid_1's auc: 0.796682\n",
      "[1000]\ttraining's auc: 0.999716\tvalid_1's auc: 0.798513\n",
      "[1100]\ttraining's auc: 0.999867\tvalid_1's auc: 0.79712\n",
      "[1200]\ttraining's auc: 0.999926\tvalid_1's auc: 0.799142\n",
      "[1300]\ttraining's auc: 0.999965\tvalid_1's auc: 0.799361\n",
      "[1400]\ttraining's auc: 0.99998\tvalid_1's auc: 0.798185\n",
      "[1500]\ttraining's auc: 0.999991\tvalid_1's auc: 0.79865\n",
      "Did not meet early stopping. Best iteration is:\n",
      "[1500]\ttraining's auc: 0.999991\tvalid_1's auc: 0.79865\n",
      "fold n°4\n"
     ]
    },
    {
     "name": "stderr",
     "output_type": "stream",
     "text": [
      "e:\\sources\\aiproject\\venv\\lib\\site-packages\\lightgbm\\engine.py:148: UserWarning: Found `n_estimators` in params. Will use it instead of argument\n",
      "  warnings.warn(\"Found `{}` in params. Will use it instead of argument\".format(alias))\n"
     ]
    },
    {
     "name": "stdout",
     "output_type": "stream",
     "text": [
      "Training until validation scores don't improve for 500 rounds\n",
      "[100]\ttraining's auc: 0.948758\tvalid_1's auc: 0.739609\n",
      "[200]\ttraining's auc: 0.967324\tvalid_1's auc: 0.744022\n",
      "[300]\ttraining's auc: 0.980449\tvalid_1's auc: 0.749488\n",
      "[400]\ttraining's auc: 0.988152\tvalid_1's auc: 0.752822\n",
      "[500]\ttraining's auc: 0.992969\tvalid_1's auc: 0.756074\n",
      "[600]\ttraining's auc: 0.995989\tvalid_1's auc: 0.754489\n",
      "[700]\ttraining's auc: 0.997761\tvalid_1's auc: 0.758232\n",
      "[800]\ttraining's auc: 0.998769\tvalid_1's auc: 0.759216\n",
      "[900]\ttraining's auc: 0.999419\tvalid_1's auc: 0.760173\n",
      "[1000]\ttraining's auc: 0.999754\tvalid_1's auc: 0.759954\n",
      "[1100]\ttraining's auc: 0.999891\tvalid_1's auc: 0.760337\n",
      "[1200]\ttraining's auc: 0.999961\tvalid_1's auc: 0.761484\n",
      "[1300]\ttraining's auc: 0.999986\tvalid_1's auc: 0.761402\n",
      "[1400]\ttraining's auc: 0.999993\tvalid_1's auc: 0.76132\n",
      "[1500]\ttraining's auc: 0.999995\tvalid_1's auc: 0.762796\n",
      "Did not meet early stopping. Best iteration is:\n",
      "[1463]\ttraining's auc: 0.999995\tvalid_1's auc: 0.761812\n",
      "| \u001b[0m 29      \u001b[0m | \u001b[0m 0.7829  \u001b[0m | \u001b[0m 0.713   \u001b[0m | \u001b[0m 0.8976  \u001b[0m | \u001b[0m 0.5188  \u001b[0m | \u001b[0m 5.221   \u001b[0m | \u001b[0m 0.007828\u001b[0m | \u001b[0m 7.036   \u001b[0m | \u001b[0m 29.28   \u001b[0m | \u001b[0m 105.9   \u001b[0m |\n",
      "fold n°0\n",
      "Training until validation scores don't improve for 500 rounds\n"
     ]
    },
    {
     "name": "stderr",
     "output_type": "stream",
     "text": [
      "e:\\sources\\aiproject\\venv\\lib\\site-packages\\lightgbm\\engine.py:148: UserWarning: Found `n_estimators` in params. Will use it instead of argument\n",
      "  warnings.warn(\"Found `{}` in params. Will use it instead of argument\".format(alias))\n"
     ]
    },
    {
     "name": "stdout",
     "output_type": "stream",
     "text": [
      "[100]\ttraining's auc: 0.969433\tvalid_1's auc: 0.750519\n",
      "[200]\ttraining's auc: 0.987567\tvalid_1's auc: 0.763784\n",
      "[300]\ttraining's auc: 0.996248\tvalid_1's auc: 0.767469\n",
      "[400]\ttraining's auc: 0.999033\tvalid_1's auc: 0.767142\n",
      "[500]\ttraining's auc: 0.99987\tvalid_1's auc: 0.761846\n",
      "[600]\ttraining's auc: 0.999975\tvalid_1's auc: 0.762092\n",
      "[700]\ttraining's auc: 0.999992\tvalid_1's auc: 0.759417\n",
      "[800]\ttraining's auc: 0.999994\tvalid_1's auc: 0.758816\n",
      "Early stopping, best iteration is:\n",
      "[342]\ttraining's auc: 0.99781\tvalid_1's auc: 0.76867\n",
      "fold n°1\n",
      "Training until validation scores don't improve for 500 rounds\n"
     ]
    },
    {
     "name": "stderr",
     "output_type": "stream",
     "text": [
      "e:\\sources\\aiproject\\venv\\lib\\site-packages\\lightgbm\\engine.py:148: UserWarning: Found `n_estimators` in params. Will use it instead of argument\n",
      "  warnings.warn(\"Found `{}` in params. Will use it instead of argument\".format(alias))\n"
     ]
    },
    {
     "name": "stdout",
     "output_type": "stream",
     "text": [
      "[100]\ttraining's auc: 0.972603\tvalid_1's auc: 0.779551\n",
      "[200]\ttraining's auc: 0.989281\tvalid_1's auc: 0.792143\n",
      "[300]\ttraining's auc: 0.995865\tvalid_1's auc: 0.795855\n",
      "[400]\ttraining's auc: 0.998036\tvalid_1's auc: 0.801437\n",
      "[500]\ttraining's auc: 0.99858\tvalid_1's auc: 0.801918\n",
      "[600]\ttraining's auc: 0.998568\tvalid_1's auc: 0.800849\n",
      "[700]\ttraining's auc: 0.99885\tvalid_1's auc: 0.799674\n",
      "[800]\ttraining's auc: 0.999639\tvalid_1's auc: 0.800048\n",
      "[900]\ttraining's auc: 0.999934\tvalid_1's auc: 0.798846\n",
      "Early stopping, best iteration is:\n",
      "[424]\ttraining's auc: 0.998309\tvalid_1's auc: 0.802745\n",
      "fold n°2\n"
     ]
    },
    {
     "name": "stderr",
     "output_type": "stream",
     "text": [
      "e:\\sources\\aiproject\\venv\\lib\\site-packages\\lightgbm\\engine.py:148: UserWarning: Found `n_estimators` in params. Will use it instead of argument\n",
      "  warnings.warn(\"Found `{}` in params. Will use it instead of argument\".format(alias))\n"
     ]
    },
    {
     "name": "stdout",
     "output_type": "stream",
     "text": [
      "Training until validation scores don't improve for 500 rounds\n",
      "[100]\ttraining's auc: 0.969014\tvalid_1's auc: 0.728199\n",
      "[200]\ttraining's auc: 0.98516\tvalid_1's auc: 0.736972\n",
      "[300]\ttraining's auc: 0.994496\tvalid_1's auc: 0.749488\n",
      "[400]\ttraining's auc: 0.998072\tvalid_1's auc: 0.756046\n",
      "[500]\ttraining's auc: 0.999557\tvalid_1's auc: 0.755664\n",
      "[600]\ttraining's auc: 0.999937\tvalid_1's auc: 0.759134\n",
      "[700]\ttraining's auc: 0.99999\tvalid_1's auc: 0.761512\n",
      "[800]\ttraining's auc: 0.999998\tvalid_1's auc: 0.760036\n",
      "[900]\ttraining's auc: 1\tvalid_1's auc: 0.762414\n",
      "[1000]\ttraining's auc: 1\tvalid_1's auc: 0.762441\n",
      "[1100]\ttraining's auc: 1\tvalid_1's auc: 0.763124\n",
      "[1200]\ttraining's auc: 1\tvalid_1's auc: 0.763753\n",
      "[1300]\ttraining's auc: 1\tvalid_1's auc: 0.765174\n",
      "[1400]\ttraining's auc: 1\tvalid_1's auc: 0.765365\n",
      "[1500]\ttraining's auc: 1\tvalid_1's auc: 0.765037\n",
      "Did not meet early stopping. Best iteration is:\n",
      "[807]\ttraining's auc: 1\tvalid_1's auc: 0.760364\n",
      "fold n°3\n",
      "Training until validation scores don't improve for 500 rounds\n"
     ]
    },
    {
     "name": "stderr",
     "output_type": "stream",
     "text": [
      "e:\\sources\\aiproject\\venv\\lib\\site-packages\\lightgbm\\engine.py:148: UserWarning: Found `n_estimators` in params. Will use it instead of argument\n",
      "  warnings.warn(\"Found `{}` in params. Will use it instead of argument\".format(alias))\n"
     ]
    },
    {
     "name": "stdout",
     "output_type": "stream",
     "text": [
      "[100]\ttraining's auc: 0.96885\tvalid_1's auc: 0.771842\n",
      "[200]\ttraining's auc: 0.988026\tvalid_1's auc: 0.784166\n",
      "[300]\ttraining's auc: 0.995721\tvalid_1's auc: 0.787828\n",
      "[400]\ttraining's auc: 0.998892\tvalid_1's auc: 0.790151\n",
      "[500]\ttraining's auc: 0.999561\tvalid_1's auc: 0.791272\n",
      "[600]\ttraining's auc: 0.999936\tvalid_1's auc: 0.795015\n",
      "[700]\ttraining's auc: 0.999986\tvalid_1's auc: 0.795972\n",
      "[800]\ttraining's auc: 0.999996\tvalid_1's auc: 0.796928\n",
      "[900]\ttraining's auc: 0.999996\tvalid_1's auc: 0.796027\n",
      "[1000]\ttraining's auc: 0.999997\tvalid_1's auc: 0.797612\n",
      "[1100]\ttraining's auc: 0.999999\tvalid_1's auc: 0.796983\n",
      "[1200]\ttraining's auc: 0.999999\tvalid_1's auc: 0.79742\n",
      "[1300]\ttraining's auc: 0.999999\tvalid_1's auc: 0.798131\n",
      "[1400]\ttraining's auc: 0.999999\tvalid_1's auc: 0.79712\n",
      "[1500]\ttraining's auc: 0.999999\tvalid_1's auc: 0.798295\n",
      "Did not meet early stopping. Best iteration is:\n",
      "[1068]\ttraining's auc: 0.999999\tvalid_1's auc: 0.796764\n",
      "fold n°4\n"
     ]
    },
    {
     "name": "stderr",
     "output_type": "stream",
     "text": [
      "e:\\sources\\aiproject\\venv\\lib\\site-packages\\lightgbm\\engine.py:148: UserWarning: Found `n_estimators` in params. Will use it instead of argument\n",
      "  warnings.warn(\"Found `{}` in params. Will use it instead of argument\".format(alias))\n"
     ]
    },
    {
     "name": "stdout",
     "output_type": "stream",
     "text": [
      "Training until validation scores don't improve for 500 rounds\n",
      "[100]\ttraining's auc: 0.972896\tvalid_1's auc: 0.747465\n",
      "[200]\ttraining's auc: 0.988522\tvalid_1's auc: 0.747875\n",
      "[300]\ttraining's auc: 0.99568\tvalid_1's auc: 0.750772\n",
      "[400]\ttraining's auc: 0.998307\tvalid_1's auc: 0.754625\n",
      "[500]\ttraining's auc: 0.999504\tvalid_1's auc: 0.756265\n",
      "[600]\ttraining's auc: 0.999932\tvalid_1's auc: 0.757167\n",
      "[700]\ttraining's auc: 0.999988\tvalid_1's auc: 0.759326\n",
      "[800]\ttraining's auc: 0.999997\tvalid_1's auc: 0.761047\n",
      "[900]\ttraining's auc: 1\tvalid_1's auc: 0.763425\n",
      "[1000]\ttraining's auc: 1\tvalid_1's auc: 0.763042\n",
      "[1100]\ttraining's auc: 1\tvalid_1's auc: 0.763151\n",
      "[1200]\ttraining's auc: 1\tvalid_1's auc: 0.763753\n",
      "[1300]\ttraining's auc: 1\tvalid_1's auc: 0.764408\n",
      "[1400]\ttraining's auc: 1\tvalid_1's auc: 0.764709\n",
      "[1500]\ttraining's auc: 1\tvalid_1's auc: 0.76542\n",
      "Did not meet early stopping. Best iteration is:\n",
      "[841]\ttraining's auc: 1\tvalid_1's auc: 0.762523\n",
      "| \u001b[0m 30      \u001b[0m | \u001b[0m 0.7782  \u001b[0m | \u001b[0m 0.8433  \u001b[0m | \u001b[0m 0.9328  \u001b[0m | \u001b[0m 0.5392  \u001b[0m | \u001b[0m 3.623   \u001b[0m | \u001b[0m 0.00988 \u001b[0m | \u001b[0m 9.289   \u001b[0m | \u001b[0m 28.13   \u001b[0m | \u001b[0m 106.2   \u001b[0m |\n",
      "fold n°0\n"
     ]
    },
    {
     "name": "stderr",
     "output_type": "stream",
     "text": [
      "e:\\sources\\aiproject\\venv\\lib\\site-packages\\lightgbm\\engine.py:148: UserWarning: Found `n_estimators` in params. Will use it instead of argument\n",
      "  warnings.warn(\"Found `{}` in params. Will use it instead of argument\".format(alias))\n"
     ]
    },
    {
     "name": "stdout",
     "output_type": "stream",
     "text": [
      "Training until validation scores don't improve for 500 rounds\n",
      "[100]\ttraining's auc: 0.944369\tvalid_1's auc: 0.740692\n",
      "[200]\ttraining's auc: 0.963909\tvalid_1's auc: 0.766896\n",
      "[300]\ttraining's auc: 0.977759\tvalid_1's auc: 0.773174\n",
      "[400]\ttraining's auc: 0.986341\tvalid_1's auc: 0.77765\n",
      "[500]\ttraining's auc: 0.992415\tvalid_1's auc: 0.77503\n",
      "[600]\ttraining's auc: 0.995328\tvalid_1's auc: 0.773856\n",
      "[700]\ttraining's auc: 0.997586\tvalid_1's auc: 0.770827\n",
      "[800]\ttraining's auc: 0.998848\tvalid_1's auc: 0.770963\n",
      "Early stopping, best iteration is:\n",
      "[374]\ttraining's auc: 0.984176\tvalid_1's auc: 0.778797\n",
      "fold n°1\n",
      "Training until validation scores don't improve for 500 rounds\n"
     ]
    },
    {
     "name": "stderr",
     "output_type": "stream",
     "text": [
      "e:\\sources\\aiproject\\venv\\lib\\site-packages\\lightgbm\\engine.py:148: UserWarning: Found `n_estimators` in params. Will use it instead of argument\n",
      "  warnings.warn(\"Found `{}` in params. Will use it instead of argument\".format(alias))\n"
     ]
    },
    {
     "name": "stdout",
     "output_type": "stream",
     "text": [
      "[100]\ttraining's auc: 0.946941\tvalid_1's auc: 0.777361\n",
      "[200]\ttraining's auc: 0.967533\tvalid_1's auc: 0.790407\n",
      "[300]\ttraining's auc: 0.979818\tvalid_1's auc: 0.795615\n",
      "[400]\ttraining's auc: 0.987675\tvalid_1's auc: 0.800662\n",
      "[500]\ttraining's auc: 0.992283\tvalid_1's auc: 0.804508\n",
      "[600]\ttraining's auc: 0.995355\tvalid_1's auc: 0.809609\n",
      "[700]\ttraining's auc: 0.997115\tvalid_1's auc: 0.811505\n",
      "[800]\ttraining's auc: 0.998684\tvalid_1's auc: 0.811265\n",
      "[900]\ttraining's auc: 0.999475\tvalid_1's auc: 0.811372\n",
      "[1000]\ttraining's auc: 0.99984\tvalid_1's auc: 0.810651\n",
      "[1100]\ttraining's auc: 0.999956\tvalid_1's auc: 0.810116\n",
      "[1200]\ttraining's auc: 0.999985\tvalid_1's auc: 0.809716\n",
      "Early stopping, best iteration is:\n",
      "[750]\ttraining's auc: 0.997986\tvalid_1's auc: 0.81236\n",
      "fold n°2\n",
      "Training until validation scores don't improve for 500 rounds\n"
     ]
    },
    {
     "name": "stderr",
     "output_type": "stream",
     "text": [
      "e:\\sources\\aiproject\\venv\\lib\\site-packages\\lightgbm\\engine.py:148: UserWarning: Found `n_estimators` in params. Will use it instead of argument\n",
      "  warnings.warn(\"Found `{}` in params. Will use it instead of argument\".format(alias))\n"
     ]
    },
    {
     "name": "stdout",
     "output_type": "stream",
     "text": [
      "[100]\ttraining's auc: 0.948319\tvalid_1's auc: 0.737299\n",
      "[200]\ttraining's auc: 0.964727\tvalid_1's auc: 0.738447\n",
      "[300]\ttraining's auc: 0.977554\tvalid_1's auc: 0.742109\n",
      "[400]\ttraining's auc: 0.985935\tvalid_1's auc: 0.744651\n",
      "[500]\ttraining's auc: 0.9913\tvalid_1's auc: 0.746919\n",
      "[600]\ttraining's auc: 0.994693\tvalid_1's auc: 0.751646\n",
      "[700]\ttraining's auc: 0.996866\tvalid_1's auc: 0.75386\n",
      "[800]\ttraining's auc: 0.998459\tvalid_1's auc: 0.755828\n",
      "[900]\ttraining's auc: 0.99911\tvalid_1's auc: 0.757959\n",
      "[1000]\ttraining's auc: 0.999625\tvalid_1's auc: 0.758724\n",
      "[1100]\ttraining's auc: 0.999839\tvalid_1's auc: 0.759353\n",
      "[1200]\ttraining's auc: 0.999946\tvalid_1's auc: 0.760747\n",
      "[1300]\ttraining's auc: 0.999983\tvalid_1's auc: 0.763507\n",
      "[1400]\ttraining's auc: 0.999992\tvalid_1's auc: 0.765283\n",
      "[1500]\ttraining's auc: 0.999997\tvalid_1's auc: 0.766349\n",
      "Did not meet early stopping. Best iteration is:\n",
      "[1476]\ttraining's auc: 0.999997\tvalid_1's auc: 0.765857\n",
      "fold n°3\n"
     ]
    },
    {
     "name": "stderr",
     "output_type": "stream",
     "text": [
      "e:\\sources\\aiproject\\venv\\lib\\site-packages\\lightgbm\\engine.py:148: UserWarning: Found `n_estimators` in params. Will use it instead of argument\n",
      "  warnings.warn(\"Found `{}` in params. Will use it instead of argument\".format(alias))\n"
     ]
    },
    {
     "name": "stdout",
     "output_type": "stream",
     "text": [
      "Training until validation scores don't improve for 500 rounds\n",
      "[100]\ttraining's auc: 0.944046\tvalid_1's auc: 0.768836\n",
      "[200]\ttraining's auc: 0.964528\tvalid_1's auc: 0.777389\n",
      "[300]\ttraining's auc: 0.979119\tvalid_1's auc: 0.78198\n",
      "[400]\ttraining's auc: 0.986962\tvalid_1's auc: 0.78597\n",
      "[500]\ttraining's auc: 0.991762\tvalid_1's auc: 0.789687\n",
      "[600]\ttraining's auc: 0.995382\tvalid_1's auc: 0.791927\n",
      "[700]\ttraining's auc: 0.99768\tvalid_1's auc: 0.794633\n",
      "[800]\ttraining's auc: 0.998585\tvalid_1's auc: 0.797202\n",
      "[900]\ttraining's auc: 0.999222\tvalid_1's auc: 0.797448\n",
      "[1000]\ttraining's auc: 0.999711\tvalid_1's auc: 0.800399\n",
      "[1100]\ttraining's auc: 0.999874\tvalid_1's auc: 0.801574\n",
      "[1200]\ttraining's auc: 0.99994\tvalid_1's auc: 0.802203\n",
      "[1300]\ttraining's auc: 0.999967\tvalid_1's auc: 0.802394\n",
      "[1400]\ttraining's auc: 0.99998\tvalid_1's auc: 0.803378\n",
      "[1500]\ttraining's auc: 0.999987\tvalid_1's auc: 0.80387\n",
      "Did not meet early stopping. Best iteration is:\n",
      "[1432]\ttraining's auc: 0.999987\tvalid_1's auc: 0.803186\n",
      "fold n°4\n"
     ]
    },
    {
     "name": "stderr",
     "output_type": "stream",
     "text": [
      "e:\\sources\\aiproject\\venv\\lib\\site-packages\\lightgbm\\engine.py:148: UserWarning: Found `n_estimators` in params. Will use it instead of argument\n",
      "  warnings.warn(\"Found `{}` in params. Will use it instead of argument\".format(alias))\n"
     ]
    },
    {
     "name": "stdout",
     "output_type": "stream",
     "text": [
      "Training until validation scores don't improve for 500 rounds\n",
      "[100]\ttraining's auc: 0.951569\tvalid_1's auc: 0.743243\n",
      "[200]\ttraining's auc: 0.967876\tvalid_1's auc: 0.744213\n",
      "[300]\ttraining's auc: 0.980756\tvalid_1's auc: 0.749542\n",
      "[400]\ttraining's auc: 0.988071\tvalid_1's auc: 0.752166\n",
      "[500]\ttraining's auc: 0.992731\tvalid_1's auc: 0.7555\n",
      "[600]\ttraining's auc: 0.995749\tvalid_1's auc: 0.754844\n",
      "[700]\ttraining's auc: 0.997617\tvalid_1's auc: 0.755336\n",
      "[800]\ttraining's auc: 0.998735\tvalid_1's auc: 0.755882\n",
      "[900]\ttraining's auc: 0.999372\tvalid_1's auc: 0.757057\n",
      "[1000]\ttraining's auc: 0.999733\tvalid_1's auc: 0.757413\n",
      "[1100]\ttraining's auc: 0.999879\tvalid_1's auc: 0.757932\n",
      "[1200]\ttraining's auc: 0.999958\tvalid_1's auc: 0.759162\n",
      "[1300]\ttraining's auc: 0.999988\tvalid_1's auc: 0.758588\n",
      "[1400]\ttraining's auc: 0.999992\tvalid_1's auc: 0.757823\n",
      "[1500]\ttraining's auc: 0.999997\tvalid_1's auc: 0.757713\n",
      "Did not meet early stopping. Best iteration is:\n",
      "[1496]\ttraining's auc: 0.999997\tvalid_1's auc: 0.757659\n",
      "| \u001b[0m 31      \u001b[0m | \u001b[0m 0.7836  \u001b[0m | \u001b[0m 0.7669  \u001b[0m | \u001b[0m 0.9454  \u001b[0m | \u001b[0m 0.9242  \u001b[0m | \u001b[0m 4.066   \u001b[0m | \u001b[0m 0.00688 \u001b[0m | \u001b[0m 7.328   \u001b[0m | \u001b[0m 29.68   \u001b[0m | \u001b[0m 106.3   \u001b[0m |\n",
      "fold n°0\n",
      "Training until validation scores don't improve for 500 rounds\n"
     ]
    },
    {
     "name": "stderr",
     "output_type": "stream",
     "text": [
      "e:\\sources\\aiproject\\venv\\lib\\site-packages\\lightgbm\\engine.py:148: UserWarning: Found `n_estimators` in params. Will use it instead of argument\n",
      "  warnings.warn(\"Found `{}` in params. Will use it instead of argument\".format(alias))\n"
     ]
    },
    {
     "name": "stdout",
     "output_type": "stream",
     "text": [
      "[100]\ttraining's auc: 0.956319\tvalid_1's auc: 0.74667\n",
      "[200]\ttraining's auc: 0.97162\tvalid_1's auc: 0.763566\n",
      "[300]\ttraining's auc: 0.983351\tvalid_1's auc: 0.769626\n",
      "[400]\ttraining's auc: 0.989822\tvalid_1's auc: 0.774047\n",
      "[500]\ttraining's auc: 0.994801\tvalid_1's auc: 0.774812\n",
      "[600]\ttraining's auc: 0.997245\tvalid_1's auc: 0.774238\n",
      "[700]\ttraining's auc: 0.998734\tvalid_1's auc: 0.770226\n",
      "[800]\ttraining's auc: 0.999532\tvalid_1's auc: 0.770035\n",
      "[900]\ttraining's auc: 0.999829\tvalid_1's auc: 0.767142\n",
      "[1000]\ttraining's auc: 0.999945\tvalid_1's auc: 0.767769\n",
      "Early stopping, best iteration is:\n",
      "[582]\ttraining's auc: 0.996939\tvalid_1's auc: 0.775412\n",
      "fold n°1\n",
      "Training until validation scores don't improve for 500 rounds\n"
     ]
    },
    {
     "name": "stderr",
     "output_type": "stream",
     "text": [
      "e:\\sources\\aiproject\\venv\\lib\\site-packages\\lightgbm\\engine.py:148: UserWarning: Found `n_estimators` in params. Will use it instead of argument\n",
      "  warnings.warn(\"Found `{}` in params. Will use it instead of argument\".format(alias))\n"
     ]
    },
    {
     "name": "stdout",
     "output_type": "stream",
     "text": [
      "[100]\ttraining's auc: 0.960538\tvalid_1's auc: 0.769109\n",
      "[200]\ttraining's auc: 0.974102\tvalid_1's auc: 0.785386\n",
      "[300]\ttraining's auc: 0.985428\tvalid_1's auc: 0.790861\n",
      "[400]\ttraining's auc: 0.991168\tvalid_1's auc: 0.798553\n",
      "[500]\ttraining's auc: 0.994824\tvalid_1's auc: 0.800155\n",
      "[600]\ttraining's auc: 0.996622\tvalid_1's auc: 0.803333\n",
      "[700]\ttraining's auc: 0.998\tvalid_1's auc: 0.803547\n",
      "[800]\ttraining's auc: 0.999202\tvalid_1's auc: 0.802719\n",
      "[900]\ttraining's auc: 0.999765\tvalid_1's auc: 0.804241\n",
      "[1000]\ttraining's auc: 0.999945\tvalid_1's auc: 0.803894\n",
      "[1100]\ttraining's auc: 0.999987\tvalid_1's auc: 0.804268\n",
      "[1200]\ttraining's auc: 0.999992\tvalid_1's auc: 0.804054\n",
      "[1300]\ttraining's auc: 0.999992\tvalid_1's auc: 0.804508\n",
      "[1400]\ttraining's auc: 0.999992\tvalid_1's auc: 0.8036\n",
      "[1500]\ttraining's auc: 0.999994\tvalid_1's auc: 0.80328\n",
      "Did not meet early stopping. Best iteration is:\n",
      "[1486]\ttraining's auc: 0.999994\tvalid_1's auc: 0.80328\n",
      "fold n°2\n"
     ]
    },
    {
     "name": "stderr",
     "output_type": "stream",
     "text": [
      "e:\\sources\\aiproject\\venv\\lib\\site-packages\\lightgbm\\engine.py:148: UserWarning: Found `n_estimators` in params. Will use it instead of argument\n",
      "  warnings.warn(\"Found `{}` in params. Will use it instead of argument\".format(alias))\n"
     ]
    },
    {
     "name": "stdout",
     "output_type": "stream",
     "text": [
      "Training until validation scores don't improve for 500 rounds\n",
      "[100]\ttraining's auc: 0.959693\tvalid_1's auc: 0.73648\n",
      "[200]\ttraining's auc: 0.971903\tvalid_1's auc: 0.740907\n",
      "[300]\ttraining's auc: 0.982903\tvalid_1's auc: 0.743448\n",
      "[400]\ttraining's auc: 0.989395\tvalid_1's auc: 0.747821\n",
      "[500]\ttraining's auc: 0.993641\tvalid_1's auc: 0.74905\n",
      "[600]\ttraining's auc: 0.996708\tvalid_1's auc: 0.751838\n",
      "[700]\ttraining's auc: 0.99817\tvalid_1's auc: 0.755008\n",
      "[800]\ttraining's auc: 0.999292\tvalid_1's auc: 0.757959\n",
      "[900]\ttraining's auc: 0.999664\tvalid_1's auc: 0.760255\n",
      "[1000]\ttraining's auc: 0.999905\tvalid_1's auc: 0.76061\n",
      "[1100]\ttraining's auc: 0.999964\tvalid_1's auc: 0.76102\n",
      "[1200]\ttraining's auc: 0.99999\tvalid_1's auc: 0.761075\n",
      "[1300]\ttraining's auc: 0.999997\tvalid_1's auc: 0.762468\n",
      "[1400]\ttraining's auc: 0.999998\tvalid_1's auc: 0.764354\n",
      "[1500]\ttraining's auc: 1\tvalid_1's auc: 0.765201\n",
      "Did not meet early stopping. Best iteration is:\n",
      "[1448]\ttraining's auc: 1\tvalid_1's auc: 0.7649\n",
      "fold n°3\n"
     ]
    },
    {
     "name": "stderr",
     "output_type": "stream",
     "text": [
      "e:\\sources\\aiproject\\venv\\lib\\site-packages\\lightgbm\\engine.py:148: UserWarning: Found `n_estimators` in params. Will use it instead of argument\n",
      "  warnings.warn(\"Found `{}` in params. Will use it instead of argument\".format(alias))\n"
     ]
    },
    {
     "name": "stdout",
     "output_type": "stream",
     "text": [
      "Training until validation scores don't improve for 500 rounds\n",
      "[100]\ttraining's auc: 0.956744\tvalid_1's auc: 0.770257\n",
      "[200]\ttraining's auc: 0.973118\tvalid_1's auc: 0.782117\n",
      "[300]\ttraining's auc: 0.98458\tvalid_1's auc: 0.785096\n",
      "[400]\ttraining's auc: 0.991073\tvalid_1's auc: 0.788484\n",
      "[500]\ttraining's auc: 0.994511\tvalid_1's auc: 0.790944\n",
      "[600]\ttraining's auc: 0.997258\tvalid_1's auc: 0.791408\n",
      "[700]\ttraining's auc: 0.998853\tvalid_1's auc: 0.792091\n",
      "[800]\ttraining's auc: 0.99939\tvalid_1's auc: 0.792747\n",
      "[900]\ttraining's auc: 0.999736\tvalid_1's auc: 0.792501\n",
      "[1000]\ttraining's auc: 0.999919\tvalid_1's auc: 0.793485\n",
      "[1100]\ttraining's auc: 0.999964\tvalid_1's auc: 0.793594\n",
      "[1200]\ttraining's auc: 0.999979\tvalid_1's auc: 0.794906\n",
      "[1300]\ttraining's auc: 0.999989\tvalid_1's auc: 0.795125\n",
      "[1400]\ttraining's auc: 0.999992\tvalid_1's auc: 0.795207\n",
      "[1500]\ttraining's auc: 0.999996\tvalid_1's auc: 0.795261\n",
      "Did not meet early stopping. Best iteration is:\n",
      "[1432]\ttraining's auc: 0.999996\tvalid_1's auc: 0.795398\n",
      "fold n°4\n"
     ]
    },
    {
     "name": "stderr",
     "output_type": "stream",
     "text": [
      "e:\\sources\\aiproject\\venv\\lib\\site-packages\\lightgbm\\engine.py:148: UserWarning: Found `n_estimators` in params. Will use it instead of argument\n",
      "  warnings.warn(\"Found `{}` in params. Will use it instead of argument\".format(alias))\n"
     ]
    },
    {
     "name": "stdout",
     "output_type": "stream",
     "text": [
      "Training until validation scores don't improve for 500 rounds\n",
      "[100]\ttraining's auc: 0.963267\tvalid_1's auc: 0.750048\n",
      "[200]\ttraining's auc: 0.976227\tvalid_1's auc: 0.755363\n",
      "[300]\ttraining's auc: 0.98582\tvalid_1's auc: 0.756128\n",
      "[400]\ttraining's auc: 0.991566\tvalid_1's auc: 0.753751\n",
      "[500]\ttraining's auc: 0.995265\tvalid_1's auc: 0.755828\n",
      "[600]\ttraining's auc: 0.997533\tvalid_1's auc: 0.756429\n",
      "[700]\ttraining's auc: 0.998849\tvalid_1's auc: 0.757577\n",
      "[800]\ttraining's auc: 0.999482\tvalid_1's auc: 0.758998\n",
      "[900]\ttraining's auc: 0.999825\tvalid_1's auc: 0.760911\n",
      "[1000]\ttraining's auc: 0.999944\tvalid_1's auc: 0.762769\n",
      "[1100]\ttraining's auc: 0.999983\tvalid_1's auc: 0.762878\n",
      "[1200]\ttraining's auc: 0.999993\tvalid_1's auc: 0.762332\n",
      "[1300]\ttraining's auc: 0.999998\tvalid_1's auc: 0.762496\n",
      "[1400]\ttraining's auc: 1\tvalid_1's auc: 0.763507\n",
      "[1500]\ttraining's auc: 1\tvalid_1's auc: 0.763343\n",
      "Did not meet early stopping. Best iteration is:\n",
      "[1311]\ttraining's auc: 1\tvalid_1's auc: 0.76266\n",
      "| \u001b[0m 32      \u001b[0m | \u001b[0m 0.7803  \u001b[0m | \u001b[0m 0.7883  \u001b[0m | \u001b[0m 0.9788  \u001b[0m | \u001b[0m 0.8061  \u001b[0m | \u001b[0m 2.972   \u001b[0m | \u001b[0m 0.006032\u001b[0m | \u001b[0m 9.646   \u001b[0m | \u001b[0m 29.63   \u001b[0m | \u001b[0m 104.4   \u001b[0m |\n",
      "=========================================================================================================================\n"
     ]
    }
   ],
   "source": [
    "#BAYES OPTIMZE HYPERPRAMS\n",
    "from bayes_opt import BayesianOptimization\n",
    "\n",
    "fold__ = 5\n",
    "def LGB_CV(\n",
    "          max_depth,\n",
    "          num_leaves,\n",
    "          min_data_in_leaf,\n",
    "          feature_fraction,\n",
    "          bagging_fraction,\n",
    "          lambda_l1,\n",
    "          lambda_l2,\n",
    "          learning_rate\n",
    "         ):\n",
    "    num_round = 10000\n",
    "    kfold = 5\n",
    "    folds = StratifiedKFold(n_splits=kfold, shuffle=True, random_state=7)\n",
    "    oof = np.zeros(len(train_X))\n",
    "\n",
    "    for fold_, (trn_idx, val_idx) in enumerate(folds.split(train_X.values, train_y.values)):\n",
    "        print(\"fold n°{}\".format(fold_))\n",
    "        param = {\n",
    "            'num_leaves': int(num_leaves),\n",
    "            'min_data_in_leaf': int(min_data_in_leaf), \n",
    "            'objective':'binary',\n",
    "            'max_depth': int(max_depth),\n",
    "            'learning_rate': learning_rate,\n",
    "            \"feature_fraction\": feature_fraction,\n",
    "            \"bagging_freq\": 1,\n",
    "            \"bagging_fraction\": bagging_fraction ,\n",
    "            \"bagging_seed\": 11,\n",
    "            \"metric\": 'auc',\n",
    "            \"lambda_l1\": lambda_l1,\n",
    "            \"lambda_l2\": lambda_l2,\n",
    "            'n_estimators': 1500,\n",
    "            'boosting' : 'gbdt',\n",
    "            \"verbosity\": -1,\n",
    "            'seed':int(2**fold__),\n",
    "            'bagging_seed':int(2**fold__),\n",
    "            'drop_seed':int(2**fold__)\n",
    "        }\n",
    "        trn_data = lgb.Dataset(train_X.iloc[trn_idx][train_cols], label=train_y.iloc[trn_idx])\n",
    "        val_data = lgb.Dataset(train_X.iloc[val_idx][train_cols], label=train_y.iloc[val_idx])\n",
    "        clf = lgb.train(param, trn_data, num_round, valid_sets = [trn_data, val_data], verbose_eval=100, early_stopping_rounds=500)\n",
    "        oof[val_idx] = clf.predict(train_X.iloc[val_idx][train_cols], num_iteration=clf.best_iteration)\n",
    "        score_arr[fold_] = roc_auc_score(train_y.iloc[val_idx], oof[val_idx])\n",
    "#         gc.collect()\n",
    "        \n",
    "    return np.mean(score_arr)\n",
    "LGB_BO = BayesianOptimization(LGB_CV, {\n",
    "    'max_depth': (4, 10),\n",
    "    'num_leaves': (5, 130),\n",
    "    'min_data_in_leaf': (10, 150),\n",
    "    'feature_fraction': (0.7, 1.0),\n",
    "    'bagging_fraction': (0.7, 1.0),\n",
    "    'lambda_l1': (0, 1),\n",
    "    'lambda_l2': (0, 6),\n",
    "    'learning_rate':(0.005, 0.01)\n",
    "})\n",
    "\n",
    "LGB_BO.maximize(init_points=2, n_iter=30, acq='ei', xi=0.0)"
   ]
  },
  {
   "cell_type": "code",
   "execution_count": 35,
   "metadata": {},
   "outputs": [
    {
     "data": {
      "text/plain": [
       "{'target': 0.7872965693769179,\n",
       " 'params': {'bagging_fraction': 0.7015430658648405,\n",
       "  'feature_fraction': 0.8276281544513822,\n",
       "  'lambda_l1': 0.8802009827265584,\n",
       "  'lambda_l2': 4.502790794662467,\n",
       "  'learning_rate': 0.007085213245768769,\n",
       "  'max_depth': 9.42242538551222,\n",
       "  'min_data_in_leaf': 28.772922771634803,\n",
       "  'num_leaves': 102.79438526024116}}"
      ]
     },
     "execution_count": 35,
     "metadata": {},
     "output_type": "execute_result"
    }
   ],
   "source": [
    "LGB_BO.max"
   ]
  },
  {
   "cell_type": "code",
   "execution_count": 49,
   "metadata": {},
   "outputs": [],
   "source": [
    "from sklearn.metrics import average_precision_score\n",
    "from sklearn.metrics import plot_precision_recall_curve\n",
    "def auprc(y_true, y_score):\n",
    "    return average_precision_score(y_true, y_score)\n",
    "def lgb_auprc(y_pred, dataset_true):\n",
    "    y_true = dataset_true.get_label()\n",
    "    return 'auprc', auprc(y_true, y_pred), True"
   ]
  },
  {
   "cell_type": "code",
   "execution_count": 58,
   "metadata": {},
   "outputs": [
    {
     "data": {
      "text/plain": [
       "[1, 3, 3, 4, 7, 8, 2159, 2026, 14, 14, 3, 9, 434, 443, 9, 442]"
      ]
     },
     "execution_count": 58,
     "metadata": {},
     "output_type": "execute_result"
    }
   ],
   "source": [
    "[r for r in data.isna().sum() if r > 0 ]"
   ]
  },
  {
   "cell_type": "code",
   "execution_count": null,
   "metadata": {},
   "outputs": [],
   "source": [
    "from sklearn.metrics import plot_precision_recall_curve"
   ]
  },
  {
   "cell_type": "code",
   "execution_count": null,
   "metadata": {},
   "outputs": [],
   "source": [
    "# LOGICSTIC REGRESSION\n"
   ]
  },
  {
   "cell_type": "code",
   "execution_count": 62,
   "metadata": {},
   "outputs": [
    {
     "name": "stdout",
     "output_type": "stream",
     "text": [
      "Fold 0\n",
      "Training until validation scores don't improve for 500 rounds\n",
      "[100]\ttraining's binary_logloss: 0.158181\ttraining's auprc: 0.637714\tvalid_1's binary_logloss: 0.180955\tvalid_1's auprc: 0.14409\n",
      "[200]\ttraining's binary_logloss: 0.134175\ttraining's auprc: 0.761089\tvalid_1's binary_logloss: 0.175339\tvalid_1's auprc: 0.151787\n",
      "[300]\ttraining's binary_logloss: 0.115968\ttraining's auprc: 0.852416\tvalid_1's binary_logloss: 0.172331\tvalid_1's auprc: 0.168143\n",
      "[400]\ttraining's binary_logloss: 0.101182\ttraining's auprc: 0.908355\tvalid_1's binary_logloss: 0.170913\tvalid_1's auprc: 0.196919\n",
      "[500]\ttraining's binary_logloss: 0.0890126\ttraining's auprc: 0.943638\tvalid_1's binary_logloss: 0.170363\tvalid_1's auprc: 0.208757\n",
      "[600]\ttraining's binary_logloss: 0.0790388\ttraining's auprc: 0.963741\tvalid_1's binary_logloss: 0.170484\tvalid_1's auprc: 0.209835\n",
      "[700]\ttraining's binary_logloss: 0.0702786\ttraining's auprc: 0.975911\tvalid_1's binary_logloss: 0.171103\tvalid_1's auprc: 0.212403\n",
      "[800]\ttraining's binary_logloss: 0.0629416\ttraining's auprc: 0.984991\tvalid_1's binary_logloss: 0.172141\tvalid_1's auprc: 0.213269\n",
      "[900]\ttraining's binary_logloss: 0.0568866\ttraining's auprc: 0.990754\tvalid_1's binary_logloss: 0.173023\tvalid_1's auprc: 0.218707\n",
      "[1000]\ttraining's binary_logloss: 0.0515741\ttraining's auprc: 0.995004\tvalid_1's binary_logloss: 0.174336\tvalid_1's auprc: 0.221108\n",
      "Early stopping, best iteration is:\n",
      "[529]\ttraining's binary_logloss: 0.0859519\ttraining's auprc: 0.949829\tvalid_1's binary_logloss: 0.170151\tvalid_1's auprc: 0.213084\n",
      "Fold 1\n",
      "Training until validation scores don't improve for 500 rounds\n",
      "[100]\ttraining's binary_logloss: 0.158145\ttraining's auprc: 0.638551\tvalid_1's binary_logloss: 0.182048\tvalid_1's auprc: 0.160446\n",
      "[200]\ttraining's binary_logloss: 0.13438\ttraining's auprc: 0.778827\tvalid_1's binary_logloss: 0.175706\tvalid_1's auprc: 0.170673\n",
      "[300]\ttraining's binary_logloss: 0.116392\ttraining's auprc: 0.862954\tvalid_1's binary_logloss: 0.172694\tvalid_1's auprc: 0.188342\n",
      "[400]\ttraining's binary_logloss: 0.101737\ttraining's auprc: 0.91515\tvalid_1's binary_logloss: 0.171301\tvalid_1's auprc: 0.187635\n",
      "[500]\ttraining's binary_logloss: 0.0896835\ttraining's auprc: 0.946057\tvalid_1's binary_logloss: 0.170256\tvalid_1's auprc: 0.195478\n",
      "[600]\ttraining's binary_logloss: 0.0796597\ttraining's auprc: 0.965129\tvalid_1's binary_logloss: 0.169513\tvalid_1's auprc: 0.200391\n",
      "[700]\ttraining's binary_logloss: 0.0711493\ttraining's auprc: 0.978021\tvalid_1's binary_logloss: 0.169462\tvalid_1's auprc: 0.202417\n",
      "[800]\ttraining's binary_logloss: 0.0638393\ttraining's auprc: 0.985305\tvalid_1's binary_logloss: 0.169699\tvalid_1's auprc: 0.207851\n",
      "[900]\ttraining's binary_logloss: 0.0577252\ttraining's auprc: 0.989368\tvalid_1's binary_logloss: 0.170126\tvalid_1's auprc: 0.209897\n",
      "[1000]\ttraining's binary_logloss: 0.0524834\ttraining's auprc: 0.992593\tvalid_1's binary_logloss: 0.170717\tvalid_1's auprc: 0.214958\n",
      "[1100]\ttraining's binary_logloss: 0.0480207\ttraining's auprc: 0.99429\tvalid_1's binary_logloss: 0.171819\tvalid_1's auprc: 0.213268\n",
      "[1200]\ttraining's binary_logloss: 0.044082\ttraining's auprc: 0.995194\tvalid_1's binary_logloss: 0.172598\tvalid_1's auprc: 0.213856\n",
      "Early stopping, best iteration is:\n",
      "[725]\ttraining's binary_logloss: 0.0691144\ttraining's auprc: 0.979888\tvalid_1's binary_logloss: 0.169248\tvalid_1's auprc: 0.204037\n",
      "Fold 2\n",
      "Training until validation scores don't improve for 500 rounds\n",
      "[100]\ttraining's binary_logloss: 0.156181\ttraining's auprc: 0.632516\tvalid_1's binary_logloss: 0.182883\tvalid_1's auprc: 0.104644\n",
      "[200]\ttraining's binary_logloss: 0.132596\ttraining's auprc: 0.736129\tvalid_1's binary_logloss: 0.179417\tvalid_1's auprc: 0.108121\n",
      "[300]\ttraining's binary_logloss: 0.114629\ttraining's auprc: 0.835606\tvalid_1's binary_logloss: 0.177786\tvalid_1's auprc: 0.111869\n",
      "[400]\ttraining's binary_logloss: 0.100421\ttraining's auprc: 0.897547\tvalid_1's binary_logloss: 0.176823\tvalid_1's auprc: 0.116205\n",
      "[500]\ttraining's binary_logloss: 0.0883913\ttraining's auprc: 0.938598\tvalid_1's binary_logloss: 0.176341\tvalid_1's auprc: 0.121017\n",
      "[600]\ttraining's binary_logloss: 0.0783231\ttraining's auprc: 0.961512\tvalid_1's binary_logloss: 0.176778\tvalid_1's auprc: 0.123212\n",
      "[700]\ttraining's binary_logloss: 0.0699496\ttraining's auprc: 0.974985\tvalid_1's binary_logloss: 0.176941\tvalid_1's auprc: 0.1267\n",
      "[800]\ttraining's binary_logloss: 0.0627596\ttraining's auprc: 0.98418\tvalid_1's binary_logloss: 0.177675\tvalid_1's auprc: 0.128159\n",
      "[900]\ttraining's binary_logloss: 0.0566246\ttraining's auprc: 0.990345\tvalid_1's binary_logloss: 0.178113\tvalid_1's auprc: 0.130995\n",
      "Early stopping, best iteration is:\n",
      "[472]\ttraining's binary_logloss: 0.0915406\ttraining's auprc: 0.930066\tvalid_1's binary_logloss: 0.176165\tvalid_1's auprc: 0.121044\n",
      "Fold 3\n",
      "Training until validation scores don't improve for 500 rounds\n",
      "[100]\ttraining's binary_logloss: 0.157634\ttraining's auprc: 0.62185\tvalid_1's binary_logloss: 0.178872\tvalid_1's auprc: 0.175178\n",
      "[200]\ttraining's binary_logloss: 0.134034\ttraining's auprc: 0.751805\tvalid_1's binary_logloss: 0.172618\tvalid_1's auprc: 0.178756\n",
      "[300]\ttraining's binary_logloss: 0.115869\ttraining's auprc: 0.844714\tvalid_1's binary_logloss: 0.169988\tvalid_1's auprc: 0.192996\n",
      "[400]\ttraining's binary_logloss: 0.101258\ttraining's auprc: 0.902544\tvalid_1's binary_logloss: 0.168681\tvalid_1's auprc: 0.200362\n",
      "[500]\ttraining's binary_logloss: 0.0891789\ttraining's auprc: 0.939612\tvalid_1's binary_logloss: 0.167592\tvalid_1's auprc: 0.209664\n",
      "[600]\ttraining's binary_logloss: 0.0789332\ttraining's auprc: 0.961942\tvalid_1's binary_logloss: 0.167883\tvalid_1's auprc: 0.213148\n",
      "[700]\ttraining's binary_logloss: 0.070292\ttraining's auprc: 0.976707\tvalid_1's binary_logloss: 0.168144\tvalid_1's auprc: 0.21543\n",
      "[800]\ttraining's binary_logloss: 0.063133\ttraining's auprc: 0.984892\tvalid_1's binary_logloss: 0.168589\tvalid_1's auprc: 0.216297\n",
      "[900]\ttraining's binary_logloss: 0.0570608\ttraining's auprc: 0.990078\tvalid_1's binary_logloss: 0.16901\tvalid_1's auprc: 0.231996\n",
      "[1000]\ttraining's binary_logloss: 0.0518536\ttraining's auprc: 0.994223\tvalid_1's binary_logloss: 0.169652\tvalid_1's auprc: 0.231037\n",
      "Early stopping, best iteration is:\n",
      "[503]\ttraining's binary_logloss: 0.0888153\ttraining's auprc: 0.940478\tvalid_1's binary_logloss: 0.167541\tvalid_1's auprc: 0.210535\n",
      "Fold 4\n",
      "Training until validation scores don't improve for 500 rounds\n",
      "[100]\ttraining's binary_logloss: 0.156845\ttraining's auprc: 0.669703\tvalid_1's binary_logloss: 0.181525\tvalid_1's auprc: 0.149917\n",
      "[200]\ttraining's binary_logloss: 0.132754\ttraining's auprc: 0.779029\tvalid_1's binary_logloss: 0.176859\tvalid_1's auprc: 0.153277\n",
      "[300]\ttraining's binary_logloss: 0.115044\ttraining's auprc: 0.862123\tvalid_1's binary_logloss: 0.175913\tvalid_1's auprc: 0.151766\n",
      "[400]\ttraining's binary_logloss: 0.100444\ttraining's auprc: 0.918215\tvalid_1's binary_logloss: 0.175497\tvalid_1's auprc: 0.136278\n",
      "[500]\ttraining's binary_logloss: 0.0885075\ttraining's auprc: 0.951318\tvalid_1's binary_logloss: 0.175421\tvalid_1's auprc: 0.138321\n",
      "[600]\ttraining's binary_logloss: 0.0784854\ttraining's auprc: 0.967978\tvalid_1's binary_logloss: 0.175797\tvalid_1's auprc: 0.141584\n",
      "[700]\ttraining's binary_logloss: 0.0699876\ttraining's auprc: 0.978064\tvalid_1's binary_logloss: 0.175963\tvalid_1's auprc: 0.146121\n",
      "Early stopping, best iteration is:\n",
      "[285]\ttraining's binary_logloss: 0.117414\ttraining's auprc: 0.855234\tvalid_1's binary_logloss: 0.175906\tvalid_1's auprc: 0.155439\n",
      "Random state  7\n",
      "CV mean score: 0.18083 \n",
      "CV mean score 1: 0.77640 \n"
     ]
    }
   ],
   "source": [
    "# LGBM\n",
    "num_round = 10000\n",
    "kfold = 5\n",
    "random_state = 7\n",
    "folds = StratifiedKFold(n_splits=kfold, shuffle=True, random_state=random_state)\n",
    "oof = np.zeros(len(train_X))\n",
    "score_arr = np.zeros(kfold)\n",
    "score_arr_1 = np.zeros(kfold)\n",
    "feature_importance_df = pd.DataFrame()\n",
    "for fold_, (trn_idx, val_idx) in enumerate(folds.split(train_X.values, train_y.values)):\n",
    "    print(\"Fold {}\".format(fold_))\n",
    "    param = {'num_leaves': int(102.79438526024116),\n",
    "            'min_data_in_leaf': int(28.772922771634803), \n",
    "            'objective':'binary',\n",
    "            'max_depth': int(9.42),\n",
    "            'learning_rate': 0.007,\n",
    "            \"feature_fraction\": 0.82,\n",
    "            \"bagging_freq\": 1,\n",
    "            \"bagging_fraction\":  0.701 ,\n",
    "            \"metric\": None,\n",
    "            \"lambda_l1\": 0.8802009827265584,\n",
    "             'lambda_l2': 4.502790794662467,\n",
    "            'n_estimators': 1500,\n",
    "            'boosting' : 'gbdt',\n",
    "            \"verbosity\": -1}\n",
    "    trn_data = lgb.Dataset(train_X.iloc[trn_idx][train_cols], label=train_y.iloc[trn_idx])#, categorical_feature=category_cols)\n",
    "    val_data = lgb.Dataset(train_X.iloc[val_idx][train_cols], label=train_y.iloc[val_idx])#, categorical_feature=category_cols)\n",
    "    sc = StandardScaler()\n",
    "    train_X.iloc[trn_idx][train_cols] = sc.fit_transform(train_X.iloc[trn_idx][train_cols])\n",
    "    train_X.iloc[val_idx][train_cols] = sc.transform(train_X.iloc[val_idx][train_cols])\n",
    "    clf = lgb.train(param, trn_data, num_round, feval=lgb_auprc, valid_sets = [trn_data, val_data], verbose_eval=100, early_stopping_rounds=500)#, categorical_feature=category_cols)\n",
    "    oof[val_idx] = clf.predict(train_X.iloc[val_idx][train_cols], num_iteration=clf.best_iteration)\n",
    "#     prediction += clf.predict(test[train_cols], num_iteration=clf.best_iteration)\n",
    "    score_arr[fold_] = average_precision_score(train_y.iloc[val_idx], oof[val_idx])\n",
    "    score_arr_1[fold_] = roc_auc_score(train_y.iloc[val_idx], oof[val_idx])\n",
    "    fold_importance_df = pd.DataFrame()\n",
    "    fold_importance_df[\"feature\"] = train_cols\n",
    "    fold_importance_df[\"importance\"] = clf.feature_importance()\n",
    "    fold_importance_df[\"fold\"] = fold_ + 1\n",
    "    feature_importance_df = pd.concat([feature_importance_df, fold_importance_df], axis=0)\n",
    "#     disp = plot_precision_recall_curve(clf, train_X.iloc[val_idx][train_cols], train_y.iloc[val_idx])\n",
    "#     disp.ax_.set_title('2-class Precision-Recall curve: '\n",
    "#                        'AP={0:0.2f}'.format(score_arr[fold_]))\n",
    "print('Random state ', random_state)\n",
    "print(\"CV mean score: {:<8.5f}\".format(np.mean(score_arr)))\n",
    "print(\"CV mean score 1: {:<8.5f}\".format(np.mean(score_arr_1)))\n"
   ]
  },
  {
   "cell_type": "code",
   "execution_count": 42,
   "metadata": {},
   "outputs": [
    {
     "data": {
      "image/png": "[encoded data removed]",
      "text/plain": [
       "<Figure size 1008x1872 with 1 Axes>"
      ]
     },
     "metadata": {
      "needs_background": "light"
     },
     "output_type": "display_data"
    }
   ],
   "source": [
    "import matplotlib.pyplot as plt\n",
    "import seaborn as sns\n",
    "import warnings\n",
    "warnings.filterwarnings('ignore')\n",
    "cols = (feature_importance_df[[\"feature\", \"importance\"]]\n",
    "        .groupby(\"feature\")\n",
    "        .mean()\n",
    "        .sort_values(by=\"importance\", ascending=False)[-100:].index)\n",
    "best_features = feature_importance_df.loc[feature_importance_df.feature.isin(cols)]\n",
    "\n",
    "plt.figure(figsize=(14,26))\n",
    "sns.barplot(x=\"importance\", y=\"feature\", data=best_features.sort_values(by=\"importance\",ascending=False))\n",
    "plt.title('LightGBM Features (averaged over folds)')\n",
    "plt.tight_layout()\n",
    "plt.savefig('lgbm_importances.png')"
   ]
  },
  {
   "cell_type": "code",
   "execution_count": 43,
   "metadata": {},
   "outputs": [
    {
     "data": {
      "text/html": [
       "<div>\n",
       "<style scoped>\n",
       "    .dataframe tbody tr th:only-of-type {\n",
       "        vertical-align: middle;\n",
       "    }\n",
       "\n",
       "    .dataframe tbody tr th {\n",
       "        vertical-align: top;\n",
       "    }\n",
       "\n",
       "    .dataframe thead th {\n",
       "        text-align: right;\n",
       "    }\n",
       "</style>\n",
       "<table border=\"1\" class=\"dataframe\">\n",
       "  <thead>\n",
       "    <tr style=\"text-align: right;\">\n",
       "      <th></th>\n",
       "      <th>qed</th>\n",
       "      <th>FractionCSP3</th>\n",
       "      <th>HeavyAtomCount</th>\n",
       "      <th>NHOHCount</th>\n",
       "      <th>NOCount</th>\n",
       "      <th>NumAliphaticCarbocycles</th>\n",
       "      <th>NumAliphaticHeterocycles</th>\n",
       "      <th>NumAliphaticRings</th>\n",
       "      <th>NumAromaticCarbocycles</th>\n",
       "      <th>NumAromaticHeterocycles</th>\n",
       "      <th>...</th>\n",
       "      <th>LogBCF_pred</th>\n",
       "      <th>AD_BCF</th>\n",
       "      <th>BioDeg_LogHalfLife_pred</th>\n",
       "      <th>AD_BioDeg</th>\n",
       "      <th>ReadyBiodeg_pred</th>\n",
       "      <th>AD_ReadyBiodeg</th>\n",
       "      <th>LogKM_pred</th>\n",
       "      <th>AD_KM</th>\n",
       "      <th>LogKoc_pred</th>\n",
       "      <th>AD_LogKoc</th>\n",
       "    </tr>\n",
       "  </thead>\n",
       "  <tbody>\n",
       "    <tr>\n",
       "      <th>qed</th>\n",
       "      <td>1.000000</td>\n",
       "      <td>-0.134815</td>\n",
       "      <td>-0.538324</td>\n",
       "      <td>-0.420199</td>\n",
       "      <td>-0.569401</td>\n",
       "      <td>0.011934</td>\n",
       "      <td>-0.106914</td>\n",
       "      <td>-0.066114</td>\n",
       "      <td>-0.111773</td>\n",
       "      <td>-0.092546</td>\n",
       "      <td>...</td>\n",
       "      <td>-0.017197</td>\n",
       "      <td>0.516187</td>\n",
       "      <td>-0.202935</td>\n",
       "      <td>0.142937</td>\n",
       "      <td>-0.100341</td>\n",
       "      <td>0.293126</td>\n",
       "      <td>0.031571</td>\n",
       "      <td>0.521287</td>\n",
       "      <td>-0.234508</td>\n",
       "      <td>0.390801</td>\n",
       "    </tr>\n",
       "    <tr>\n",
       "      <th>FractionCSP3</th>\n",
       "      <td>-0.134815</td>\n",
       "      <td>1.000000</td>\n",
       "      <td>0.040478</td>\n",
       "      <td>0.130394</td>\n",
       "      <td>0.071941</td>\n",
       "      <td>0.422066</td>\n",
       "      <td>0.273884</td>\n",
       "      <td>0.498077</td>\n",
       "      <td>-0.559540</td>\n",
       "      <td>-0.341420</td>\n",
       "      <td>...</td>\n",
       "      <td>-0.105633</td>\n",
       "      <td>-0.139734</td>\n",
       "      <td>0.236228</td>\n",
       "      <td>0.001817</td>\n",
       "      <td>0.216461</td>\n",
       "      <td>0.014105</td>\n",
       "      <td>0.064902</td>\n",
       "      <td>-0.161988</td>\n",
       "      <td>-0.001193</td>\n",
       "      <td>-0.155449</td>\n",
       "    </tr>\n",
       "    <tr>\n",
       "      <th>HeavyAtomCount</th>\n",
       "      <td>-0.538324</td>\n",
       "      <td>0.040478</td>\n",
       "      <td>1.000000</td>\n",
       "      <td>0.235806</td>\n",
       "      <td>0.673122</td>\n",
       "      <td>0.170677</td>\n",
       "      <td>0.382440</td>\n",
       "      <td>0.391444</td>\n",
       "      <td>0.440038</td>\n",
       "      <td>0.215585</td>\n",
       "      <td>...</td>\n",
       "      <td>0.199647</td>\n",
       "      <td>-0.538826</td>\n",
       "      <td>0.372546</td>\n",
       "      <td>-0.217474</td>\n",
       "      <td>-0.370385</td>\n",
       "      <td>-0.316049</td>\n",
       "      <td>0.339812</td>\n",
       "      <td>-0.518610</td>\n",
       "      <td>0.629869</td>\n",
       "      <td>-0.564496</td>\n",
       "    </tr>\n",
       "    <tr>\n",
       "      <th>NHOHCount</th>\n",
       "      <td>-0.420199</td>\n",
       "      <td>0.130394</td>\n",
       "      <td>0.235806</td>\n",
       "      <td>1.000000</td>\n",
       "      <td>0.611386</td>\n",
       "      <td>-0.014772</td>\n",
       "      <td>0.070964</td>\n",
       "      <td>0.038908</td>\n",
       "      <td>-0.094722</td>\n",
       "      <td>-0.041307</td>\n",
       "      <td>...</td>\n",
       "      <td>-0.341508</td>\n",
       "      <td>-0.313234</td>\n",
       "      <td>0.107470</td>\n",
       "      <td>-0.083357</td>\n",
       "      <td>0.177298</td>\n",
       "      <td>-0.253745</td>\n",
       "      <td>-0.387362</td>\n",
       "      <td>-0.393877</td>\n",
       "      <td>-0.177350</td>\n",
       "      <td>-0.096884</td>\n",
       "    </tr>\n",
       "    <tr>\n",
       "      <th>NOCount</th>\n",
       "      <td>-0.569401</td>\n",
       "      <td>0.071941</td>\n",
       "      <td>0.673122</td>\n",
       "      <td>0.611386</td>\n",
       "      <td>1.000000</td>\n",
       "      <td>-0.061756</td>\n",
       "      <td>0.372473</td>\n",
       "      <td>0.215677</td>\n",
       "      <td>0.037949</td>\n",
       "      <td>0.276679</td>\n",
       "      <td>...</td>\n",
       "      <td>-0.354730</td>\n",
       "      <td>-0.569980</td>\n",
       "      <td>0.077185</td>\n",
       "      <td>-0.238559</td>\n",
       "      <td>-0.059142</td>\n",
       "      <td>-0.441558</td>\n",
       "      <td>-0.058787</td>\n",
       "      <td>-0.468775</td>\n",
       "      <td>0.069351</td>\n",
       "      <td>-0.423888</td>\n",
       "    </tr>\n",
       "    <tr>\n",
       "      <th>...</th>\n",
       "      <td>...</td>\n",
       "      <td>...</td>\n",
       "      <td>...</td>\n",
       "      <td>...</td>\n",
       "      <td>...</td>\n",
       "      <td>...</td>\n",
       "      <td>...</td>\n",
       "      <td>...</td>\n",
       "      <td>...</td>\n",
       "      <td>...</td>\n",
       "      <td>...</td>\n",
       "      <td>...</td>\n",
       "      <td>...</td>\n",
       "      <td>...</td>\n",
       "      <td>...</td>\n",
       "      <td>...</td>\n",
       "      <td>...</td>\n",
       "      <td>...</td>\n",
       "      <td>...</td>\n",
       "      <td>...</td>\n",
       "      <td>...</td>\n",
       "    </tr>\n",
       "    <tr>\n",
       "      <th>AD_ReadyBiodeg</th>\n",
       "      <td>0.293126</td>\n",
       "      <td>0.014105</td>\n",
       "      <td>-0.316049</td>\n",
       "      <td>-0.253745</td>\n",
       "      <td>-0.441558</td>\n",
       "      <td>0.061574</td>\n",
       "      <td>-0.159156</td>\n",
       "      <td>-0.066605</td>\n",
       "      <td>-0.040234</td>\n",
       "      <td>-0.292539</td>\n",
       "      <td>...</td>\n",
       "      <td>0.173784</td>\n",
       "      <td>0.359560</td>\n",
       "      <td>-0.219339</td>\n",
       "      <td>0.133159</td>\n",
       "      <td>0.015131</td>\n",
       "      <td>1.000000</td>\n",
       "      <td>0.036731</td>\n",
       "      <td>0.202746</td>\n",
       "      <td>-0.121063</td>\n",
       "      <td>0.519192</td>\n",
       "    </tr>\n",
       "    <tr>\n",
       "      <th>LogKM_pred</th>\n",
       "      <td>0.031571</td>\n",
       "      <td>0.064902</td>\n",
       "      <td>0.339812</td>\n",
       "      <td>-0.387362</td>\n",
       "      <td>-0.058787</td>\n",
       "      <td>0.233140</td>\n",
       "      <td>0.177767</td>\n",
       "      <td>0.294229</td>\n",
       "      <td>0.191826</td>\n",
       "      <td>0.135557</td>\n",
       "      <td>...</td>\n",
       "      <td>0.435912</td>\n",
       "      <td>-0.032585</td>\n",
       "      <td>0.264887</td>\n",
       "      <td>-0.033429</td>\n",
       "      <td>-0.341713</td>\n",
       "      <td>0.036731</td>\n",
       "      <td>1.000000</td>\n",
       "      <td>-0.068908</td>\n",
       "      <td>0.451380</td>\n",
       "      <td>-0.241557</td>\n",
       "    </tr>\n",
       "    <tr>\n",
       "      <th>AD_KM</th>\n",
       "      <td>0.521287</td>\n",
       "      <td>-0.161988</td>\n",
       "      <td>-0.518610</td>\n",
       "      <td>-0.393877</td>\n",
       "      <td>-0.468775</td>\n",
       "      <td>-0.228022</td>\n",
       "      <td>-0.185277</td>\n",
       "      <td>-0.295184</td>\n",
       "      <td>-0.111710</td>\n",
       "      <td>-0.116102</td>\n",
       "      <td>...</td>\n",
       "      <td>0.069111</td>\n",
       "      <td>0.524366</td>\n",
       "      <td>-0.312628</td>\n",
       "      <td>0.192813</td>\n",
       "      <td>0.076799</td>\n",
       "      <td>0.202746</td>\n",
       "      <td>-0.068908</td>\n",
       "      <td>1.000000</td>\n",
       "      <td>-0.327501</td>\n",
       "      <td>0.437443</td>\n",
       "    </tr>\n",
       "    <tr>\n",
       "      <th>LogKoc_pred</th>\n",
       "      <td>-0.234508</td>\n",
       "      <td>-0.001193</td>\n",
       "      <td>0.629869</td>\n",
       "      <td>-0.177350</td>\n",
       "      <td>0.069351</td>\n",
       "      <td>0.367740</td>\n",
       "      <td>0.102538</td>\n",
       "      <td>0.342252</td>\n",
       "      <td>0.454093</td>\n",
       "      <td>0.078440</td>\n",
       "      <td>...</td>\n",
       "      <td>0.497770</td>\n",
       "      <td>-0.196574</td>\n",
       "      <td>0.444374</td>\n",
       "      <td>-0.123594</td>\n",
       "      <td>-0.392824</td>\n",
       "      <td>-0.121063</td>\n",
       "      <td>0.451380</td>\n",
       "      <td>-0.327501</td>\n",
       "      <td>1.000000</td>\n",
       "      <td>-0.420273</td>\n",
       "    </tr>\n",
       "    <tr>\n",
       "      <th>AD_LogKoc</th>\n",
       "      <td>0.390801</td>\n",
       "      <td>-0.155449</td>\n",
       "      <td>-0.564496</td>\n",
       "      <td>-0.096884</td>\n",
       "      <td>-0.423888</td>\n",
       "      <td>-0.159871</td>\n",
       "      <td>-0.337367</td>\n",
       "      <td>-0.352071</td>\n",
       "      <td>-0.126315</td>\n",
       "      <td>-0.184349</td>\n",
       "      <td>...</td>\n",
       "      <td>-0.019043</td>\n",
       "      <td>0.459774</td>\n",
       "      <td>-0.356392</td>\n",
       "      <td>0.192734</td>\n",
       "      <td>0.174241</td>\n",
       "      <td>0.519192</td>\n",
       "      <td>-0.241557</td>\n",
       "      <td>0.437443</td>\n",
       "      <td>-0.420273</td>\n",
       "      <td>1.000000</td>\n",
       "    </tr>\n",
       "  </tbody>\n",
       "</table>\n",
       "<p>239 rows × 239 columns</p>\n",
       "</div>"
      ],
      "text/plain": [
       "                     qed  FractionCSP3  HeavyAtomCount  NHOHCount   NOCount  \\\n",
       "qed             1.000000     -0.134815       -0.538324  -0.420199 -0.569401   \n",
       "FractionCSP3   -0.134815      1.000000        0.040478   0.130394  0.071941   \n",
       "HeavyAtomCount -0.538324      0.040478        1.000000   0.235806  0.673122   \n",
       "NHOHCount      -0.420199      0.130394        0.235806   1.000000  0.611386   \n",
       "NOCount        -0.569401      0.071941        0.673122   0.611386  1.000000   \n",
       "...                  ...           ...             ...        ...       ...   \n",
       "AD_ReadyBiodeg  0.293126      0.014105       -0.316049  -0.253745 -0.441558   \n",
       "LogKM_pred      0.031571      0.064902        0.339812  -0.387362 -0.058787   \n",
       "AD_KM           0.521287     -0.161988       -0.518610  -0.393877 -0.468775   \n",
       "LogKoc_pred    -0.234508     -0.001193        0.629869  -0.177350  0.069351   \n",
       "AD_LogKoc       0.390801     -0.155449       -0.564496  -0.096884 -0.423888   \n",
       "\n",
       "                NumAliphaticCarbocycles  NumAliphaticHeterocycles  \\\n",
       "qed                            0.011934                 -0.106914   \n",
       "FractionCSP3                   0.422066                  0.273884   \n",
       "HeavyAtomCount                 0.170677                  0.382440   \n",
       "NHOHCount                     -0.014772                  0.070964   \n",
       "NOCount                       -0.061756                  0.372473   \n",
       "...                                 ...                       ...   \n",
       "AD_ReadyBiodeg                 0.061574                 -0.159156   \n",
       "LogKM_pred                     0.233140                  0.177767   \n",
       "AD_KM                         -0.228022                 -0.185277   \n",
       "LogKoc_pred                    0.367740                  0.102538   \n",
       "AD_LogKoc                     -0.159871                 -0.337367   \n",
       "\n",
       "                NumAliphaticRings  NumAromaticCarbocycles  \\\n",
       "qed                     -0.066114               -0.111773   \n",
       "FractionCSP3             0.498077               -0.559540   \n",
       "HeavyAtomCount           0.391444                0.440038   \n",
       "NHOHCount                0.038908               -0.094722   \n",
       "NOCount                  0.215677                0.037949   \n",
       "...                           ...                     ...   \n",
       "AD_ReadyBiodeg          -0.066605               -0.040234   \n",
       "LogKM_pred               0.294229                0.191826   \n",
       "AD_KM                   -0.295184               -0.111710   \n",
       "LogKoc_pred              0.342252                0.454093   \n",
       "AD_LogKoc               -0.352071               -0.126315   \n",
       "\n",
       "                NumAromaticHeterocycles  ...  LogBCF_pred    AD_BCF  \\\n",
       "qed                           -0.092546  ...    -0.017197  0.516187   \n",
       "FractionCSP3                  -0.341420  ...    -0.105633 -0.139734   \n",
       "HeavyAtomCount                 0.215585  ...     0.199647 -0.538826   \n",
       "NHOHCount                     -0.041307  ...    -0.341508 -0.313234   \n",
       "NOCount                        0.276679  ...    -0.354730 -0.569980   \n",
       "...                                 ...  ...          ...       ...   \n",
       "AD_ReadyBiodeg                -0.292539  ...     0.173784  0.359560   \n",
       "LogKM_pred                     0.135557  ...     0.435912 -0.032585   \n",
       "AD_KM                         -0.116102  ...     0.069111  0.524366   \n",
       "LogKoc_pred                    0.078440  ...     0.497770 -0.196574   \n",
       "AD_LogKoc                     -0.184349  ...    -0.019043  0.459774   \n",
       "\n",
       "                BioDeg_LogHalfLife_pred  AD_BioDeg  ReadyBiodeg_pred  \\\n",
       "qed                           -0.202935   0.142937         -0.100341   \n",
       "FractionCSP3                   0.236228   0.001817          0.216461   \n",
       "HeavyAtomCount                 0.372546  -0.217474         -0.370385   \n",
       "NHOHCount                      0.107470  -0.083357          0.177298   \n",
       "NOCount                        0.077185  -0.238559         -0.059142   \n",
       "...                                 ...        ...               ...   \n",
       "AD_ReadyBiodeg                -0.219339   0.133159          0.015131   \n",
       "LogKM_pred                     0.264887  -0.033429         -0.341713   \n",
       "AD_KM                         -0.312628   0.192813          0.076799   \n",
       "LogKoc_pred                    0.444374  -0.123594         -0.392824   \n",
       "AD_LogKoc                     -0.356392   0.192734          0.174241   \n",
       "\n",
       "                AD_ReadyBiodeg  LogKM_pred     AD_KM  LogKoc_pred  AD_LogKoc  \n",
       "qed                   0.293126    0.031571  0.521287    -0.234508   0.390801  \n",
       "FractionCSP3          0.014105    0.064902 -0.161988    -0.001193  -0.155449  \n",
       "HeavyAtomCount       -0.316049    0.339812 -0.518610     0.629869  -0.564496  \n",
       "NHOHCount            -0.253745   -0.387362 -0.393877    -0.177350  -0.096884  \n",
       "NOCount              -0.441558   -0.058787 -0.468775     0.069351  -0.423888  \n",
       "...                        ...         ...       ...          ...        ...  \n",
       "AD_ReadyBiodeg        1.000000    0.036731  0.202746    -0.121063   0.519192  \n",
       "LogKM_pred            0.036731    1.000000 -0.068908     0.451380  -0.241557  \n",
       "AD_KM                 0.202746   -0.068908  1.000000    -0.327501   0.437443  \n",
       "LogKoc_pred          -0.121063    0.451380 -0.327501     1.000000  -0.420273  \n",
       "AD_LogKoc             0.519192   -0.241557  0.437443    -0.420273   1.000000  \n",
       "\n",
       "[239 rows x 239 columns]"
      ]
     },
     "execution_count": 43,
     "metadata": {},
     "output_type": "execute_result"
    }
   ],
   "source": [
    "data[train_cols].corr()"
   ]
  }
 ],
 "metadata": {
  "kernelspec": {
   "display_name": "Python 3",
   "language": "python",
   "name": "python3"
  },
  "language_info": {
   "codemirror_mode": {
    "name": "ipython",
    "version": 3
   },
   "file_extension": ".py",
   "mimetype": "text/x-python",
   "name": "python",
   "nbconvert_exporter": "python",
   "pygments_lexer": "ipython3",
   "version": "3.7.6"
  }
 },
 "nbformat": 4,
 "nbformat_minor": 4
}
